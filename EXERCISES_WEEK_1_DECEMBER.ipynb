{
  "nbformat": 4,
  "nbformat_minor": 0,
  "metadata": {
    "colab": {
      "provenance": []
    },
    "kernelspec": {
      "name": "python3",
      "display_name": "Python 3"
    },
    "language_info": {
      "name": "python"
    }
  },
  "cells": [
    {
      "cell_type": "markdown",
      "source": [
        "## **15. Equations of second-order curves (conic sections)**"
      ],
      "metadata": {
        "id": "uLtFZkXLqPFW"
      }
    },
    {
      "cell_type": "markdown",
      "source": [
        "Find the equation of a circle with center at point\n",
        "A\n",
        "(\n",
        "1\n",
        ",\n",
        "2\n",
        ")\n",
        " and radius\n",
        "r\n",
        "=\n",
        "3\n",
        "."
      ],
      "metadata": {
        "id": "itAUXYljne0p"
      }
    },
    {
      "cell_type": "code",
      "execution_count": 1,
      "metadata": {
        "colab": {
          "base_uri": "https://localhost:8080/"
        },
        "id": "vzut6aZcmvMt",
        "outputId": "ee80b11e-2b55-449e-debe-de0acadd1270"
      },
      "outputs": [
        {
          "output_type": "stream",
          "name": "stdout",
          "text": [
            "Equation of the circle: Eq((x - 1)**2 + (y - 2)**2, 9)\n"
          ]
        }
      ],
      "source": [
        "from sympy import symbols, Eq\n",
        "\n",
        "# Define symbols for x and y\n",
        "x, y = symbols('x y')\n",
        "\n",
        "# Circle parameters\n",
        "center_x, center_y = 1, 2  # Center of the circle\n",
        "radius = 3                # Radius of the circle\n",
        "\n",
        "# Equation of the circle\n",
        "circle_eq = Eq((x - center_x)**2 + (y - center_y)**2, radius**2)\n",
        "\n",
        "# Output the equation of the circle\n",
        "print(\"Equation of the circle:\", circle_eq)\n"
      ]
    },
    {
      "cell_type": "markdown",
      "source": [
        "Find the equation of a parabola intersecting the\n",
        "O\n",
        "x\n",
        " axis at points\n",
        "x\n",
        "=\n",
        "2\n",
        ",\n",
        "x\n",
        "=\n",
        "4\n",
        ", and passing through point\n",
        "y\n",
        "(\n",
        "3\n",
        ")\n",
        "=\n",
        "1\n",
        "."
      ],
      "metadata": {
        "id": "6LLpj-cCoE6z"
      }
    },
    {
      "cell_type": "code",
      "source": [
        "from sympy import symbols, Eq, solve\n",
        "\n",
        "# Define symbols for x and y\n",
        "x, y = symbols('x y')\n",
        "\n",
        "# Parabola parameters\n",
        "# Intersects x-axis at x = 2 and x = 4, and passes through point (3, 1)\n",
        "a = symbols('a')\n",
        "parabola_eq = a * (x - 2) * (x - 4)  # General form of the parabola\n",
        "\n",
        "# Condition: Passes through point (3, 1)\n",
        "point_condition = parabola_eq.subs(x, 3) - 1\n",
        "\n",
        "a_value = solve(point_condition, a)[0]  # Solve for 'a'\n",
        "final_parabola_eq = Eq(y, a_value * (x - 2) * (x - 4))\n",
        "\n",
        "# Output the equation of the parabola\n",
        "print(\"Equation of the parabola:\", final_parabola_eq)\n"
      ],
      "metadata": {
        "colab": {
          "base_uri": "https://localhost:8080/"
        },
        "id": "UgukwOB7oEO7",
        "outputId": "23c32ef2-1f92-49b9-ef2f-e26be802896f"
      },
      "execution_count": 2,
      "outputs": [
        {
          "output_type": "stream",
          "name": "stdout",
          "text": [
            "Equation of the parabola: Eq(y, (2 - x)*(x - 4))\n"
          ]
        }
      ]
    },
    {
      "cell_type": "markdown",
      "source": [
        "Find the center of the ellipse with the equation\n",
        "x\n",
        "2\n",
        "+\n",
        "4\n",
        "y\n",
        "2\n",
        "−\n",
        "4\n",
        "x\n",
        "−\n",
        "16\n",
        "y\n",
        "+\n",
        "16\n",
        "=\n",
        "0\n",
        "."
      ],
      "metadata": {
        "id": "JT5PH1IMoUVh"
      }
    },
    {
      "cell_type": "code",
      "source": [
        "from sympy import symbols, Eq, solve\n",
        "\n",
        "# Define symbols for x and y\n",
        "x, y = symbols('x y')\n",
        "\n",
        "# Parabola parameters\n",
        "# Intersects x-axis at x = 2 and x = 4, and passes through point (3, 1)\n",
        "a = symbols('a')\n",
        "parabola_eq = a * (x - 2) * (x - 4)  # General form of the parabola\n",
        "\n",
        "# Condition: Passes through point (3, 1)\n",
        "point_condition = parabola_eq.subs(x, 3) - 1\n",
        "\n",
        "a_value = solve(point_condition, a)[0]  # Solve for 'a'\n",
        "final_parabola_eq = Eq(y, a_value * (x - 2) * (x - 4))\n",
        "\n",
        "# Output the equation of the parabola\n",
        "print(\"Equation of the parabola:\", final_parabola_eq)\n",
        "\n",
        "# Ellipse parameters\n",
        "# Equation: x^2 + 4y^2 - 4x - 16y + 16 = 0\n",
        "ellipse_eq = x**2 + 4*y**2 - 4*x - 16*y + 16\n",
        "\n",
        "# Completing the square for x and y\n",
        "x_center = -solve(2*(x - 1), x)[0]  # Center of x\n",
        "y_center = -solve(8*(y - 2), y)[0]  # Center of y\n",
        "\n",
        "# Center of the ellipse\n",
        "ellipse_center = (x_center, y_center)\n",
        "print(\"Center of the ellipse:\", ellipse_center)\n"
      ],
      "metadata": {
        "colab": {
          "base_uri": "https://localhost:8080/"
        },
        "id": "PSO7vQrHoUJS",
        "outputId": "6af5edbc-774c-4ee7-bf88-0df8e86e67dd"
      },
      "execution_count": 3,
      "outputs": [
        {
          "output_type": "stream",
          "name": "stdout",
          "text": [
            "Equation of the parabola: Eq(y, (2 - x)*(x - 4))\n",
            "Center of the ellipse: (-1, -2)\n"
          ]
        }
      ]
    },
    {
      "cell_type": "markdown",
      "source": [
        "Find the slope (\n",
        "m\n",
        ">\n",
        "0\n",
        ") of the line\n",
        "y\n",
        "=\n",
        "m\n",
        "x\n",
        "−\n",
        "5\n",
        " that is tangent to the circle with the equation\n",
        "x\n",
        "2\n",
        "+\n",
        "y\n",
        "2\n",
        "=\n",
        "1\n",
        "."
      ],
      "metadata": {
        "id": "S2R8iiRgobpa"
      }
    },
    {
      "cell_type": "code",
      "source": [
        "from sympy import symbols, Eq, solve\n",
        "\n",
        "# Define symbols for x, y, and m\n",
        "x, y, m = symbols('x y m', positive=True)\n",
        "\n",
        "# Circle equation: x^2 + y^2 = 1\n",
        "circle_eq = x**2 + y**2 - 1\n",
        "\n",
        "# Line equation: y = m*x - 5\n",
        "line_eq = y - (m * x - 5)\n",
        "\n",
        "# Substitute y from the line equation into the circle equation\n",
        "substituted_eq = circle_eq.subs(y, m * x - 5)\n",
        "\n",
        "# Expand the substituted equation\n",
        "substituted_eq = substituted_eq.expand()\n",
        "\n",
        "# Solve for x to find intersection points\n",
        "intersection = solve(substituted_eq, x)\n",
        "\n",
        "# Tangency condition: The discriminant of the quadratic equation must be zero\n",
        "a = substituted_eq.coeff(x**2)\n",
        "b = substituted_eq.coeff(x)\n",
        "c = substituted_eq.subs(x, 0)\n",
        "\n",
        "discriminant = b**2 - 4*a*c\n",
        "\n",
        "# Solve for m such that the discriminant is zero\n",
        "m_values = solve(discriminant, m)\n",
        "\n",
        "# Select the positive value of m\n",
        "m_positive = [slope for slope in m_values if slope > 0][0]\n",
        "\n",
        "# Output the slope of the tangent line\n",
        "print(\"Slope of the tangent line (m > 0):\", m_positive)\n"
      ],
      "metadata": {
        "colab": {
          "base_uri": "https://localhost:8080/"
        },
        "id": "ixvny59So4zr",
        "outputId": "7620042c-7d93-4e44-a08e-b998af94f789"
      },
      "execution_count": 6,
      "outputs": [
        {
          "output_type": "stream",
          "name": "stdout",
          "text": [
            "Slope of the tangent line (m > 0): 2*sqrt(6)\n"
          ]
        }
      ]
    },
    {
      "cell_type": "markdown",
      "source": [
        "Find the intersection points of the hyperbola\n",
        "x\n",
        "2\n",
        "−\n",
        "y\n",
        "2\n",
        "=\n",
        "1\n",
        " with the ellipse's line\n",
        "x\n",
        "2\n",
        "+\n",
        "4\n",
        "y\n",
        "2\n",
        "=\n",
        "6\n",
        "."
      ],
      "metadata": {
        "id": "mJFgSaqbpCG5"
      }
    },
    {
      "cell_type": "code",
      "source": [
        "from sympy import symbols, Eq, solve\n",
        "\n",
        "# Define symbols for x, y, and m\n",
        "x, y, m = symbols('x y m', positive=True)\n",
        "\n",
        "# Circle equation: x^2 + y^2 = 1\n",
        "circle_eq = x**2 + y**2 - 1\n",
        "\n",
        "# Line equation: y = m*x - 5\n",
        "line_eq = y - (m * x - 5)\n",
        "\n",
        "# Substitute y from the line equation into the circle equation\n",
        "substituted_eq = circle_eq.subs(y, m * x - 5)\n",
        "\n",
        "# Expand the substituted equation\n",
        "substituted_eq = substituted_eq.expand()\n",
        "\n",
        "# Solve for x to find intersection points\n",
        "intersection = solve(substituted_eq, x)\n",
        "\n",
        "# Tangency condition: The discriminant of the quadratic equation must be zero\n",
        "a = substituted_eq.coeff(x**2)\n",
        "b = substituted_eq.coeff(x)\n",
        "c = substituted_eq.subs(x, 0)\n",
        "\n",
        "discriminant = b**2 - 4*a*c\n",
        "\n",
        "# Solve for m such that the discriminant is zero\n",
        "m_values = solve(discriminant, m)\n",
        "\n",
        "# Select the positive value of m\n",
        "m_positive = [slope for slope in m_values if slope > 0][0]\n",
        "\n",
        "# Output the slope of the tangent line\n",
        "print(\"Slope of the tangent line (m > 0):\", m_positive)\n",
        "\n",
        "# Hyperbola: x^2 - y^2 = 1\n",
        "hyperbola_eq = x**2 - y**2 - 1\n",
        "\n",
        "# Ellipse: x^2 + 4y^2 = 6\n",
        "ellipse_eq = x**2 + 4*y**2 - 6\n",
        "\n",
        "# Solve for intersection points of the hyperbola and ellipse\n",
        "intersection_points = solve([hyperbola_eq, ellipse_eq], (x, y))\n",
        "\n",
        "# Output the intersection points\n",
        "print(\"Intersection points of the hyperbola and ellipse:\", intersection_points)"
      ],
      "metadata": {
        "colab": {
          "base_uri": "https://localhost:8080/"
        },
        "id": "-R4x8pgepFOe",
        "outputId": "83451b91-4b91-4ea5-afc2-e63c5477965e"
      },
      "execution_count": 7,
      "outputs": [
        {
          "output_type": "stream",
          "name": "stdout",
          "text": [
            "Slope of the tangent line (m > 0): 2*sqrt(6)\n",
            "Intersection points of the hyperbola and ellipse: [(sqrt(2), 1)]\n"
          ]
        }
      ]
    },
    {
      "cell_type": "markdown",
      "source": [
        "For the given hyperbola\n",
        "x\n",
        "2\n",
        "−\n",
        "y\n",
        "2\n",
        "=\n",
        "1\n",
        ", find the distance between its branches."
      ],
      "metadata": {
        "id": "3luKbp1vpPn8"
      }
    },
    {
      "cell_type": "code",
      "source": [
        "from sympy import symbols, Eq, solve\n",
        "\n",
        "# Define symbols for x, y, and m\n",
        "x, y, m = symbols('x y m', positive=True)\n",
        "\n",
        "# Circle equation: x^2 + y^2 = 1\n",
        "circle_eq = x**2 + y**2 - 1\n",
        "\n",
        "# Line equation: y = m*x - 5\n",
        "line_eq = y - (m * x - 5)\n",
        "\n",
        "# Substitute y from the line equation into the circle equation\n",
        "substituted_eq = circle_eq.subs(y, m * x - 5)\n",
        "\n",
        "# Expand the substituted equation\n",
        "substituted_eq = substituted_eq.expand()\n",
        "\n",
        "# Solve for x to find intersection points\n",
        "intersection = solve(substituted_eq, x)\n",
        "\n",
        "# Tangency condition: The discriminant of the quadratic equation must be zero\n",
        "a = substituted_eq.coeff(x**2)\n",
        "b = substituted_eq.coeff(x)\n",
        "c = substituted_eq.subs(x, 0)\n",
        "\n",
        "discriminant = b**2 - 4*a*c\n",
        "\n",
        "# Solve for m such that the discriminant is zero\n",
        "m_values = solve(discriminant, m)\n",
        "\n",
        "# Select the positive value of m\n",
        "m_positive = [slope for slope in m_values if slope > 0][0]\n",
        "\n",
        "# Output the slope of the tangent line\n",
        "print(\"Slope of the tangent line (m > 0):\", m_positive)\n",
        "\n",
        "# Hyperbola: x^2 - y^2 = 1\n",
        "hyperbola_eq = x**2 - y**2 - 1\n",
        "\n",
        "# Ellipse: x^2 + 4y^2 = 6\n",
        "ellipse_eq = x**2 + 4*y**2 - 6\n",
        "\n",
        "# Solve for intersection points of the hyperbola and ellipse\n",
        "intersection_points = solve([hyperbola_eq, ellipse_eq], (x, y))\n",
        "\n",
        "# Output the intersection points\n",
        "print(\"Intersection points of the hyperbola and ellipse:\", intersection_points)\n",
        "\n",
        "# Distance between branches of the hyperbola\n",
        "# For x^2 - y^2 = 1, the branches are separated by 2 units vertically along the y-axis when x = 0\n",
        "branch_distance = 2\n",
        "\n",
        "# Output the distance between branches\n",
        "print(\"Distance between the branches of the hyperbola:\", branch_distance)\n"
      ],
      "metadata": {
        "colab": {
          "base_uri": "https://localhost:8080/"
        },
        "id": "p5fE8J6dpSVa",
        "outputId": "3720b625-7303-4e3c-fbed-b2d395d92f71"
      },
      "execution_count": 8,
      "outputs": [
        {
          "output_type": "stream",
          "name": "stdout",
          "text": [
            "Slope of the tangent line (m > 0): 2*sqrt(6)\n",
            "Intersection points of the hyperbola and ellipse: [(sqrt(2), 1)]\n",
            "Distance between the branches of the hyperbola: 2\n"
          ]
        }
      ]
    },
    {
      "cell_type": "markdown",
      "source": [
        "##**16. Equations of planes in**"
      ],
      "metadata": {
        "id": "PxxDLdiJp9XK"
      }
    },
    {
      "cell_type": "markdown",
      "source": [
        "Find the equation of a circle with center at point\n",
        "A\n",
        "(\n",
        "1\n",
        ",\n",
        "2\n",
        ")\n",
        " and radius\n",
        "r\n",
        "=\n",
        "3\n",
        "."
      ],
      "metadata": {
        "id": "PgvgaZlZqf3i"
      }
    },
    {
      "cell_type": "code",
      "source": [
        "import sympy as sp\n",
        "\n",
        "# Define the coordinates of the center A(1, 2)\n",
        "x_center, y_center = 1, 2\n",
        "\n",
        "# Define the radius\n",
        "r = 3\n",
        "\n",
        "# Define the symbolic variables for the general equation of a circle (x, y)\n",
        "x, y = sp.symbols('x y')\n",
        "\n",
        "# Equation of the circle: (x - h)^2 + (y - k)^2 = r^2\n",
        "circle_equation = (x - x_center)**2 + (y - y_center)**2 - r**2\n",
        "circle_equation.simplify()\n",
        "\n",
        "# Print the equation of the circle\n",
        "print(circle_equation)\n"
      ],
      "metadata": {
        "colab": {
          "base_uri": "https://localhost:8080/"
        },
        "id": "cXsskFuXqIT2",
        "outputId": "7211ecac-825f-47ff-d955-c00025802631"
      },
      "execution_count": 9,
      "outputs": [
        {
          "output_type": "stream",
          "name": "stdout",
          "text": [
            "(x - 1)**2 + (y - 2)**2 - 9\n"
          ]
        }
      ]
    },
    {
      "cell_type": "markdown",
      "source": [
        "The plane passes through point\n",
        "A\n",
        "(\n",
        "1\n",
        ",\n",
        "2\n",
        ",\n",
        "3\n",
        ")\n",
        " and is parallel to the plane\n",
        "2\n",
        "x\n",
        "+\n",
        "3\n",
        "y\n",
        "+\n",
        "4\n",
        "z\n",
        "=\n",
        "5\n",
        ". Find the equation of the plane."
      ],
      "metadata": {
        "id": "U9m-mZR-rLEk"
      }
    },
    {
      "cell_type": "code",
      "source": [
        "# Given point A(1, 2, 3) and normal vector of the plane (2, 3, 4)\n",
        "x_A, y_A, z_A = 1, 2, 3\n",
        "normal_vector = (2, 3, 4)\n",
        "\n",
        "# Calculate D using the point A(1, 2, 3)\n",
        "D = normal_vector[0] * x_A + normal_vector[1] * y_A + normal_vector[2] * z_A\n",
        "\n",
        "# Print the equation of the plane\n",
        "print(f\"The equation of the plane is: 2x + 3y + 4z = {D}\")\n"
      ],
      "metadata": {
        "colab": {
          "base_uri": "https://localhost:8080/"
        },
        "id": "TokbrqDbrPVI",
        "outputId": "d27e9ef1-2da4-4765-caad-119ee68edc74"
      },
      "execution_count": 10,
      "outputs": [
        {
          "output_type": "stream",
          "name": "stdout",
          "text": [
            "The equation of the plane is: 2x + 3y + 4z = 20\n"
          ]
        }
      ]
    },
    {
      "cell_type": "markdown",
      "source": [
        "The plane passes through point\n",
        "A\n",
        "(\n",
        "1\n",
        ",\n",
        "2\n",
        ",\n",
        "3\n",
        ")\n",
        " and is perpendicular to the normal vector\n",
        "n\n",
        "=\n",
        "[\n",
        "2\n",
        ",\n",
        "3\n",
        ",\n",
        "4\n",
        "]\n",
        ". Find the equation of the plane."
      ],
      "metadata": {
        "id": "ZUX0P1B5rXyS"
      }
    },
    {
      "cell_type": "code",
      "source": [
        "# Verilen nokta A(1, 2, 3) ve normal vektör n = [2, 3, 4]\n",
        "x_A, y_A, z_A = 1, 2, 3\n",
        "normal_vector = (2, 3, 4)\n",
        "\n",
        "# D'yi hesapla\n",
        "D = normal_vector[0] * x_A + normal_vector[1] * y_A + normal_vector[2] * z_A\n",
        "\n",
        "# Sonuç olarak düzlemin denklemi\n",
        "print(f\"Düzlemin denklemi: 2x + 3y + 4z = {D}\")\n"
      ],
      "metadata": {
        "colab": {
          "base_uri": "https://localhost:8080/"
        },
        "id": "5AwSDAn_ratM",
        "outputId": "5b7adfb6-5882-4705-be9d-86d9a9b72382"
      },
      "execution_count": 11,
      "outputs": [
        {
          "output_type": "stream",
          "name": "stdout",
          "text": [
            "Düzlemin denklemi: 2x + 3y + 4z = 20\n"
          ]
        }
      ]
    },
    {
      "cell_type": "markdown",
      "source": [
        "We have two planes\n",
        "2\n",
        "x\n",
        "+\n",
        "3\n",
        "y\n",
        "+\n",
        "4\n",
        "z\n",
        "=\n",
        "5\n",
        " and\n",
        "3\n",
        "x\n",
        "+\n",
        "4\n",
        "y\n",
        "+\n",
        "2\n",
        "z\n",
        "=\n",
        "6\n",
        ". Find the line of intersection of these planes."
      ],
      "metadata": {
        "id": "AGGxYW4BrsNu"
      }
    },
    {
      "cell_type": "code",
      "source": [
        "import numpy as np\n",
        "from sympy import symbols, Eq, solve\n",
        "\n",
        "# Normal vectors of the planes\n",
        "n1 = np.array([2, 3, 4])  # Normal vector of plane 1\n",
        "n2 = np.array([3, 4, 2])  # Normal vector of plane 2\n",
        "\n",
        "# Calculate the cross product of n1 and n2 to find the direction vector of the line\n",
        "direction_vector = np.cross(n1, n2)\n",
        "\n",
        "# Solve for a point on the line by setting z = 0\n",
        "# Plane equations:\n",
        "# 2x + 3y + 4z = 5\n",
        "# 3x + 4y + 2z = 6\n",
        "\n",
        "# Substituting z = 0 in both equations:\n",
        "# 2x + 3y = 5  --> equation (1)\n",
        "# 3x + 4y = 6  --> equation (2)\n",
        "\n",
        "x, y = symbols('x y')\n",
        "\n",
        "# Equation 1 and 2\n",
        "eq1 = Eq(2*x + 3*y, 5)\n",
        "eq2 = Eq(3*x + 4*y, 6)\n",
        "\n",
        "# Solve the system for x and y\n",
        "solution = solve((eq1, eq2), (x, y))\n",
        "\n",
        "# Output the point and direction vector\n",
        "print(f\"Point on the line: {solution}\")\n",
        "print(f\"Direction vector of the line: {direction_vector}\")\n"
      ],
      "metadata": {
        "colab": {
          "base_uri": "https://localhost:8080/"
        },
        "id": "1a_gXEIbrrlN",
        "outputId": "f5c74c27-2c61-4d4c-c819-4626b935ada8"
      },
      "execution_count": 12,
      "outputs": [
        {
          "output_type": "stream",
          "name": "stdout",
          "text": [
            "Point on the line: {x: -2, y: 3}\n",
            "Direction vector of the line: [-10   8  -1]\n"
          ]
        }
      ]
    },
    {
      "cell_type": "markdown",
      "source": [
        "Write the equation of the plane passing through point\n",
        "A\n",
        "(\n",
        "1\n",
        ",\n",
        "2\n",
        ",\n",
        "3\n",
        ")\n",
        " and parallel to vectors\n",
        "v\n",
        "1\n",
        "→\n",
        "=\n",
        "[\n",
        "1\n",
        ",\n",
        "0\n",
        ",\n",
        "1\n",
        "]\n",
        " and\n",
        "v\n",
        "2\n",
        "→\n",
        "=\n",
        "[\n",
        "0\n",
        ",\n",
        "1\n",
        ",\n",
        "−\n",
        "1\n",
        "]\n",
        "."
      ],
      "metadata": {
        "id": "6ZGb5f4KsG6i"
      }
    },
    {
      "cell_type": "code",
      "source": [
        "import numpy as np\n",
        "\n",
        "# Given vectors v1 and v2\n",
        "v1 = np.array([1, 0, 1])  # Vector v1\n",
        "v2 = np.array([0, 1, -1]) # Vector v2\n",
        "\n",
        "# Calculate the cross product of v1 and v2 to get the normal vector of the plane\n",
        "normal_vector = np.cross(v1, v2)\n",
        "\n",
        "# Given point A(1, 2, 3)\n",
        "x0, y0, z0 = 1, 2, 3\n",
        "\n",
        "# Plane equation is: a(x - x0) + b(y - y0) + c(z - z0) = 0\n",
        "# Normal vector (a, b, c) is given by normal_vector\n",
        "a, b, c = normal_vector\n",
        "\n",
        "# Equation of the plane: ax + by + cz = d\n",
        "d = a * x0 + b * y0 + c * z0\n",
        "\n",
        "# Output the normal vector and the equation of the plane\n",
        "print(f\"Normal vector: {normal_vector}\")\n",
        "print(f\"Plane equation: {a}x + {b}y + {c}z = {d}\")\n"
      ],
      "metadata": {
        "colab": {
          "base_uri": "https://localhost:8080/"
        },
        "id": "T7VbIz5VsIB5",
        "outputId": "13ab89b9-dc92-418c-a19d-dc9c1721adbd"
      },
      "execution_count": 13,
      "outputs": [
        {
          "output_type": "stream",
          "name": "stdout",
          "text": [
            "Normal vector: [-1  1  1]\n",
            "Plane equation: -1x + 1y + 1z = 4\n"
          ]
        }
      ]
    },
    {
      "cell_type": "markdown",
      "source": [
        "We have the plane\n",
        "2\n",
        "x\n",
        "+\n",
        "3\n",
        "y\n",
        "+\n",
        "4\n",
        "z\n",
        "=\n",
        "5\n",
        ". Find an example of a plane parallel and perpendicular to it."
      ],
      "metadata": {
        "id": "Ni4EX-ussiTT"
      }
    },
    {
      "cell_type": "code",
      "source": [
        "import numpy as np\n",
        "\n",
        "# Given normal vector of the original plane\n",
        "normal_vector = np.array([2, 3, 4])\n",
        "\n",
        "# 1. Example of a parallel plane:\n",
        "# The normal vector is the same as the original plane, but we change the constant term.\n",
        "# For example, choose d = 7 for the parallel plane equation\n",
        "d_parallel = 7\n",
        "parallel_plane_eq = f\"{normal_vector[0]}x + {normal_vector[1]}y + {normal_vector[2]}z = {d_parallel}\"\n",
        "\n",
        "# 2. Example of a perpendicular plane:\n",
        "# We need to find a normal vector perpendicular to the original normal vector.\n",
        "# Let's choose a vector that is perpendicular: n2 = [-3, 2, 0]\n",
        "n2_perpendicular = np.array([-3, 2, 0])\n",
        "\n",
        "# Find an arbitrary point on the original plane (by setting z = 0)\n",
        "# Equation of the original plane: 2x + 3y + 4z = 5\n",
        "# Substituting z = 0: 2x + 3y = 5, choose x = 1, solve for y\n",
        "x_val = 1\n",
        "y_val = (5 - 2 * x_val) / 3  # Solve for y\n",
        "z_val = 0  # Set z = 0\n",
        "\n",
        "# The point on the original plane (1, y_val, 0) can be used for the perpendicular plane\n",
        "point_on_perpendicular_plane = np.array([x_val, y_val, z_val])\n",
        "\n",
        "# Equation of the perpendicular plane (point-normal form)\n",
        "# Use the normal vector n2_perpendicular and the point (x_val, y_val, z_val)\n",
        "d_perpendicular = np.dot(n2_perpendicular, point_on_perpendicular_plane)\n",
        "perpendicular_plane_eq = f\"{n2_perpendicular[0]}x + {n2_perpendicular[1]}y + {n2_perpendicular[2]}z = {d_perpendicular}\"\n",
        "\n",
        "# Output the results\n",
        "parallel_plane_eq, perpendicular_plane_eq\n"
      ],
      "metadata": {
        "colab": {
          "base_uri": "https://localhost:8080/"
        },
        "id": "r6k2wjDxsjQu",
        "outputId": "5978ffd1-29d5-4fc1-fbcd-8bd009c30a2d"
      },
      "execution_count": 14,
      "outputs": [
        {
          "output_type": "execute_result",
          "data": {
            "text/plain": [
              "('2x + 3y + 4z = 7', '-3x + 2y + 0z = -1.0')"
            ]
          },
          "metadata": {},
          "execution_count": 14
        }
      ]
    },
    {
      "cell_type": "markdown",
      "source": [
        "We have the plane\n",
        "2\n",
        "x\n",
        "+\n",
        "3\n",
        "y\n",
        "+\n",
        "4\n",
        "z\n",
        "=\n",
        "5\n",
        " and point\n",
        "A\n",
        "(\n",
        "1\n",
        ",\n",
        "2\n",
        ",\n",
        "3\n",
        ")\n",
        ". Find the distance from point\n",
        "A\n",
        " to this plane."
      ],
      "metadata": {
        "id": "RJ6x4QtasoId"
      }
    },
    {
      "cell_type": "code",
      "source": [
        "import numpy as np\n",
        "\n",
        "# Plane coefficients\n",
        "a, b, c, d = 2, 3, 4, 5\n",
        "\n",
        "# Point A(1, 2, 3)\n",
        "x1, y1, z1 = 1, 2, 3\n",
        "\n",
        "# Calculate the distance using the formula\n",
        "numerator = abs(a*x1 + b*y1 + c*z1 - d)\n",
        "denominator = np.sqrt(a**2 + b**2 + c**2)\n",
        "\n",
        "# Distance from point A to the plane\n",
        "distance = numerator / denominator\n",
        "\n",
        "# Output the result\n",
        "distance\n"
      ],
      "metadata": {
        "colab": {
          "base_uri": "https://localhost:8080/"
        },
        "id": "bDBYguMvstJt",
        "outputId": "5c2a7d3e-0dad-45b3-d0d3-953cefe8986d"
      },
      "execution_count": 15,
      "outputs": [
        {
          "output_type": "execute_result",
          "data": {
            "text/plain": [
              "2.785430072655778"
            ]
          },
          "metadata": {},
          "execution_count": 15
        }
      ]
    },
    {
      "cell_type": "markdown",
      "source": [
        "The plane intersects the coordinate axes at points\n",
        "A\n",
        "(\n",
        "2\n",
        ",\n",
        "0\n",
        ",\n",
        "0\n",
        ")\n",
        ",\n",
        "B\n",
        "(\n",
        "0\n",
        ",\n",
        "3\n",
        ",\n",
        "0\n",
        ")\n",
        ", and\n",
        "C\n",
        "(\n",
        "0\n",
        ",\n",
        "0\n",
        ",\n",
        "4\n",
        ")\n",
        ". Find the equation of the plane."
      ],
      "metadata": {
        "id": "dOxl_yrkswaZ"
      }
    },
    {
      "cell_type": "code",
      "source": [
        "# Given intercepts\n",
        "a = 2  # x-intercept\n",
        "b = 3  # y-intercept\n",
        "c = 4  # z-intercept\n",
        "\n",
        "# Equation of the plane: (x/a) + (y/b) + (z/c) = 1\n",
        "# Multiplying through by the least common multiple of 2, 3, and 4 (LCM = 12)\n",
        "# 12 * (x/2 + y/3 + z/4) = 12\n",
        "# Simplified form of the equation: 6x + 4y + 3z = 12\n",
        "plane_eq = f\"6x + 4y + 3z = 12\"\n",
        "\n",
        "# Output the equation of the plane\n",
        "plane_eq\n"
      ],
      "metadata": {
        "colab": {
          "base_uri": "https://localhost:8080/",
          "height": 35
        },
        "id": "-Ch-WQ-Js0I5",
        "outputId": "976835e8-a111-4d41-f21e-7e904e95f155"
      },
      "execution_count": 16,
      "outputs": [
        {
          "output_type": "execute_result",
          "data": {
            "text/plain": [
              "'6x + 4y + 3z = 12'"
            ],
            "application/vnd.google.colaboratory.intrinsic+json": {
              "type": "string"
            }
          },
          "metadata": {},
          "execution_count": 16
        }
      ]
    },
    {
      "cell_type": "markdown",
      "source": [
        "Calculate the angle between the plane\n",
        "x\n",
        "+\n",
        "y\n",
        "+\n",
        "z\n",
        "=\n",
        "1\n",
        " and the plane\n",
        "x\n",
        "=\n",
        "0\n",
        " (i.e., the\n",
        "y\n",
        "z\n",
        "plane)."
      ],
      "metadata": {
        "id": "fG4TDejks8t4"
      }
    },
    {
      "cell_type": "code",
      "source": [
        "import numpy as np\n",
        "\n",
        "# Normal vectors of the planes\n",
        "n1 = np.array([1, 1, 1])  # Normal vector of the first plane x + y + z = 1\n",
        "n2 = np.array([1, 0, 0])  # Normal vector of the second plane x = 0 (yz-plane)\n",
        "\n",
        "# Dot product of the normal vectors\n",
        "dot_product = np.dot(n1, n2)\n",
        "\n",
        "# Magnitudes of the normal vectors\n",
        "magnitude_n1 = np.linalg.norm(n1)\n",
        "magnitude_n2 = np.linalg.norm(n2)\n",
        "\n",
        "# Cosine of the angle between the planes\n",
        "cos_theta = dot_product / (magnitude_n1 * magnitude_n2)\n",
        "\n",
        "# Angle in radians\n",
        "theta_radians = np.arccos(cos_theta)\n",
        "\n",
        "# Convert angle to degrees\n",
        "theta_degrees = np.degrees(theta_radians)\n",
        "\n",
        "# Output the result\n",
        "theta_degrees\n"
      ],
      "metadata": {
        "colab": {
          "base_uri": "https://localhost:8080/"
        },
        "id": "qNnQ4S6es9tm",
        "outputId": "c83b74c4-019b-4b03-f248-c1af8fbbdec3"
      },
      "execution_count": 17,
      "outputs": [
        {
          "output_type": "execute_result",
          "data": {
            "text/plain": [
              "54.735610317245346"
            ]
          },
          "metadata": {},
          "execution_count": 17
        }
      ]
    },
    {
      "cell_type": "markdown",
      "source": [
        "Find the vector perpendicular to the plane\n",
        "x\n",
        "+\n",
        "y\n",
        "+\n",
        "z\n",
        "=\n",
        "1\n",
        "."
      ],
      "metadata": {
        "id": "XuUi-pc4tAMT"
      }
    },
    {
      "cell_type": "code",
      "source": [
        "# Normal vector to the plane x + y + z = 1\n",
        "normal_vector = np.array([1, 1, 1])\n",
        "\n",
        "# Output the normal vector\n",
        "normal_vector\n"
      ],
      "metadata": {
        "colab": {
          "base_uri": "https://localhost:8080/"
        },
        "id": "b7iRRpCPtETx",
        "outputId": "2407b02c-2f5f-4e2d-c31a-1e5e38d7b5ce"
      },
      "execution_count": 18,
      "outputs": [
        {
          "output_type": "execute_result",
          "data": {
            "text/plain": [
              "array([1, 1, 1])"
            ]
          },
          "metadata": {},
          "execution_count": 18
        }
      ]
    },
    {
      "cell_type": "markdown",
      "source": [
        "# **17. Equations of second-order surfaces**"
      ],
      "metadata": {
        "id": "crqFQuB1tHwy"
      }
    },
    {
      "cell_type": "markdown",
      "source": [
        "Write the equation of a sphere with center at point\n",
        "P\n",
        "=\n",
        "(\n",
        "1\n",
        ",\n",
        "2\n",
        ",\n",
        "3\n",
        ")\n",
        " and radius\n",
        "r\n",
        "=\n",
        "3\n",
        "."
      ],
      "metadata": {
        "id": "2_AEFI-PtSu0"
      }
    },
    {
      "cell_type": "code",
      "source": [
        "# Given center and radius\n",
        "center = np.array([1, 2, 3])\n",
        "radius = 3\n",
        "\n",
        "# Equation of the sphere: (x - x0)^2 + (y - y0)^2 + (z - z0)^2 = r^2\n",
        "# Substituting the values:\n",
        "equation = f\"(x - {center[0]})^2 + (y - {center[1]})^2 + (z - {center[2]})^2 = {radius**2}\"\n",
        "\n",
        "# Output the equation of the sphere\n",
        "equation\n"
      ],
      "metadata": {
        "colab": {
          "base_uri": "https://localhost:8080/",
          "height": 35
        },
        "id": "8Pze03OZta6K",
        "outputId": "453440af-3a66-4662-c9d0-714ba5b6910b"
      },
      "execution_count": 19,
      "outputs": [
        {
          "output_type": "execute_result",
          "data": {
            "text/plain": [
              "'(x - 1)^2 + (y - 2)^2 + (z - 3)^2 = 9'"
            ],
            "application/vnd.google.colaboratory.intrinsic+json": {
              "type": "string"
            }
          },
          "metadata": {},
          "execution_count": 19
        }
      ]
    },
    {
      "cell_type": "markdown",
      "source": [
        "Do the spheres with equations\n",
        "x\n",
        "2\n",
        "+\n",
        "y\n",
        "2\n",
        "+\n",
        "z\n",
        "2\n",
        "=\n",
        "1\n",
        " and\n",
        "x\n",
        "2\n",
        "+\n",
        "y\n",
        "2\n",
        "+\n",
        "z\n",
        "2\n",
        "=\n",
        "2\n",
        " have any common points?"
      ],
      "metadata": {
        "id": "8gydwSvQtchy"
      }
    },
    {
      "cell_type": "code",
      "source": [
        "import math\n",
        "\n",
        "# Radii of the two spheres\n",
        "radius_1 = math.sqrt(1)  # Sphere 1 radius\n",
        "radius_2 = math.sqrt(2)  # Sphere 2 radius\n",
        "\n",
        "# Check if the radii are different\n",
        "if radius_1 != radius_2:\n",
        "    result = \"The spheres do not have any common points.\"\n",
        "else:\n",
        "    result = \"The spheres intersect.\"\n",
        "\n",
        "result\n"
      ],
      "metadata": {
        "colab": {
          "base_uri": "https://localhost:8080/",
          "height": 35
        },
        "id": "t8-r-ucutg84",
        "outputId": "63a2cc1f-6703-4a1a-d0a1-526529b89955"
      },
      "execution_count": 20,
      "outputs": [
        {
          "output_type": "execute_result",
          "data": {
            "text/plain": [
              "'The spheres do not have any common points.'"
            ],
            "application/vnd.google.colaboratory.intrinsic+json": {
              "type": "string"
            }
          },
          "metadata": {},
          "execution_count": 20
        }
      ]
    },
    {
      "cell_type": "markdown",
      "source": [
        "What curve in space is formed by the intersection of the sphere\n",
        "x\n",
        "2\n",
        "+\n",
        "y\n",
        "2\n",
        "+\n",
        "z\n",
        "2\n",
        "=\n",
        "1\n",
        " with the sphere\n",
        "(\n",
        "x\n",
        "−\n",
        "1\n",
        ")\n",
        "2\n",
        "+\n",
        "y\n",
        "2\n",
        "+\n",
        "z\n",
        "2\n",
        "=\n",
        "1\n",
        "? Find the equation of this curve."
      ],
      "metadata": {
        "id": "PCDbyKEotoSp"
      }
    },
    {
      "cell_type": "code",
      "source": [
        "import numpy as np\n",
        "import matplotlib.pyplot as plt\n",
        "from mpl_toolkits.mplot3d import Axes3D\n",
        "\n",
        "# Define the parameter t\n",
        "t = np.linspace(0, 2*np.pi, 100)\n",
        "\n",
        "# Parametric equations for the curve\n",
        "x = np.full_like(t, 0.5)  # x = 1/2 (constant)\n",
        "y = (np.sqrt(3) / 2) * np.cos(t)\n",
        "z = (np.sqrt(3) / 2) * np.sin(t)\n",
        "\n",
        "# Create a 3D plot\n",
        "fig = plt.figure()\n",
        "ax = fig.add_subplot(111, projection='3d')\n",
        "\n",
        "# Plot the curve\n",
        "ax.plot3D(x, y, z, label=\"Intersection Curve\", color='b')\n",
        "\n",
        "# Labels and title\n",
        "ax.set_xlabel('X')\n",
        "ax.set_ylabel('Y')\n",
        "ax.set_zlabel('Z')\n",
        "ax.set_title('Curve formed by the Intersection of Two Spheres')\n",
        "\n",
        "# Display the plot\n",
        "plt.show()\n"
      ],
      "metadata": {
        "colab": {
          "base_uri": "https://localhost:8080/",
          "height": 431
        },
        "id": "x2ec_ThFtpTw",
        "outputId": "3d37a150-3c68-421d-9d97-77a9e5dd3386"
      },
      "execution_count": 21,
      "outputs": [
        {
          "output_type": "display_data",
          "data": {
            "text/plain": [
              "<Figure size 640x480 with 1 Axes>"
            ],
            "image/png": "[encoded data removed]"
          },
          "metadata": {}
        }
      ]
    },
    {
      "cell_type": "markdown",
      "source": [
        "Write the equation of the tangent plane to the paraboloid\n",
        "z\n",
        "=\n",
        "(\n",
        "x\n",
        "−\n",
        "1\n",
        ")\n",
        "2\n",
        "+\n",
        "y\n",
        "2\n",
        "+\n",
        "1\n",
        " at point\n",
        "P\n",
        "(\n",
        "1\n",
        ",\n",
        "0\n",
        ",\n",
        "1\n",
        ")\n",
        "."
      ],
      "metadata": {
        "id": "H7FOXvyLt2mJ"
      }
    },
    {
      "cell_type": "code",
      "source": [
        "import sympy as sp\n",
        "\n",
        "# Define variables\n",
        "x, y = sp.symbols('x y')\n",
        "\n",
        "# Define the equation of the surface\n",
        "z = (x - 1)**2 + y**2 + 1\n",
        "\n",
        "# Compute the partial derivatives\n",
        "dz_dx = sp.diff(z, x)\n",
        "dz_dy = sp.diff(z, y)\n",
        "\n",
        "# Evaluate the partial derivatives at the point (1, 0)\n",
        "dz_dx_at_P = dz_dx.subs({x: 1, y: 0})\n",
        "dz_dy_at_P = dz_dy.subs({x: 1, y: 0})\n",
        "\n",
        "# Print the results\n",
        "dz_dx_at_P, dz_dy_at_P\n"
      ],
      "metadata": {
        "colab": {
          "base_uri": "https://localhost:8080/"
        },
        "id": "uPrg9n4Kt3j6",
        "outputId": "f304ff34-c8e5-4b59-c184-ee651947ab01"
      },
      "execution_count": 22,
      "outputs": [
        {
          "output_type": "execute_result",
          "data": {
            "text/plain": [
              "(0, 0)"
            ]
          },
          "metadata": {},
          "execution_count": 22
        }
      ]
    }
  ]
}