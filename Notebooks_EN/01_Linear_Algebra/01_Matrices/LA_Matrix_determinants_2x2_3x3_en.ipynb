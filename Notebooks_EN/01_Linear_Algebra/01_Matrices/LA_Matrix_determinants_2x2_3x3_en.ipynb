{
  "cells": [
    {
      "cell_type": "markdown",
      "metadata": {
        "id": "cKHpRGoOzPWz"
      },
      "source": [
        "# Determinants of 2x2 and 3x3 matrices\n",
        "\n",
        "### Determinant of a 2x2 Matrix\n",
        "\n",
        "The general formula for the determinant of a 2x2 matrix, where the matrix looks as follows:\n",
        "\n",
        "$$\n",
        "\\mathbf{A} =\n",
        "\\begin{pmatrix}\n",
        "a_{11} & a_{12} \\\\\n",
        "a_{21} & a_{22}\n",
        "\\end{pmatrix}\n",
        "$$\n",
        "\n",
        "The determinant of a 2x2 matrix is calculated using the formula:\n",
        "\n",
        "$$\n",
        "\\text{det}(A) = a_{11} \\cdot a_{22} - a_{12} \\cdot a_{21}\n",
        "$$\n",
        "\n",
        "### Determinant of a 3x3 Matrix\n",
        "\n",
        "The general formula for the determinant of a 3x3 matrix, where the matrix looks as follows:\n",
        "\n",
        "$$\n",
        "\\mathbf{B} =\n",
        "\\begin{pmatrix}\n",
        "a_{11} & a_{12} & a_{13} \\\\\n",
        "a_{21} & a_{22} & a_{23} \\\\\n",
        "a_{31} & a_{32} & a_{33}\n",
        "\\end{pmatrix}\n",
        "$$\n",
        "\n",
        "The determinant of a 3x3 matrix can be calculated using Sarrus' rule or Laplace expansion. Here, we will use Sarrus' rule:\n",
        "\n",
        "$$\n",
        "\\text{det}(B) = a_{11} \\cdot a_{22} \\cdot a_{33} + a_{12} \\cdot a_{23} \\cdot a_{31} + a_{13} \\cdot a_{21} \\cdot a_{32}\n",
        "- a_{13} \\cdot a_{22} \\cdot a_{31} - a_{12} \\cdot a_{21} \\cdot a_{33} - a_{11} \\cdot a_{23} \\cdot a_{32}\n",
        "$$\n",
        "\n",
        "<img src=\"https://upload.wikimedia.org/wikipedia/commons/c/c0/Sarrus_rule1.svg\" alt=\"Image description\" width=\"300\" align=\"center\"/>\n",
        "\n",
        "Note: Sarrus' rule does not work for matrices larger than 3x3.\n",
        "\n",
        "### Calculating Determinants in Python using SymPy\n",
        "\n",
        "Now, using the SymPy library, we will calculate the determinants for 2x2 and 3x3 matrices."
      ]
    },
    {
      "cell_type": "code",
      "execution_count": null,
      "metadata": {
        "colab": {
          "base_uri": "https://localhost:8080/",
          "height": 58
        },
        "id": "Dny1sw_HzPW0",
        "outputId": "d9cc2c62-0e1d-4530-8a8f-8c85d885a630"
      },
      "outputs": [
        {
          "output_type": "execute_result",
          "data": {
            "text/plain": [
              "Matrix([\n",
              "[2, 3],\n",
              "[1, 4]])"
            ],
            "text/latex": "$\\displaystyle \\left[\\begin{matrix}2 & 3\\\\1 & 4\\end{matrix}\\right]$"
          },
          "metadata": {},
          "execution_count": 1
        }
      ],
      "source": [
        "import sympy as sp\n",
        "\n",
        "# Define the matrix\n",
        "A = sp.Matrix([[2, 3], [1, 4]])\n",
        "A # display the matrix"
      ]
    },
    {
      "cell_type": "code",
      "execution_count": null,
      "metadata": {
        "notebookRunGroups": {
          "groupValue": "2"
        },
        "colab": {
          "base_uri": "https://localhost:8080/"
        },
        "id": "0KnCNbOwzPW1",
        "outputId": "8249ff20-701b-40a1-e4cc-4bdf1cd44093"
      },
      "outputs": [
        {
          "output_type": "execute_result",
          "data": {
            "text/plain": [
              "True"
            ]
          },
          "metadata": {},
          "execution_count": 2
        }
      ],
      "source": [
        "# Verify the correctness of the calculations\n",
        "(2*4 - 3*1) == A.det()"
      ]
    },
    {
      "cell_type": "code",
      "execution_count": null,
      "metadata": {
        "colab": {
          "base_uri": "https://localhost:8080/",
          "height": 78
        },
        "id": "OcQ9xpiOzPW1",
        "outputId": "cdb6dcbb-7b15-4e48-afe2-3a152063b3b2"
      },
      "outputs": [
        {
          "output_type": "execute_result",
          "data": {
            "text/plain": [
              "Matrix([\n",
              "[2, 3, 1],\n",
              "[1, 4, 5],\n",
              "[3, 2, 1]])"
            ],
            "text/latex": "$\\displaystyle \\left[\\begin{matrix}2 & 3 & 1\\\\1 & 4 & 5\\\\3 & 2 & 1\\end{matrix}\\right]$"
          },
          "metadata": {},
          "execution_count": 3
        }
      ],
      "source": [
        "# 3x3 Matrix\n",
        "B = sp.Matrix([[2, 3, 1], [1, 4, 5], [3, 2, 1]])\n",
        "B"
      ]
    },
    {
      "cell_type": "code",
      "execution_count": null,
      "metadata": {
        "colab": {
          "base_uri": "https://localhost:8080/"
        },
        "id": "q_s5aWKvzPW1",
        "outputId": "ba3667bc-a5ca-4dae-cddc-e2748c506e9f"
      },
      "outputs": [
        {
          "output_type": "execute_result",
          "data": {
            "text/plain": [
              "True"
            ]
          },
          "metadata": {},
          "execution_count": 4
        }
      ],
      "source": [
        "# Verify the correctness of the calculations\n",
        "(2*4*1 + 3*5*3 + 1*1*2 - 1*4*3 - 5*2*2 - 3*1*1) == B.det()"
      ]
    },
    {
      "cell_type": "markdown",
      "metadata": {
        "id": "L5UVmZ1xzPW1"
      },
      "source": [
        "---\n",
        "\n",
        "## Exercises for Students\n",
        "\n",
        "Calculate the determinants for the 2x2 and 3x3 matrices given below.\n",
        "\n",
        "1. 2x2 Matrices:\n",
        "\n",
        "$$\n",
        "\\mathbf{A} =\n",
        "\\begin{pmatrix}\n",
        "2 & 3 \\\\\n",
        "1 & 4\n",
        "\\end{pmatrix}\n",
        ", \\qquad\n",
        "\\mathbf{B} =\n",
        "\\begin{pmatrix}\n",
        "5 & 6 \\\\\n",
        "7 & 8\n",
        "\\end{pmatrix}\n",
        ", \\qquad\n",
        "\\mathbf{C} =\n",
        "\\begin{pmatrix}\n",
        "-1 & 2 \\\\\n",
        "3 & 0\n",
        "\\end{pmatrix}\n",
        "$$\n",
        "\n",
        "2. 3x3 Matrices:\n",
        "\n",
        "\n",
        "$$\n",
        "\\mathbf{D} =\n",
        "\\begin{pmatrix}\n",
        "1 & 0 & 2 \\\\\n",
        "-1 & 3 & 1 \\\\\n",
        "2 & 4 & -2\n",
        "\\end{pmatrix}\n",
        ", \\qquad\n",
        "\\mathbf{E} =\n",
        "\\begin{pmatrix}\n",
        "3 & 1 & -1 \\\\\n",
        "0 & 2 & 4 \\\\\n",
        "5 & 3 & 2\n",
        "\\end{pmatrix}\n",
        ", \\qquad\n",
        "\\mathbf{F} =\n",
        "\\begin{pmatrix}\n",
        "2 & -3 & 1 \\\\\n",
        "1 & 4 & -2 \\\\\n",
        "1 & 5 & 3\n",
        "\\end{pmatrix}\n",
        "$$"
      ]
    },
    {
      "cell_type": "markdown",
      "source": [
        "\n",
        "\n",
        "---\n",
        "\n",
        "#### **2x2 Matrices:**\n",
        "\n",
        "The determinant of a $2 \\times 2$ matrix $M = \\begin{pmatrix} a & b \\\\ c & d \\end{pmatrix}$ is calculated as:\n",
        "\n",
        "$$\n",
        "\\text{det}(M) = (a \\cdot d) - (b \\cdot c)\n",
        "$$\n",
        "\n",
        "---\n",
        "\n",
        "1. **Matrix $A = \\begin{pmatrix} 2 & 3 \\\\ 1 & 4 \\end{pmatrix}$:**\n",
        "\n",
        "$\n",
        "\\text{det}(A) = (2 \\cdot 4) - (3 \\cdot 1) = 8 - 3 = 5\n",
        "$\n",
        "\n",
        "---\n",
        "\n",
        "2. **Matrix $B = \\begin{pmatrix} 5 & 6 \\\\ 7 & 8 \\end{pmatrix}$:**\n",
        "\n",
        "$\n",
        "\\text{det}(B) = (5 \\cdot 8) - (6 \\cdot 7) = 40 - 42 = -2\n",
        "$\n",
        "---\n",
        "\n",
        "3. **Matrix $C = \\begin{pmatrix} -1 & 2 \\\\ 3 & 0 \\end{pmatrix}$:**\n",
        "\n",
        "$\n",
        "\\text{det}(C) = (-1 \\cdot 0) - (2 \\cdot 3) = 0 - 6 = -6\n",
        "$\n",
        "\n",
        "---\n",
        "\n",
        "#### **3x3 Matrices:**\n",
        "\n",
        "The determinant of a $3 \\times 3$ matrix $M = \\begin{pmatrix} a & b & c \\\\ d & e & f \\\\ g & h & i \\end{pmatrix}$ is calculated using cofactor expansion along the first row:\n",
        "\n",
        "$$\n",
        "\\text{det}(M) = a \\cdot \\text{det}\\begin{pmatrix} e & f \\\\ h & i \\end{pmatrix} - b \\cdot \\text{det}\\begin{pmatrix} d & f \\\\ g & i \\end{pmatrix} + c \\cdot \\text{det}\\begin{pmatrix} d & e \\\\ g & h \\end{pmatrix}\n",
        "$$\n",
        "\n",
        "---\n",
        "\n",
        "1. **Matrix $D = \\begin{pmatrix} 1 & 0 & 2 \\\\ -1 & 3 & 1 \\\\ 2 & 4 & -2 \\end{pmatrix}$:**\n",
        "\n",
        "Expanding along the first row:\n",
        "\n",
        "$$\n",
        "\\text{det}(D) = 1 \\cdot \\text{det}\\begin{pmatrix} 3 & 1 \\\\ 4 & -2 \\end{pmatrix} - 0 \\cdot \\text{det}\\begin{pmatrix} -1 & 1 \\\\ 2 & -2 \\end{pmatrix} + 2 \\cdot \\text{det}\\begin{pmatrix} -1 & 3 \\\\ 2 & 4 \\end{pmatrix}\n",
        "$$\n",
        "\n",
        "1. Calculate $\\text{det}\\begin{pmatrix} 3 & 1 \\\\ 4 & -2 \\end{pmatrix}$:\n",
        "$\n",
        "(3 \\cdot -2) - (1 \\cdot 4) = -6 - 4 = -10\n",
        "$\n",
        "\n",
        "2. Calculate $\\text{det}\\begin{pmatrix} -1 & 3 \\\\ 2 & 4 \\end{pmatrix}$:\n",
        "$\n",
        "(-1 \\cdot 4) - (3 \\cdot 2) = -4 - 6 = -10\n",
        "$\n",
        "\n",
        "3. Substitute into determinant:\n",
        "$\n",
        "\\text{det}(D) = 1 \\cdot (-10) - 0 \\cdot (\\text{anything}) + 2 \\cdot (-10) = -10 + (-20) = -30\n",
        "$\n",
        "\n",
        "---\n",
        "\n",
        "2. **Matrix $E = \\begin{pmatrix} 3 & 1 & -1 \\\\ 0 & 2 & 4 \\\\ 5 & 3 & 2 \\end{pmatrix}$:**\n",
        "\n",
        "Expanding along the first row:\n",
        "\n",
        "$$\n",
        "\\text{det}(E) = 3 \\cdot \\text{det}\\begin{pmatrix} 2 & 4 \\\\ 3 & 2 \\end{pmatrix} - 1 \\cdot \\text{det}\\begin{pmatrix} 0 & 4 \\\\ 5 & 2 \\end{pmatrix} + (-1) \\cdot \\text{det}\\begin{pmatrix} 0 & 2 \\\\ 5 & 3 \\end{pmatrix}\n",
        "$$\n",
        "\n",
        "1. Calculate $\\text{det}\\begin{pmatrix} 2 & 4 \\\\ 3 & 2 \\end{pmatrix}$:\n",
        "$\n",
        "(2 \\cdot 2) - (4 \\cdot 3) = 4 - 12 = -8\n",
        "$\n",
        "\n",
        "2. Calculate $\\text{det}\\begin{pmatrix} 0 & 4 \\\\ 5 & 2 \\end{pmatrix}$:\n",
        "$\n",
        "(0 \\cdot 2) - (4 \\cdot 5) = 0 - 20 = -20\n",
        "$\n",
        "\n",
        "3. Calculate $\\text{det}\\begin{pmatrix} 0 & 2 \\\\ 5 & 3 \\end{pmatrix}$:\n",
        "$\n",
        "(0 \\cdot 3) - (2 \\cdot 5) = 0 - 10 = -10\n",
        "$\n",
        "\n",
        "4. Substitute into determinant:\n",
        "$\n",
        "\\text{det}(E) = 3 \\cdot (-8) - 1 \\cdot (-20) + (-1) \\cdot (-10) = -24 + 20 + 10 = 6\n",
        "$\n",
        "\n",
        "---\n",
        "\n",
        "3. **Matrix $F = \\begin{pmatrix} 2 & -3 & 1 \\\\ 1 & 4 & -2 \\\\ 1 & 5 & 3 \\end{pmatrix}$:**\n",
        "\n",
        "Expanding along the first row:\n",
        "\n",
        "$$\n",
        "\\text{det}(F) = 2 \\cdot \\text{det}\\begin{pmatrix} 4 & -2 \\\\ 5 & 3 \\end{pmatrix} - (-3) \\cdot \\text{det}\\begin{pmatrix} 1 & -2 \\\\ 1 & 3 \\end{pmatrix} + 1 \\cdot \\text{det}\\begin{pmatrix} 1 & 4 \\\\ 1 & 5 \\end{pmatrix}\n",
        "$$\n",
        "\n",
        "1. Calculate $\\text{det}\\begin{pmatrix} 4 & -2 \\\\ 5 & 3 \\end{pmatrix}$:\n",
        "$\n",
        "(4 \\cdot 3) - (-2 \\cdot 5) = 12 + 10 = 22\n",
        "$\n",
        "\n",
        "2. Calculate $\\text{det}\\begin{pmatrix} 1 & -2 \\\\ 1 & 3 \\end{pmatrix}$:\n",
        "$\n",
        "(1 \\cdot 3) - (-2 \\cdot 1) = 3 + 2 = 5\n",
        "$\n",
        "\n",
        "3. Calculate $\\text{det}\\begin{pmatrix} 1 & 4 \\\\ 1 & 5 \\end{pmatrix}$:\n",
        "$\n",
        "(1 \\cdot 5) - (4 \\cdot 1) = 5 - 4 = 1\n",
        "$\n",
        "\n",
        "4. Substitute into determinant:\n",
        "$\n",
        "\\text{det}(F) = 2 \\cdot 22 - (-3) \\cdot 5 + 1 \\cdot 1 = 44 + 15 + 1 = 60\n",
        "$\n",
        "\n",
        "---\n",
        "\n",
        "### Final Results:\n",
        "\n",
        "1. **2x2 Matrices:**\n",
        "   - $ \\text{det}(A) = 5 $\n",
        "   - $ \\text{det}(B) = -2 $\n",
        "   - $ \\text{det}(C) = -6 $\n",
        "\n",
        "2. **3x3 Matrices:**\n",
        "   - $ \\text{det}(D) = -30 $\n",
        "   - $ \\text{det}(E) = 6 $\n",
        "   - $ \\text{det}(F) = 60 $\n"
      ],
      "metadata": {
        "id": "ZVA3HIJ9l-4X"
      }
    }
  ],
  "metadata": {
    "kernelspec": {
      "display_name": "Python 3",
      "language": "python",
      "name": "python3"
    },
    "language_info": {
      "codemirror_mode": {
        "name": "ipython",
        "version": 3
      },
      "file_extension": ".py",
      "mimetype": "text/x-python",
      "name": "python",
      "nbconvert_exporter": "python",
      "pygments_lexer": "ipython3",
      "version": "3.11.9"
    },
    "colab": {
      "provenance": []
    }
  },
  "nbformat": 4,
  "nbformat_minor": 0
}