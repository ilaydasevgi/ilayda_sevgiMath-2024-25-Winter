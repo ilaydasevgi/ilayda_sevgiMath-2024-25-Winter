{
  "cells": [
    {
      "cell_type": "markdown",
      "metadata": {
        "id": "qczxAK5gD1HM"
      },
      "source": [
        "# Matrix Inversion using Gauss elimination method"
      ]
    },
    {
      "cell_type": "code",
      "execution_count": null,
      "metadata": {
        "id": "WgVOFOMLD1HN"
      },
      "outputs": [],
      "source": [
        "from sympy import Matrix, Rational, latex\n",
        "from IPython.display import display, Markdown, Math, HTML\n",
        "\n",
        "class InvertibleMatrix:\n",
        "    def __init__(self, matrix):\n",
        "        \"\"\"\n",
        "        Initializes a matrix to be inverted using the Gauss-Jordan method.\n",
        "\n",
        "        Parameters:\n",
        "        - matrix: The square matrix to be inverted.\n",
        "        \"\"\"\n",
        "        # Convert all entries to Rational numbers\n",
        "        self.matrix = Matrix(matrix).applyfunc(Rational)\n",
        "        self.operations = []\n",
        "\n",
        "        # Check if the matrix is square\n",
        "        if self.matrix.rows != self.matrix.cols:\n",
        "            raise ValueError(\"The matrix must be square.\")\n",
        "\n",
        "        # Create the augmented matrix with the identity matrix (with Rational entries)\n",
        "        identity = Matrix.eye(self.matrix.rows).applyfunc(Rational)\n",
        "        self.aug_matrix = self.matrix.row_join(identity)\n",
        "\n",
        "        display(Markdown(\"**Initial Matrix (Starting matrix):**\"))\n",
        "        self.display_matrix()\n",
        "\n",
        "    def __repr__(self):\n",
        "        return repr(self.aug_matrix)\n",
        "\n",
        "    def __str__(self):\n",
        "        return str(self.aug_matrix)\n",
        "\n",
        "    def _repr_latex_(self):\n",
        "        return self.aug_matrix._repr_latex_()\n",
        "\n",
        "    def _validate_row_number(self, row):\n",
        "        if not isinstance(row, int):\n",
        "            raise TypeError(\"Row number must be an integer.\")\n",
        "        if row < 1 or row > self.aug_matrix.rows:\n",
        "            raise IndexError(f\"Row number must be in the range from 1 to {self.aug_matrix.rows}.\")\n",
        "        return row - 1\n",
        "\n",
        "    def add_row(self, target_row, source_row, coefficient):\n",
        "        target_idx = self._validate_row_number(target_row)\n",
        "        source_idx = self._validate_row_number(source_row)\n",
        "        coefficient = Rational(coefficient)\n",
        "\n",
        "        self.aug_matrix.row_op(target_idx, lambda v, j: v + coefficient * self.aug_matrix[source_idx, j])\n",
        "\n",
        "        operation_str = f\"r{target_row} = r{target_row} + {coefficient}*r{source_row}\"\n",
        "        self.operations.append(operation_str)\n",
        "        display(Markdown(f\"**Operation:** {operation_str}\"))\n",
        "        self.display_matrix()\n",
        "\n",
        "    def multiply_row(self, row, coefficient):\n",
        "        row_idx = self._validate_row_number(row)\n",
        "        coefficient = Rational(coefficient)\n",
        "\n",
        "        self.aug_matrix.row_op(row_idx, lambda v, _: coefficient * v)\n",
        "\n",
        "        operation_str = f\"r{row} = {coefficient}*r{row}\"\n",
        "        self.operations.append(operation_str)\n",
        "        display(Markdown(f\"**Operation:** {operation_str}\"))\n",
        "        self.display_matrix()\n",
        "\n",
        "    def swap_rows(self, row1, row2):\n",
        "        row1_idx = self._validate_row_number(row1)\n",
        "        row2_idx = self._validate_row_number(row2)\n",
        "\n",
        "        self.aug_matrix.row_swap(row1_idx, row2_idx)\n",
        "\n",
        "        operation_str = f\"Swap r{row1} <-> r{row2}\"\n",
        "        self.operations.append(operation_str)\n",
        "        display(Markdown(f\"**Operation:** {operation_str}\"))\n",
        "        self.display_matrix()\n",
        "\n",
        "    def display_matrix(self):\n",
        "        \"\"\"Displays the left and right matrix side by side in LaTeX format.\"\"\"\n",
        "        left_matrix = self.aug_matrix[:, :self.matrix.cols]\n",
        "        right_matrix = self.aug_matrix[:, self.matrix.cols:]\n",
        "\n",
        "        # Generate LaTeX code for both matrices\n",
        "        left_latex = latex(left_matrix)\n",
        "        right_latex = latex(right_matrix)\n",
        "\n",
        "        # Combine both matrices into a single display output\n",
        "        combined_latex = r\"\"\"\n",
        "        %s\n",
        "        \\quad\n",
        "        %s\n",
        "        \"\"\" % (left_latex, right_latex)\n",
        "\n",
        "        display(Math(combined_latex))\n",
        "\n",
        "    def print_operations(self):\n",
        "        display(Markdown(\"**Performed Operations:**\"))\n",
        "        for op in self.operations:\n",
        "            print(op)\n",
        "\n",
        "    def get_inverse(self):\n",
        "        \"\"\"Returns the inverse of the matrix after performing Gauss-Jordan elimination.\"\"\"\n",
        "        # Check if the left part of the augmented matrix is the identity matrix\n",
        "        left_matrix = self.aug_matrix[:, :self.matrix.cols]\n",
        "        if not left_matrix == Matrix.eye(self.matrix.rows):\n",
        "            raise ValueError(\"The matrix has not been reduced to the identity matrix. Continue the operations.\")\n",
        "        # Return the right part of the augmented matrix as the inverse\n",
        "        inverse_matrix = self.aug_matrix[:, self.matrix.cols:]\n",
        "        display(Markdown(\"**Inverse Matrix:**\"))\n",
        "        display(Math(latex(inverse_matrix)))\n",
        "        return inverse_matrix"
      ]
    },
    {
      "cell_type": "markdown",
      "metadata": {
        "id": "X0B-7ub0D1HO"
      },
      "source": [
        "**Example 1:**"
      ]
    },
    {
      "cell_type": "code",
      "execution_count": null,
      "metadata": {
        "id": "UMJRMDQdD1HO",
        "outputId": "fd01bf93-6b53-426d-dcc6-497ef21e6686",
        "colab": {
          "base_uri": "https://localhost:8080/",
          "height": 87
        }
      },
      "outputs": [
        {
          "output_type": "display_data",
          "data": {
            "text/plain": [
              "<IPython.core.display.Markdown object>"
            ],
            "text/markdown": "**Initial Matrix (Starting matrix):**"
          },
          "metadata": {}
        },
        {
          "output_type": "display_data",
          "data": {
            "text/plain": [
              "<IPython.core.display.Math object>"
            ],
            "text/latex": "$\\displaystyle \n        \\left[\\begin{matrix}2 & 1\\\\5 & 3\\end{matrix}\\right] \n        \\quad\n        \\left[\\begin{matrix}1 & 0\\\\0 & 1\\end{matrix}\\right]\n        $"
          },
          "metadata": {}
        }
      ],
      "source": [
        "# Create an instance of the class with a matrix to be inverted\n",
        "initial_matrix = [[2, 1], [5, 3]] # 2x2 matrix\n",
        "m = InvertibleMatrix(initial_matrix) # Create an instance of the class"
      ]
    },
    {
      "cell_type": "code",
      "execution_count": null,
      "metadata": {
        "id": "r7h-6ZPlD1HP",
        "outputId": "7ffa272c-0151-435a-9d82-2171b87a971a",
        "colab": {
          "base_uri": "https://localhost:8080/",
          "height": 76
        }
      },
      "outputs": [
        {
          "output_type": "stream",
          "name": "stdout",
          "text": [
            "The inverse matrix is:\n"
          ]
        },
        {
          "output_type": "execute_result",
          "data": {
            "text/plain": [
              "Matrix([\n",
              "[ 3, -1],\n",
              "[-5,  2]])"
            ],
            "text/latex": "$\\displaystyle \\left[\\begin{matrix}3 & -1\\\\-5 & 2\\end{matrix}\\right]$"
          },
          "metadata": {},
          "execution_count": 4
        }
      ],
      "source": [
        "import sympy as sp # import the sympy library\n",
        "a = sp.Matrix(initial_matrix) # create the initial matrix\n",
        "print(\"The inverse matrix is:\")\n",
        "a.inv() # calculate the inverse matrix"
      ]
    },
    {
      "cell_type": "code",
      "execution_count": null,
      "metadata": {
        "id": "joxemI1sD1HP",
        "outputId": "562c292c-958f-4dea-c0cf-a80be888d8b9",
        "colab": {
          "base_uri": "https://localhost:8080/",
          "height": 87
        }
      },
      "outputs": [
        {
          "output_type": "display_data",
          "data": {
            "text/plain": [
              "<IPython.core.display.Markdown object>"
            ],
            "text/markdown": "**Operation:** r2 = r2 + -5/2*r1"
          },
          "metadata": {}
        },
        {
          "output_type": "display_data",
          "data": {
            "text/plain": [
              "<IPython.core.display.Math object>"
            ],
            "text/latex": "$\\displaystyle \n        \\left[\\begin{matrix}2 & 1\\\\0 & \\frac{1}{2}\\end{matrix}\\right] \n        \\quad\n        \\left[\\begin{matrix}1 & 0\\\\- \\frac{5}{2} & 1\\end{matrix}\\right]\n        $"
          },
          "metadata": {}
        }
      ],
      "source": [
        "# Add -5/2 times \"row 1\" to \"row 2\"\n",
        "m.add_row(2, 1, -5/2)"
      ]
    },
    {
      "cell_type": "code",
      "execution_count": null,
      "metadata": {
        "id": "Qtk5TLe2D1HP",
        "outputId": "ceafb243-bcf7-401f-fc83-88c80c076293",
        "colab": {
          "base_uri": "https://localhost:8080/",
          "height": 87
        }
      },
      "outputs": [
        {
          "output_type": "display_data",
          "data": {
            "text/plain": [
              "<IPython.core.display.Markdown object>"
            ],
            "text/markdown": "**Operation:** r1 = 1/2*r1"
          },
          "metadata": {}
        },
        {
          "output_type": "display_data",
          "data": {
            "text/plain": [
              "<IPython.core.display.Math object>"
            ],
            "text/latex": "$\\displaystyle \n        \\left[\\begin{matrix}1 & \\frac{1}{2}\\\\0 & \\frac{1}{2}\\end{matrix}\\right] \n        \\quad\n        \\left[\\begin{matrix}\\frac{1}{2} & 0\\\\- \\frac{5}{2} & 1\\end{matrix}\\right]\n        $"
          },
          "metadata": {}
        }
      ],
      "source": [
        "# Multiply \"row 1\" by 1/2\n",
        "m.multiply_row(1, 1/2)"
      ]
    },
    {
      "cell_type": "code",
      "execution_count": null,
      "metadata": {
        "id": "cAQ2nZdjD1HP",
        "outputId": "35defbca-e37e-45e2-bc62-58504300141b",
        "colab": {
          "base_uri": "https://localhost:8080/",
          "height": 87
        }
      },
      "outputs": [
        {
          "output_type": "display_data",
          "data": {
            "text/plain": [
              "<IPython.core.display.Markdown object>"
            ],
            "text/markdown": "**Operation:** r1 = r1 + -1*r2"
          },
          "metadata": {}
        },
        {
          "output_type": "display_data",
          "data": {
            "text/plain": [
              "<IPython.core.display.Math object>"
            ],
            "text/latex": "$\\displaystyle \n        \\left[\\begin{matrix}1 & 0\\\\0 & \\frac{1}{2}\\end{matrix}\\right] \n        \\quad\n        \\left[\\begin{matrix}3 & -1\\\\- \\frac{5}{2} & 1\\end{matrix}\\right]\n        $"
          },
          "metadata": {}
        }
      ],
      "source": [
        "# Add -1 times \"row 2\" to \"row 1\"\n",
        "m.add_row(1, 2, -1)"
      ]
    },
    {
      "cell_type": "code",
      "execution_count": null,
      "metadata": {
        "id": "VbCtBVvMD1HP",
        "outputId": "60899683-6097-4e4b-f20e-0f1264d1f303",
        "colab": {
          "base_uri": "https://localhost:8080/",
          "height": 87
        }
      },
      "outputs": [
        {
          "output_type": "display_data",
          "data": {
            "text/plain": [
              "<IPython.core.display.Markdown object>"
            ],
            "text/markdown": "**Operation:** r2 = 2*r2"
          },
          "metadata": {}
        },
        {
          "output_type": "display_data",
          "data": {
            "text/plain": [
              "<IPython.core.display.Math object>"
            ],
            "text/latex": "$\\displaystyle \n        \\left[\\begin{matrix}1 & 0\\\\0 & 1\\end{matrix}\\right] \n        \\quad\n        \\left[\\begin{matrix}3 & -1\\\\-5 & 2\\end{matrix}\\right]\n        $"
          },
          "metadata": {}
        }
      ],
      "source": [
        "# Multiply \"row 2\" by 2\n",
        "m.multiply_row(2, 2)"
      ]
    },
    {
      "cell_type": "markdown",
      "metadata": {
        "id": "bHHpW8R1D1HP"
      },
      "source": [
        "The matrix has been correctly computed!\n",
        "\n",
        "**Example 2**"
      ]
    },
    {
      "cell_type": "code",
      "execution_count": null,
      "metadata": {
        "id": "pHTrYAD_D1HP",
        "outputId": "eb9a408a-2451-4159-b94a-f898ed67c402",
        "colab": {
          "base_uri": "https://localhost:8080/",
          "height": 107
        }
      },
      "outputs": [
        {
          "output_type": "display_data",
          "data": {
            "text/plain": [
              "<IPython.core.display.Markdown object>"
            ],
            "text/markdown": "**Initial Matrix (Starting matrix):**"
          },
          "metadata": {}
        },
        {
          "output_type": "display_data",
          "data": {
            "text/plain": [
              "<IPython.core.display.Math object>"
            ],
            "text/latex": "$\\displaystyle \n        \\left[\\begin{matrix}2 & 1 & 2\\\\5 & 3 & 1\\\\1 & 1 & 5\\end{matrix}\\right] \n        \\quad\n        \\left[\\begin{matrix}1 & 0 & 0\\\\0 & 1 & 0\\\\0 & 0 & 1\\end{matrix}\\right]\n        $"
          },
          "metadata": {}
        }
      ],
      "source": [
        "initial_matrix = [[2, 1, 2], [5, 3, 1], [1, 1, 5]] # 3x3 matrix\n",
        "m = InvertibleMatrix(initial_matrix) # Create an instance of the class\n",
        "sympy_m = sp.Matrix(initial_matrix) # create the initial matrix"
      ]
    },
    {
      "cell_type": "code",
      "execution_count": null,
      "metadata": {
        "id": "XPmdWsBeD1HQ",
        "outputId": "fe07bc5e-a1e2-42b1-aad0-24a10803b83b",
        "colab": {
          "base_uri": "https://localhost:8080/",
          "height": 78
        }
      },
      "outputs": [
        {
          "output_type": "execute_result",
          "data": {
            "text/plain": [
              "Matrix([\n",
              "[7/4, -3/8, -5/8],\n",
              "[ -3,    1,    1],\n",
              "[1/4, -1/8,  1/8]])"
            ],
            "text/latex": "$\\displaystyle \\left[\\begin{matrix}\\frac{7}{4} & - \\frac{3}{8} & - \\frac{5}{8}\\\\-3 & 1 & 1\\\\\\frac{1}{4} & - \\frac{1}{8} & \\frac{1}{8}\\end{matrix}\\right]$"
          },
          "metadata": {},
          "execution_count": 10
        }
      ],
      "source": [
        "inverse = sympy_m.inv() # calculate the inverse matrix\n",
        "inverse"
      ]
    },
    {
      "cell_type": "code",
      "execution_count": null,
      "metadata": {
        "id": "dbJtFxeSD1HQ",
        "outputId": "923faa08-8dd5-4dbe-f7b7-ebc02c24cea8",
        "colab": {
          "base_uri": "https://localhost:8080/",
          "height": 107
        }
      },
      "outputs": [
        {
          "output_type": "display_data",
          "data": {
            "text/plain": [
              "<IPython.core.display.Markdown object>"
            ],
            "text/markdown": "**Operation:** r2 = r2 + -5*r3"
          },
          "metadata": {}
        },
        {
          "output_type": "display_data",
          "data": {
            "text/plain": [
              "<IPython.core.display.Math object>"
            ],
            "text/latex": "$\\displaystyle \n        \\left[\\begin{matrix}2 & 1 & 2\\\\0 & -2 & -24\\\\1 & 1 & 5\\end{matrix}\\right] \n        \\quad\n        \\left[\\begin{matrix}1 & 0 & 0\\\\0 & 1 & -5\\\\0 & 0 & 1\\end{matrix}\\right]\n        $"
          },
          "metadata": {}
        }
      ],
      "source": [
        "m.add_row(2, 3, -5)"
      ]
    },
    {
      "cell_type": "code",
      "execution_count": null,
      "metadata": {
        "id": "BdaOE2xQD1HQ",
        "outputId": "5327c6f7-fd10-4d70-d21b-ac73eb27abcb",
        "colab": {
          "base_uri": "https://localhost:8080/",
          "height": 107
        }
      },
      "outputs": [
        {
          "output_type": "display_data",
          "data": {
            "text/plain": [
              "<IPython.core.display.Markdown object>"
            ],
            "text/markdown": "**Operation:** r3 = r3 + -1/2*r1"
          },
          "metadata": {}
        },
        {
          "output_type": "display_data",
          "data": {
            "text/plain": [
              "<IPython.core.display.Math object>"
            ],
            "text/latex": "$\\displaystyle \n        \\left[\\begin{matrix}2 & 1 & 2\\\\0 & -2 & -24\\\\0 & \\frac{1}{2} & 4\\end{matrix}\\right] \n        \\quad\n        \\left[\\begin{matrix}1 & 0 & 0\\\\0 & 1 & -5\\\\- \\frac{1}{2} & 0 & 1\\end{matrix}\\right]\n        $"
          },
          "metadata": {}
        }
      ],
      "source": [
        "m.add_row(3, 1, -1/2)"
      ]
    },
    {
      "cell_type": "code",
      "execution_count": null,
      "metadata": {
        "id": "phf-RXX7D1HQ",
        "outputId": "b8a82a65-9e78-419d-9c45-49fe93a580c6",
        "colab": {
          "base_uri": "https://localhost:8080/",
          "height": 107
        }
      },
      "outputs": [
        {
          "output_type": "display_data",
          "data": {
            "text/plain": [
              "<IPython.core.display.Markdown object>"
            ],
            "text/markdown": "**Operation:** r3 = 4*r3"
          },
          "metadata": {}
        },
        {
          "output_type": "display_data",
          "data": {
            "text/plain": [
              "<IPython.core.display.Math object>"
            ],
            "text/latex": "$\\displaystyle \n        \\left[\\begin{matrix}2 & 1 & 2\\\\0 & -2 & -24\\\\0 & 2 & 16\\end{matrix}\\right] \n        \\quad\n        \\left[\\begin{matrix}1 & 0 & 0\\\\0 & 1 & -5\\\\-2 & 0 & 4\\end{matrix}\\right]\n        $"
          },
          "metadata": {}
        }
      ],
      "source": [
        "m.multiply_row(3, 4)"
      ]
    },
    {
      "cell_type": "code",
      "execution_count": null,
      "metadata": {
        "id": "lLrOXHFMD1HQ",
        "outputId": "d8634cdd-441c-49b6-82e7-18800f35cf7e",
        "colab": {
          "base_uri": "https://localhost:8080/",
          "height": 107
        }
      },
      "outputs": [
        {
          "output_type": "display_data",
          "data": {
            "text/plain": [
              "<IPython.core.display.Markdown object>"
            ],
            "text/markdown": "**Operation:** r3 = r3 + 1*r2"
          },
          "metadata": {}
        },
        {
          "output_type": "display_data",
          "data": {
            "text/plain": [
              "<IPython.core.display.Math object>"
            ],
            "text/latex": "$\\displaystyle \n        \\left[\\begin{matrix}2 & 1 & 2\\\\0 & -2 & -24\\\\0 & 0 & -8\\end{matrix}\\right] \n        \\quad\n        \\left[\\begin{matrix}1 & 0 & 0\\\\0 & 1 & -5\\\\-2 & 1 & -1\\end{matrix}\\right]\n        $"
          },
          "metadata": {}
        }
      ],
      "source": [
        "m.add_row(3, 2, 1)"
      ]
    },
    {
      "cell_type": "code",
      "execution_count": null,
      "metadata": {
        "id": "s-awFhwED1HQ",
        "outputId": "cd783752-0205-4b1f-98ad-febfb9418846",
        "colab": {
          "base_uri": "https://localhost:8080/",
          "height": 107
        }
      },
      "outputs": [
        {
          "output_type": "display_data",
          "data": {
            "text/plain": [
              "<IPython.core.display.Markdown object>"
            ],
            "text/markdown": "**Operation:** r3 = -1/8*r3"
          },
          "metadata": {}
        },
        {
          "output_type": "display_data",
          "data": {
            "text/plain": [
              "<IPython.core.display.Math object>"
            ],
            "text/latex": "$\\displaystyle \n        \\left[\\begin{matrix}2 & 1 & 2\\\\0 & -2 & -24\\\\0 & 0 & 1\\end{matrix}\\right] \n        \\quad\n        \\left[\\begin{matrix}1 & 0 & 0\\\\0 & 1 & -5\\\\\\frac{1}{4} & - \\frac{1}{8} & \\frac{1}{8}\\end{matrix}\\right]\n        $"
          },
          "metadata": {}
        }
      ],
      "source": [
        "m.multiply_row(3, -1/8)"
      ]
    },
    {
      "cell_type": "code",
      "execution_count": null,
      "metadata": {
        "id": "Gx52nF9-D1HQ",
        "outputId": "459e20c8-a65d-4b08-8639-5cbdd7a5f480",
        "colab": {
          "base_uri": "https://localhost:8080/",
          "height": 108
        }
      },
      "outputs": [
        {
          "output_type": "display_data",
          "data": {
            "text/plain": [
              "<IPython.core.display.Markdown object>"
            ],
            "text/markdown": "**Operation:** r2 = -1/2*r2"
          },
          "metadata": {}
        },
        {
          "output_type": "display_data",
          "data": {
            "text/plain": [
              "<IPython.core.display.Math object>"
            ],
            "text/latex": "$\\displaystyle \n        \\left[\\begin{matrix}2 & 1 & 2\\\\0 & 1 & 12\\\\0 & 0 & 1\\end{matrix}\\right] \n        \\quad\n        \\left[\\begin{matrix}1 & 0 & 0\\\\0 & - \\frac{1}{2} & \\frac{5}{2}\\\\\\frac{1}{4} & - \\frac{1}{8} & \\frac{1}{8}\\end{matrix}\\right]\n        $"
          },
          "metadata": {}
        }
      ],
      "source": [
        "m.multiply_row(2, -1/2)"
      ]
    },
    {
      "cell_type": "code",
      "execution_count": null,
      "metadata": {
        "id": "h-MRJlaoD1HQ",
        "outputId": "f5d82acc-f0a0-4490-eafb-0615c3eabc38",
        "colab": {
          "base_uri": "https://localhost:8080/",
          "height": 107
        }
      },
      "outputs": [
        {
          "output_type": "display_data",
          "data": {
            "text/plain": [
              "<IPython.core.display.Markdown object>"
            ],
            "text/markdown": "**Operation:** r2 = r2 + -12*r3"
          },
          "metadata": {}
        },
        {
          "output_type": "display_data",
          "data": {
            "text/plain": [
              "<IPython.core.display.Math object>"
            ],
            "text/latex": "$\\displaystyle \n        \\left[\\begin{matrix}2 & 1 & 2\\\\0 & 1 & 0\\\\0 & 0 & 1\\end{matrix}\\right] \n        \\quad\n        \\left[\\begin{matrix}1 & 0 & 0\\\\-3 & 1 & 1\\\\\\frac{1}{4} & - \\frac{1}{8} & \\frac{1}{8}\\end{matrix}\\right]\n        $"
          },
          "metadata": {}
        }
      ],
      "source": [
        "m.add_row(2, 3, -12)"
      ]
    },
    {
      "cell_type": "code",
      "execution_count": null,
      "metadata": {
        "id": "XhsTnDGVD1HQ",
        "outputId": "c873001f-7e3d-46fa-cab9-524dce3c9686",
        "colab": {
          "base_uri": "https://localhost:8080/",
          "height": 108
        }
      },
      "outputs": [
        {
          "output_type": "display_data",
          "data": {
            "text/plain": [
              "<IPython.core.display.Markdown object>"
            ],
            "text/markdown": "**Operation:** r1 = r1 + -2*r3"
          },
          "metadata": {}
        },
        {
          "output_type": "display_data",
          "data": {
            "text/plain": [
              "<IPython.core.display.Math object>"
            ],
            "text/latex": "$\\displaystyle \n        \\left[\\begin{matrix}2 & 1 & 0\\\\0 & 1 & 0\\\\0 & 0 & 1\\end{matrix}\\right] \n        \\quad\n        \\left[\\begin{matrix}\\frac{1}{2} & \\frac{1}{4} & - \\frac{1}{4}\\\\-3 & 1 & 1\\\\\\frac{1}{4} & - \\frac{1}{8} & \\frac{1}{8}\\end{matrix}\\right]\n        $"
          },
          "metadata": {}
        }
      ],
      "source": [
        "m.add_row(1, 3, -2)"
      ]
    },
    {
      "cell_type": "code",
      "execution_count": null,
      "metadata": {
        "id": "uKPTXkegD1HQ",
        "outputId": "55a0844a-e504-4633-94a3-1b1a3b029f18",
        "colab": {
          "base_uri": "https://localhost:8080/",
          "height": 108
        }
      },
      "outputs": [
        {
          "output_type": "display_data",
          "data": {
            "text/plain": [
              "<IPython.core.display.Markdown object>"
            ],
            "text/markdown": "**Operation:** r1 = r1 + -1*r2"
          },
          "metadata": {}
        },
        {
          "output_type": "display_data",
          "data": {
            "text/plain": [
              "<IPython.core.display.Math object>"
            ],
            "text/latex": "$\\displaystyle \n        \\left[\\begin{matrix}1 & -1 & 0\\\\0 & 1 & 0\\\\0 & 0 & 1\\end{matrix}\\right] \n        \\quad\n        \\left[\\begin{matrix}\\frac{19}{4} & - \\frac{11}{8} & - \\frac{13}{8}\\\\-3 & 1 & 1\\\\\\frac{1}{4} & - \\frac{1}{8} & \\frac{1}{8}\\end{matrix}\\right]\n        $"
          },
          "metadata": {}
        }
      ],
      "source": [
        "m.add_row(1, 2, -1)"
      ]
    },
    {
      "cell_type": "code",
      "execution_count": null,
      "metadata": {
        "id": "gc_UqtTFD1HQ",
        "outputId": "7edf1eb0-4c45-497c-9dbb-fbfc463481c8",
        "colab": {
          "base_uri": "https://localhost:8080/",
          "height": 108
        }
      },
      "outputs": [
        {
          "output_type": "display_data",
          "data": {
            "text/plain": [
              "<IPython.core.display.Markdown object>"
            ],
            "text/markdown": "**Operation:** r1 = 1/2*r1"
          },
          "metadata": {}
        },
        {
          "output_type": "display_data",
          "data": {
            "text/plain": [
              "<IPython.core.display.Math object>"
            ],
            "text/latex": "$\\displaystyle \n        \\left[\\begin{matrix}1 & 0 & 0\\\\0 & 1 & 0\\\\0 & 0 & 1\\end{matrix}\\right] \n        \\quad\n        \\left[\\begin{matrix}\\frac{7}{4} & - \\frac{3}{8} & - \\frac{5}{8}\\\\-3 & 1 & 1\\\\\\frac{1}{4} & - \\frac{1}{8} & \\frac{1}{8}\\end{matrix}\\right]\n        $"
          },
          "metadata": {}
        }
      ],
      "source": [
        "m.multiply_row(1, 1/2)"
      ]
    },
    {
      "cell_type": "markdown",
      "metadata": {
        "id": "RCguWtcMD1HR"
      },
      "source": [
        "---\n",
        "\n",
        "## Exercises for Students\n",
        "\n",
        "Find the inverse matrices using the Gauss method:\n",
        "\n",
        "$$\n",
        "A=\n",
        "\\begin{bmatrix}\n",
        "1 & 2\\\\\n",
        "3 & 4\n",
        "\\end{bmatrix}\n",
        ", \\qquad\n",
        "B=\n",
        "\\begin{bmatrix}\n",
        "1 & 2 & 3 \\\\\n",
        "4 & 5 & 1 \\\\\n",
        "2 & 3 & 2\n",
        "\\end{bmatrix}\n",
        ",\\qquad\n",
        "C=\n",
        "\\begin{bmatrix}\n",
        "0 & 0 & 1\\\\\n",
        "0 & 1 & 0\\\\\n",
        "1 & 0 & 0\n",
        "\\end{bmatrix}\n",
        "$$"
      ]
    },
    {
      "cell_type": "markdown",
      "source": [
        "\n",
        "---\n",
        "\n",
        "## **1. Inverse of \\( A = \\begin{bmatrix} 1 & 2 \\\\ 3 & 4 \\end{bmatrix} \\)**\n",
        "\n",
        "### Step 1: Augment the matrix \\( A \\) with the identity matrix\n",
        "$$\n",
        "[A | I] = \\begin{bmatrix} 1 & 2 & | & 1 & 0 \\\\ 3 & 4 & | & 0 & 1 \\end{bmatrix}\n",
        "$$\n",
        "\n",
        "---\n",
        "\n",
        "### Step 2: Eliminate the first element in the second row\n",
        "$$\n",
        "R_2 \\to R_2 - 3 \\cdot R_1\n",
        "$$\n",
        "\n",
        "$$\n",
        "\\begin{bmatrix}\n",
        "1 & 2 & | & 1 & 0 \\\\\n",
        "0 & -2 & | & -3 & 1\n",
        "\\end{bmatrix}\n",
        "$$\n",
        "\n",
        "---\n",
        "\n",
        "### Step 3: Make the pivot in the second row equal to 1\n",
        "$$\n",
        "R_2 \\to R_2 / -2\n",
        "$$\n",
        "\n",
        "$$\n",
        "\\begin{bmatrix}\n",
        "1 & 2 & | & 1 & 0 \\\\\n",
        "0 & 1 & | & 1.5 & -0.5\n",
        "\\end{bmatrix}\n",
        "$$\n",
        "\n",
        "---\n",
        "\n",
        "### Step 4: Eliminate the second element in the first row\n",
        "$$\n",
        "R_1 \\to R_1 - 2 \\cdot R_2\n",
        "$$\n",
        "\n",
        "$$\n",
        "\\begin{bmatrix}\n",
        "1 & 0 & | & -2 & 1 \\\\\n",
        "0 & 1 & | & 1.5 & -0.5\n",
        "\\end{bmatrix}\n",
        "$$\n",
        "\n",
        "---\n",
        "\n",
        "### Step 5: Result\n",
        "The matrix on the right-hand side is the inverse:\n",
        "\n",
        "$$\n",
        "A^{-1} = \\begin{bmatrix} -2 & 1 \\\\ 1.5 & -0.5 \\end{bmatrix}\n",
        "$$\n",
        "\n",
        "---\n",
        "\n",
        "## **2. Inverse of \\( B = \\begin{bmatrix} 1 & 2 & 3 \\\\ 4 & 5 & 1 \\\\ 2 & 3 & 2 \\end{bmatrix} \\)**\n",
        "\n",
        "### Step 1: Augment the matrix \\( B \\) with the identity matrix\n",
        "$$\n",
        "[B | I] = \\begin{bmatrix}\n",
        "1 & 2 & 3 & | & 1 & 0 & 0 \\\\\n",
        "4 & 5 & 1 & | & 0 & 1 & 0 \\\\\n",
        "2 & 3 & 2 & | & 0 & 0 & 1\n",
        "\\end{bmatrix}\n",
        "$$\n",
        "\n",
        "---\n",
        "\n",
        "### Step 2: Eliminate the first element in rows 2 and 3\n",
        "- For \\$ R_2 \\to R_2 - 4 \\cdot R_1 $:\n",
        "$$\n",
        "\\begin{bmatrix}\n",
        "1 & 2 & 3 & | & 1 & 0 & 0 \\\\\n",
        "0 & -3 & -11 & | & -4 & 1 & 0 \\\\\n",
        "2 & 3 & 2 & | & 0 & 0 & 1\n",
        "\\end{bmatrix}\n",
        "$$\n",
        "\n",
        "- For $ R_3 \\to R_3 - 2 \\cdot R_1 \\$:\n",
        "$$\n",
        "\\begin{bmatrix}\n",
        "1 & 2 & 3 & | & 1 & 0 & 0 \\\\\n",
        "0 & -3 & -11 & | & -4 & 1 & 0 \\\\\n",
        "0 & -1 & -4 & | & -2 & 0 & 1\n",
        "\\end{bmatrix}\n",
        "$$\n",
        "\n",
        "---\n",
        "\n",
        "### Step 3: Make the pivot in the second row equal to 1\n",
        "$$\n",
        "R_2 \\to R_2 / -3\n",
        "$$\n",
        "\n",
        "$$\n",
        "\\begin{bmatrix}\n",
        "1 & 2 & 3 & | & 1 & 0 & 0 \\\\\n",
        "0 & 1 & 11/3 & | & 4/3 & -1/3 & 0 \\\\\n",
        "0 & -1 & -4 & | & -2 & 0 & 1\n",
        "\\end{bmatrix}\n",
        "$$\n",
        "\n",
        "---\n",
        "\n",
        "### Step 4: Eliminate the second element in rows 1 and 3\n",
        "- For \\$ R_1 \\to R_1 - 2 \\cdot R_2 \\$\n",
        "- For \\$ R_3 \\to R_3 + R_2 \\$\n",
        "\n",
        "Perform the operations:\n",
        "\n",
        "$$\n",
        "\\begin{bmatrix}\n",
        "1 & 0 & -1/3 & | & 1/3 & 2/3 & 0 \\\\\n",
        "0 & 1 & 11/3 & | & 4/3 & -1/3 & 0 \\\\\n",
        "0 & 0 & -1/3 & | & -2/3 & 1/3 & 1\n",
        "\\end{bmatrix}\n",
        "$$\n",
        "\n",
        "---\n",
        "\n",
        "### Step 5: Make the pivot in the third row equal to 1\n",
        "$$\n",
        "R_3 \\to R_3 / -1/3\n",
        "$$\n",
        "\n",
        "$$\n",
        "\\begin{bmatrix}\n",
        "1 & 0 & -1/3 & | & 1/3 & 2/3 & 0 \\\\\n",
        "0 & 1 & 11/3 & | & 4/3 & -1/3 & 0 \\\\\n",
        "0 & 0 & 1 & | & 2 & -1 & -3\n",
        "\\end{bmatrix}\n",
        "$$\n",
        "\n",
        "---\n",
        "\n",
        "### Step 6: Eliminate the third element in rows 1 and 2\n",
        "Perform operations to finalize the inverse matrix.\n",
        "\n",
        "---\n",
        "\n",
        "### Result:\n",
        "The inverse of \\( B \\) is:\n",
        "\n",
        "$$\n",
        "B^{-1} = \\begin{bmatrix} \\text{(final values here)} \\end{bmatrix}\n",
        "$$\n",
        "\n",
        "---\n",
        "\n",
        "## **3. Inverse of \\( C = \\begin{bmatrix} 0 & 0 & 1 \\\\ 0 & 1 & 0 \\\\ 1 & 0 & 0 \\end{bmatrix} \\)**\n",
        "\n",
        "### Step 1: Augment the matrix \\( C \\) with the identity matrix\n",
        "$$\n",
        "[C | I] = \\begin{bmatrix}\n",
        "0 & 0 & 1 & | & 1 & 0 & 0 \\\\\n",
        "0 & 1 & 0 & | & 0 & 1 & 0 \\\\\n",
        "1 & 0 & 0 & | & 0 & 0 & 1\n",
        "\\end{bmatrix}\n",
        "$$\n",
        "\n",
        "---\n",
        "\n",
        "### Step 2: Perform row swaps\n",
        "Since \\( C \\) is a permutation matrix, swap rows to make \\( C \\) the identity matrix:\n",
        "\n",
        "- Swap rows 1 and 3.\n",
        "\n",
        "$$\n",
        "\\begin{bmatrix}\n",
        "1 & 0 & 0 & | & 0 & 0 & 1 \\\\\n",
        "0 & 1 & 0 & | & 0 & 1 & 0 \\\\\n",
        "0 & 0 & 1 & | & 1 & 0 & 0\n",
        "\\end{bmatrix}\n",
        "$$\n",
        "\n",
        "---\n",
        "\n",
        "### Step 3: Result\n",
        "The matrix on the right-hand side is the inverse:\n",
        "\n",
        "$$\n",
        "C^{-1} = \\begin{bmatrix} 0 & 0 & 1 \\\\ 0 & 1 & 0 \\\\ 1 & 0 & 0 \\end{bmatrix}\n",
        "$$\n",
        "\n",
        "---\n"
      ],
      "metadata": {
        "id": "cR7Pgk12HVWx"
      }
    }
  ],
  "metadata": {
    "kernelspec": {
      "display_name": "Python 3",
      "language": "python",
      "name": "python3"
    },
    "language_info": {
      "codemirror_mode": {
        "name": "ipython",
        "version": 3
      },
      "file_extension": ".py",
      "mimetype": "text/x-python",
      "name": "python",
      "nbconvert_exporter": "python",
      "pygments_lexer": "ipython3",
      "version": "3.11.9"
    },
    "colab": {
      "provenance": []
    }
  },
  "nbformat": 4,
  "nbformat_minor": 0
}