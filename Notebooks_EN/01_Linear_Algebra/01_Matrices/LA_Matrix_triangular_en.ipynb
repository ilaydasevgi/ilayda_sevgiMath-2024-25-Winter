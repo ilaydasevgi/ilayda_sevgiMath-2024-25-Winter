{
  "cells": [
    {
      "cell_type": "markdown",
      "metadata": {
        "id": "qqSh0wsFJ6qR"
      },
      "source": [
        "# Triangular Matrices and determinant calculation"
      ]
    },
    {
      "cell_type": "code",
      "execution_count": null,
      "metadata": {
        "id": "F0JnBetKJ6qR",
        "outputId": "30e508a7-113f-4781-9d83-0f54014a0d92",
        "colab": {
          "base_uri": "https://localhost:8080/",
          "height": 107
        }
      },
      "outputs": [
        {
          "output_type": "display_data",
          "data": {
            "text/plain": [
              "<IPython.core.display.Markdown object>"
            ],
            "text/markdown": "**Initial Matrix:**"
          },
          "metadata": {}
        },
        {
          "output_type": "display_data",
          "data": {
            "text/plain": [
              "Matrix([\n",
              "[1, 2, 3],\n",
              "[2, 5, 3],\n",
              "[3, 2, 1]])"
            ],
            "text/latex": "$\\displaystyle \\left[\\begin{matrix}1 & 2 & 3\\\\2 & 5 & 3\\\\3 & 2 & 1\\end{matrix}\\right]$"
          },
          "metadata": {}
        }
      ],
      "source": [
        "import sympy as sp\n",
        "from sympy import Matrix, symbols, Rational\n",
        "from IPython.display import display, Markdown\n",
        "\n",
        "class SymbolicMatrix:\n",
        "    def __init__(self, matrix):\n",
        "        self.matrix = Matrix(matrix).applyfunc(Rational)\n",
        "        self.operations = []\n",
        "        display(Markdown(\"**Initial Matrix:**\"))\n",
        "        display(self.matrix)  # Display the matrix upon initialization\n",
        "\n",
        "    def __repr__(self):\n",
        "        return repr(self.matrix)  # Use Matrix's repr\n",
        "\n",
        "    def __str__(self):\n",
        "        return str(self.matrix)  # Use Matrix's str\n",
        "\n",
        "    def _repr_latex_(self):\n",
        "        return self.matrix._repr_latex_()  # Delegate LaTeX display\n",
        "\n",
        "    def _validate_row_number(self, row):\n",
        "        if not isinstance(row, int):\n",
        "            raise TypeError(\"Row number must be an integer.\")\n",
        "        if row < 1 or row > self.matrix.rows:\n",
        "            raise IndexError(f\"Row number must be in the range from 1 to {self.matrix.rows}.\")\n",
        "        return row - 1\n",
        "\n",
        "    def _validate_col_number(self, col):\n",
        "        if not isinstance(col, int):\n",
        "            raise TypeError(\"Column number must be an integer.\")\n",
        "        if col < 1 or col > self.matrix.cols:\n",
        "            raise IndexError(f\"Column number must be in the range from 1 to {self.matrix.cols}.\")\n",
        "        return col - 1\n",
        "\n",
        "    # Row operations\n",
        "    def add_row(self, target_row, source_row, coefficient):\n",
        "        target_idx = self._validate_row_number(target_row)\n",
        "        source_idx = self._validate_row_number(source_row)\n",
        "        coefficient = Rational(coefficient)\n",
        "\n",
        "        self.matrix.row_op(target_idx, lambda v, j: v + coefficient * self.matrix[source_idx, j])\n",
        "        operation_str = f\"r{target_row} = r{target_row} + {coefficient}*r{source_row}\"\n",
        "        self.operations.append(operation_str)\n",
        "        display(Markdown(f\"**Operation:** {operation_str}\"))\n",
        "        display(self.matrix)\n",
        "\n",
        "    def multiply_row(self, row, coefficient):\n",
        "        row_idx = self._validate_row_number(row)\n",
        "        coefficient = Rational(coefficient)\n",
        "        self.matrix.row_op(row_idx, lambda v, _: coefficient * v)\n",
        "        operation_str = f\"r{row} = {coefficient}*r{row}\"\n",
        "        self.operations.append(operation_str)\n",
        "        display(Markdown(f\"**Operation:** {operation_str}\"))\n",
        "        display(self.matrix)\n",
        "\n",
        "    def swap_rows(self, row1, row2):\n",
        "        row1_idx = self._validate_row_number(row1)\n",
        "        row2_idx = self._validate_row_number(row2)\n",
        "        self.matrix.row_swap(row1_idx, row2_idx)\n",
        "        operation_str = f\"Swap r{row1} <-> r{row2}\"\n",
        "        self.operations.append(operation_str)\n",
        "        display(Markdown(f\"**Operation:** {operation_str}\"))\n",
        "        display(self.matrix)\n",
        "\n",
        "    # Column operations\n",
        "    def add_col(self, target_col, source_col, coefficient):\n",
        "        target_idx = self._validate_col_number(target_col)\n",
        "        source_idx = self._validate_col_number(source_col)\n",
        "        self.matrix.col_op(target_idx, lambda v, i: v + coefficient * self.matrix[i, source_idx])\n",
        "        operation_str = f\"c{target_col} = c{target_col} + {coefficient}*c{source_col}\"\n",
        "        self.operations.append(operation_str)\n",
        "        display(Markdown(f\"**Operation:** {operation_str}\"))\n",
        "        display(self.matrix)\n",
        "\n",
        "    def multiply_col(self, col, coefficient):\n",
        "        col_idx = self._validate_col_number(col)\n",
        "        self.matrix.col_op(col_idx, lambda v, _: coefficient * v)\n",
        "        operation_str = f\"c{col} = {coefficient}*c{col}\"\n",
        "        self.operations.append(operation_str)\n",
        "        display(Markdown(f\"**Operation:** {operation_str}\"))\n",
        "        display(self.matrix)\n",
        "\n",
        "    def swap_cols(self, col1, col2):\n",
        "        col1_idx = self._validate_col_number(col1)\n",
        "        col2_idx = self._validate_col_number(col2)\n",
        "        self.matrix.col_swap(col1_idx, col2_idx)\n",
        "        operation_str = f\"Swap c{col1} <-> c{col2}\"\n",
        "        self.operations.append(operation_str)\n",
        "        display(Markdown(f\"**Operation:** {operation_str}\"))\n",
        "        display(self.matrix)\n",
        "\n",
        "    # Display the operations performed\n",
        "    def print_operations(self):\n",
        "        display(Markdown(\"**Performed Operations:**\"))\n",
        "        for op in self.operations:\n",
        "            print(op)\n",
        "\n",
        "# Example usage\n",
        "mat = [[1, 2, 3], [2, 5, 3], [3, 2, 1]]\n",
        "\n",
        "m = SymbolicMatrix(mat) # instance of SymbolicMatrix class\n",
        "\n",
        "# define the same matrix for computation check\n",
        "original_matrix = sp.Matrix(mat)"
      ]
    },
    {
      "cell_type": "code",
      "execution_count": null,
      "metadata": {
        "id": "8fJP0cGZJ6qS",
        "outputId": "51bce475-89bd-4cd4-99ad-f3f2e494d425",
        "colab": {
          "base_uri": "https://localhost:8080/",
          "height": 107
        }
      },
      "outputs": [
        {
          "output_type": "display_data",
          "data": {
            "text/plain": [
              "<IPython.core.display.Markdown object>"
            ],
            "text/markdown": "**Operation:** r1 = r1 + -2*r2"
          },
          "metadata": {}
        },
        {
          "output_type": "display_data",
          "data": {
            "text/plain": [
              "Matrix([\n",
              "[-1, -4,  3],\n",
              "[ 0,  1, -3],\n",
              "[ 3,  2,  1]])"
            ],
            "text/latex": "$\\displaystyle \\left[\\begin{matrix}-1 & -4 & 3\\\\0 & 1 & -3\\\\3 & 2 & 1\\end{matrix}\\right]$"
          },
          "metadata": {}
        }
      ],
      "source": [
        "m.add_row(1, 2, -2)"
      ]
    },
    {
      "cell_type": "code",
      "execution_count": null,
      "metadata": {
        "id": "O4jvx9BPJ6qS",
        "outputId": "ad204fa6-f352-47cd-d7c7-695fc0ed3e24",
        "colab": {
          "base_uri": "https://localhost:8080/",
          "height": 107
        }
      },
      "outputs": [
        {
          "output_type": "display_data",
          "data": {
            "text/plain": [
              "<IPython.core.display.Markdown object>"
            ],
            "text/markdown": "**Operation:** r3 = r3 + -3*r1"
          },
          "metadata": {}
        },
        {
          "output_type": "display_data",
          "data": {
            "text/plain": [
              "Matrix([\n",
              "[-1, -4,  3],\n",
              "[ 0,  1, -3],\n",
              "[ 6, 14, -8]])"
            ],
            "text/latex": "$\\displaystyle \\left[\\begin{matrix}-1 & -4 & 3\\\\0 & 1 & -3\\\\6 & 14 & -8\\end{matrix}\\right]$"
          },
          "metadata": {}
        }
      ],
      "source": [
        "m.add_row(3, 1, -3)"
      ]
    },
    {
      "cell_type": "code",
      "execution_count": null,
      "metadata": {
        "id": "0T6j56TaJ6qS",
        "outputId": "c97f1bec-8d37-44e1-819a-c7cc50159f64",
        "colab": {
          "base_uri": "https://localhost:8080/",
          "height": 107
        }
      },
      "outputs": [
        {
          "output_type": "display_data",
          "data": {
            "text/plain": [
              "<IPython.core.display.Markdown object>"
            ],
            "text/markdown": "**Operation:** r3 = r3 + 4*r2"
          },
          "metadata": {}
        },
        {
          "output_type": "display_data",
          "data": {
            "text/plain": [
              "Matrix([\n",
              "[-1, -4,   3],\n",
              "[ 0,  1,  -3],\n",
              "[ 6, 18, -20]])"
            ],
            "text/latex": "$\\displaystyle \\left[\\begin{matrix}-1 & -4 & 3\\\\0 & 1 & -3\\\\6 & 18 & -20\\end{matrix}\\right]$"
          },
          "metadata": {}
        }
      ],
      "source": [
        "m.add_row(3, 2, 4)"
      ]
    },
    {
      "cell_type": "markdown",
      "metadata": {
        "id": "uh-Hs09KJ6qS"
      },
      "source": [
        "The resulting matrix is an upper triangular matrix.\n",
        "\n",
        "### Determinant of a Triangular Matrix\n",
        "\n",
        "For a triangular matrix, the determinant is equal to the product of the elements on its diagonal."
      ]
    },
    {
      "cell_type": "code",
      "execution_count": null,
      "metadata": {
        "id": "zHUBijgOJ6qT",
        "outputId": "b6ee71cf-1adb-4b21-af77-0e92e518a46d",
        "colab": {
          "base_uri": "https://localhost:8080/"
        }
      },
      "outputs": [
        {
          "output_type": "execute_result",
          "data": {
            "text/plain": [
              "True"
            ]
          },
          "metadata": {},
          "execution_count": 7
        }
      ],
      "source": [
        "# The determinant of a triangular matrix is the product of the diagonal elements!\n",
        "original_matrix.det() == 1 * 1 * (-20)"
      ]
    },
    {
      "cell_type": "markdown",
      "metadata": {
        "id": "RF4Ttp0MJ6qT"
      },
      "source": [
        "---\n",
        "\n",
        "## Exercises for Students\n",
        "\n",
        "Perform row and column operations to reduce the following matrices to an upper triangular form and calculate their determinants by taking the product of the diagonal elements.\n",
        "\n",
        "1.\n",
        "$$\n",
        "A = \\begin{bmatrix}\n",
        "12 & 3 \\\\\n",
        "-18 & -4\n",
        "\\end{bmatrix}\n",
        "$$\n",
        "\n",
        "2.\n",
        "\n",
        "$$\n",
        "B = \\begin{bmatrix}\n",
        "1 & 2 & 3 \\\\\n",
        "4 & 5 & 6 \\\\\n",
        "7 & 8 & 9\n",
        "\\end{bmatrix}\n",
        "$$"
      ]
    },
    {
      "cell_type": "markdown",
      "metadata": {
        "id": "BWLP0W3KJ6qT"
      },
      "source": [
        "\n",
        "\n",
        "---\n",
        "\n",
        "## **1. Matrix $A = \\begin{bmatrix} 12 & 3 \\\\ -18 & -4 \\end{bmatrix}$**\n",
        "\n",
        "### Step 1: Write the matrix\n",
        "We start with the given matrix:\n",
        "\n",
        "$$\n",
        "A = \\begin{bmatrix} 12 & 3 \\\\ -18 & -4 \\end{bmatrix}\n",
        "$$\n",
        "\n",
        "---\n",
        "\n",
        "### Step 2: Eliminate the first element in the second row\n",
        "To eliminate the first element in the second row, perform the row operation:\n",
        "\n",
        "$\n",
        "R_2 \\to R_2 + \\frac{18}{12} \\cdot R_1\n",
        "$\n",
        "\n",
        "Simplify $\\frac{18}{12} = \\frac{3}{2}$. Perform the operation:\n",
        "\n",
        "$\n",
        "R_2 \\to R_2 + \\frac{3}{2} \\cdot R_1\n",
        "$\n",
        "\n",
        "Perform calculations for each element:\n",
        "- First column: $-18 + \\frac{3}{2} \\cdot 12 = -18 + 18 = 0$\n",
        "- Second column: $-4 + \\frac{3}{2} \\cdot 3 = -4 + 4.5 = 0.5$\n",
        "\n",
        "Result:\n",
        "\n",
        "$$\n",
        "A = \\begin{bmatrix} 12 & 3 \\\\ 0 & 0.5 \\end{bmatrix}\n",
        "$$\n",
        "\n",
        "---\n",
        "\n",
        "### Step 3: Calculate the determinant\n",
        "Now that the matrix is in upper triangular form, the determinant is the product of the diagonal elements:\n",
        "\n",
        "$$\n",
        "\\text{det}(A) = 12 \\cdot 0.5 = 6\n",
        "$$\n",
        "\n",
        "---\n",
        "\n",
        "## **2. Matrix $B = \\begin{bmatrix} 1 & 2 & 3 \\\\ 4 & 5 & 6 \\\\ 7 & 8 & 9 \\end{bmatrix}$**\n",
        "\n",
        "### Step 1: Write the matrix\n",
        "We start with the given matrix:\n",
        "\n",
        "$$\n",
        "B = \\begin{bmatrix} 1 & 2 & 3 \\\\ 4 & 5 & 6 \\\\ 7 & 8 & 9 \\end{bmatrix}\n",
        "$$\n",
        "\n",
        "---\n",
        "\n",
        "### Step 2: Eliminate the first element in the second row\n",
        "To eliminate the first element in the second row, perform the row operation:\n",
        "\n",
        "$\n",
        "R_2 \\to R_2 - 4 \\cdot R_1\n",
        "$\n",
        "\n",
        "Perform calculations for each element:\n",
        "- First column: $4 - 4 \\cdot 1 = 0$\n",
        "- Second column: $5 - 4 \\cdot 2 = 5 - 8 = -3$\n",
        "- Third column: $6 - 4 \\cdot 3 = 6 - 12 = -6$\n",
        "\n",
        "Result:\n",
        "\n",
        "$$\n",
        "B = \\begin{bmatrix} 1 & 2 & 3 \\\\ 0 & -3 & -6 \\\\ 7 & 8 & 9 \\end{bmatrix}\n",
        "$$\n",
        "\n",
        "---\n",
        "\n",
        "### Step 3: Eliminate the first element in the third row\n",
        "To eliminate the first element in the third row, perform the row operation:\n",
        "\n",
        "$\n",
        "R_3 \\to R_3 - 7 \\cdot R_1\n",
        "$\n",
        "\n",
        "Perform calculations for each element:\n",
        "- First column: $7 - 7 \\cdot 1 = 0$\n",
        "- Second column: $8 - 7 \\cdot 2 = 8 - 14 = -6$\n",
        "- Third column: $9 - 7 \\cdot 3 = 9 - 21 = -12$\n",
        "\n",
        "Result:\n",
        "\n",
        "$$\n",
        "B = \\begin{bmatrix} 1 & 2 & 3 \\\\ 0 & -3 & -6 \\\\ 0 & -6 & -12 \\end{bmatrix}\n",
        "$$\n",
        "\n",
        "---\n",
        "\n",
        "### Step 4: Eliminate the second element in the third row\n",
        "To eliminate the second element in the third row, perform the row operation:\n",
        "\n",
        "$\n",
        "R_3 \\to R_3 - 2 \\cdot R_2\n",
        "$\n",
        "\n",
        "Perform calculations for each element:\n",
        "- Second column: $-6 - 2 \\cdot -3 = -6 + 6 = 0$\n",
        "- Third column: $-12 - 2 \\cdot -6 = -12 + 12 = 0$\n",
        "\n",
        "Result:\n",
        "\n",
        "$$\n",
        "B = \\begin{bmatrix} 1 & 2 & 3 \\\\ 0 & -3 & -6 \\\\ 0 & 0 & 0 \\end{bmatrix}\n",
        "$$\n",
        "\n",
        "---\n",
        "\n",
        "### Step 5: Calculate the determinant\n",
        "Now that the matrix is in upper triangular form, the determinant is the product of the diagonal elements:\n",
        "\n",
        "$$\n",
        "\\text{det}(B) = 1 \\cdot (-3) \\cdot 0 = 0\n",
        "$$\n",
        "\n",
        "---\n",
        "\n",
        "## **Final Results**\n",
        "\n",
        "1. For $A = \\begin{bmatrix} 12 & 3 \\\\ -18 & -4 \\end{bmatrix}$:\n",
        "   - Upper triangular form:\n",
        "     $$\n",
        "     \\begin{bmatrix} 12 & 3 \\\\ 0 & 0.5 \\end{bmatrix}\n",
        "     \n",
        "   - Determinant:\n",
        "     $$\n",
        "     \\text{det}(A) = 6\n",
        "     $$\n",
        "\n",
        "2. For $B = \\begin{bmatrix} 1 & 2 & 3 \\\\ 4 & 5 & 6 \\\\ 7 & 8 & 9 \\end{bmatrix}$:\n",
        "   - Upper triangular form:\n",
        "     $$\n",
        "     \\begin{bmatrix} 1 & 2 & 3 \\\\ 0 & -3 & -6 \\\\ 0 & 0 & 0 \\end{bmatrix}\n",
        "     \n",
        "   - Determinant:\n",
        "     \n",
        "     \\text{det}(B) = 0\n",
        "     $$\n"
      ]
    }
  ],
  "metadata": {
    "kernelspec": {
      "display_name": "Python 3",
      "language": "python",
      "name": "python3"
    },
    "language_info": {
      "codemirror_mode": {
        "name": "ipython",
        "version": 3
      },
      "file_extension": ".py",
      "mimetype": "text/x-python",
      "name": "python",
      "nbconvert_exporter": "python",
      "pygments_lexer": "ipython3",
      "version": "3.11.9"
    },
    "colab": {
      "provenance": []
    }
  },
  "nbformat": 4,
  "nbformat_minor": 0
}