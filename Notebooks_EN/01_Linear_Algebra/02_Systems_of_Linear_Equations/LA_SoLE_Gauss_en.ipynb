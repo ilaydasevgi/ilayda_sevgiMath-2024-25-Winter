{
  "cells": [
    {
      "cell_type": "markdown",
      "metadata": {
        "id": "fHQe5rRfIr03"
      },
      "source": [
        "# Gaussian Elimination Method\n",
        "\n",
        "Solving a system of linear equations using the Gaussian elimination method involves transforming the coefficient matrix of the system into an upper triangular matrix, followed by solving the system using back substitution.\n",
        "\n",
        "This is one of the most fundamental methods for solving systems of linear equations, especially in cases where the number of unknowns is different from the number of equations."
      ]
    },
    {
      "cell_type": "code",
      "execution_count": null,
      "metadata": {
        "id": "adVfepwNIr04",
        "outputId": "32be633e-6ac4-4761-f889-4ac185176169",
        "colab": {
          "base_uri": "https://localhost:8080/",
          "height": 152
        }
      },
      "outputs": [
        {
          "output_type": "display_data",
          "data": {
            "text/plain": [
              "<IPython.core.display.Markdown object>"
            ],
            "text/markdown": "**Initial equations:**"
          },
          "metadata": {}
        },
        {
          "output_type": "display_data",
          "data": {
            "text/plain": [
              "<IPython.core.display.Markdown object>"
            ],
            "text/markdown": "System of equations:"
          },
          "metadata": {}
        },
        {
          "output_type": "display_data",
          "data": {
            "text/plain": [
              "<IPython.core.display.Markdown object>"
            ],
            "text/markdown": "$$\\begin{aligned} 1 x_{1} + 2 x_{2} + 3 x_{3} = 10 \\\\ 4 x_{1} + 5 x_{2} + 6 x_{3} = 11 \\\\ 7 x_{1} + 8 x_{2} + 12 x_{3} = 18 \\end{aligned}$$"
          },
          "metadata": {}
        }
      ],
      "source": [
        "from sympy import Matrix, symbols, Eq, latex\n",
        "from IPython.display import display, Markdown\n",
        "import sympy as sp\n",
        "\n",
        "class SymbolicMatrix:\n",
        "    def __init__(self, matrix, column_labels=None, free_terms=None, display_mode=\"table\"):\n",
        "        self.matrix = Matrix(matrix)\n",
        "        self.operations = []\n",
        "        self.display_mode = display_mode\n",
        "\n",
        "        if column_labels:\n",
        "            if len(column_labels) != self.matrix.cols:\n",
        "                raise ValueError(\"The number of column labels must be equal to the number of columns in the matrix.\")\n",
        "            self.column_labels = column_labels\n",
        "        else:\n",
        "            self.column_labels = [f\"x{i+1}\" for i in range(self.matrix.cols)]\n",
        "\n",
        "        if free_terms:\n",
        "            if len(free_terms) != self.matrix.rows:\n",
        "                raise ValueError(\"The number of free terms must be equal to the number of rows in the matrix.\")\n",
        "            self.free_terms = free_terms\n",
        "        else:\n",
        "            self.free_terms = [0 for _ in range(self.matrix.rows)]\n",
        "\n",
        "        display(Markdown(\"**Initial equations:**\"))\n",
        "        self.display_matrix()\n",
        "\n",
        "    def set_display_mode(self, mode):\n",
        "        if mode not in [\"table\", \"equations\"]:\n",
        "            raise ValueError(\"Display mode must be 'table' or 'equations'.\")\n",
        "        self.display_mode = mode\n",
        "\n",
        "    def display_matrix(self):\n",
        "        if self.display_mode == \"table\":\n",
        "            self._display_table()\n",
        "        elif self.display_mode == \"equations\":\n",
        "            self._display_equations()\n",
        "\n",
        "    def _display_table(self):\n",
        "        matrix_with_free_terms = self.matrix.row_join(Matrix(self.free_terms))\n",
        "        headers = self.column_labels + [\"Free term\"]\n",
        "        display(Markdown(self._matrix_to_markdown(matrix_with_free_terms, headers)))\n",
        "\n",
        "    def _matrix_to_markdown(self, matrix, headers):\n",
        "        markdown_str = \"| \" + \" | \".join(headers) + \" |\\n\"\n",
        "        markdown_str += \"| \" + \" | \".join([\"---\"] * len(headers)) + \" |\\n\"\n",
        "        for i in range(matrix.rows):\n",
        "            row = [str(matrix[i, j]) for j in range(matrix.cols)]\n",
        "            markdown_str += \"| \" + \" | \".join(row) + \" |\\n\"\n",
        "        return markdown_str\n",
        "\n",
        "    def _display_equations(self):\n",
        "        equations = []\n",
        "        for i in range(self.matrix.rows):\n",
        "            terms = []\n",
        "            for j in range(self.matrix.cols):\n",
        "                coef = self.matrix[i, j]\n",
        "                var = symbols(self.column_labels[j])\n",
        "\n",
        "                # Check if the coefficient is positive, negative, or zero\n",
        "                if coef > 0:\n",
        "                    if j == 0:\n",
        "                        terms.append(f\"{latex(coef)} {latex(var)}\")\n",
        "                    else:\n",
        "                        terms.append(f\"+ {latex(coef)} {latex(var)}\")\n",
        "                elif coef < 0:\n",
        "                    terms.append(f\"- {latex(abs(coef))} {latex(var)}\")\n",
        "                elif coef == 0:\n",
        "                    if j == 0:\n",
        "                        terms.append(f\"0 {latex(var)}\")\n",
        "                    else:\n",
        "                        terms.append(f\"+0 {latex(var)}\")\n",
        "\n",
        "            lhs = \" \".join(terms)\n",
        "            rhs = latex(self.free_terms[i])\n",
        "\n",
        "            equation = f\"{lhs} = {rhs}\"\n",
        "            equations.append(equation)\n",
        "\n",
        "        display(Markdown(\"System of equations:\"))\n",
        "        display(Markdown(f\"$$\\\\begin{{aligned}} {self._equations_to_latex(equations)} \\\\end{{aligned}}$$\"))\n",
        "\n",
        "    def _equations_to_latex(self, equations):\n",
        "        return \" \\\\\\\\ \".join(equations)\n",
        "\n",
        "    def add_row(self, target_row, source_row, coefficient):\n",
        "        target_idx = self._validate_row_number(target_row)\n",
        "        source_idx = self._validate_row_number(source_row)\n",
        "\n",
        "        # Operation on the matrix\n",
        "        self.matrix.row_op(target_idx, lambda v, j: v + coefficient * self.matrix[source_idx, j])\n",
        "\n",
        "        # Operation on the free terms\n",
        "        self.free_terms[target_idx] += coefficient * self.free_terms[source_idx]\n",
        "\n",
        "        operation_str = f\"r{target_row} = r{target_row} + {coefficient}*r{source_row}\"\n",
        "        self.operations.append(operation_str)\n",
        "        display(Markdown(f\"**Operation:** {operation_str}\"))\n",
        "        self.display_matrix()\n",
        "\n",
        "    def multiply_row(self, row, coefficient):\n",
        "        row_idx = self._validate_row_number(row)\n",
        "\n",
        "        # Operation on the matrix\n",
        "        self.matrix.row_op(row_idx, lambda v, _: coefficient * v)\n",
        "\n",
        "        # Operation on the free terms\n",
        "        self.free_terms[row_idx] *= coefficient\n",
        "\n",
        "        operation_str = f\"r{row} = {coefficient}*r{row}\"\n",
        "        self.operations.append(operation_str)\n",
        "        display(Markdown(f\"**Operation:** {operation_str}\"))\n",
        "        self.display_matrix()\n",
        "\n",
        "    def swap_rows(self, row1, row2):\n",
        "        row1_idx = self._validate_row_number(row1)\n",
        "        row2_idx = self._validate_row_number(row2)\n",
        "\n",
        "        self.matrix.row_swap(row1_idx, row2_idx)\n",
        "        self.free_terms[row1_idx], self.free_terms[row2_idx] = self.free_terms[row2_idx], self.free_terms[row1_idx]\n",
        "\n",
        "        operation_str = f\"Swap r{row1} <-> r{row2}\"\n",
        "        self.operations.append(operation_str)\n",
        "        display(Markdown(f\"**Operation:** {operation_str}\"))\n",
        "        self.display_matrix()\n",
        "\n",
        "    def swap_columns(self, col1, col2):\n",
        "        col1_idx = self._validate_col_number(col1)\n",
        "        col2_idx = self._validate_col_number(col2)\n",
        "\n",
        "        self.matrix.col_swap(col1_idx, col2_idx)\n",
        "        self.column_labels[col1_idx], self.column_labels[col2_idx] = self.column_labels[col2_idx], self.column_labels[col1_idx]\n",
        "\n",
        "        operation_str = f\"Swap col{col1} <-> col{col2}\"\n",
        "        self.operations.append(operation_str)\n",
        "        display(Markdown(f\"**Operation:** {operation_str}\"))\n",
        "        self.display_matrix()\n",
        "\n",
        "    def _validate_row_number(self, row):\n",
        "        if not isinstance(row, int):\n",
        "            raise TypeError(\"Row number must be an integer.\")\n",
        "        if row < 1 or row > self.matrix.rows:\n",
        "            raise IndexError(f\"Row number must be between 1 and {self.matrix.rows}.\")\n",
        "        return row - 1\n",
        "\n",
        "    def _validate_col_number(self, col):\n",
        "        if not isinstance(col, int):\n",
        "            raise TypeError(\"Column number must be an integer.\")\n",
        "        if col < 1 or col > self.matrix.cols:\n",
        "            raise IndexError(f\"Column number must be between 1 and {self.matrix.cols}.\")\n",
        "        return col - 1\n",
        "\n",
        "    def print_operations(self):\n",
        "        display(Markdown(\"**Performed operations:**\"))\n",
        "        for op in self.operations:\n",
        "            print(op)\n",
        "\n",
        "# Example usage:\n",
        "m = SymbolicMatrix([[1,2,3], [4,5,6], [7,8,12]], column_labels=[\"x1\", \"x2\", \"x3\"], free_terms=[10, 11, 18], display_mode=\"equations\")\n"
      ]
    },
    {
      "cell_type": "code",
      "execution_count": null,
      "metadata": {
        "id": "jG0ZAhvSIr05",
        "outputId": "d33a4969-7825-43fb-d12b-ff97371f44df",
        "colab": {
          "base_uri": "https://localhost:8080/",
          "height": 152
        }
      },
      "outputs": [
        {
          "output_type": "display_data",
          "data": {
            "text/plain": [
              "<IPython.core.display.Markdown object>"
            ],
            "text/markdown": "**Operation:** r2 = r2 + -4*r1"
          },
          "metadata": {}
        },
        {
          "output_type": "display_data",
          "data": {
            "text/plain": [
              "<IPython.core.display.Markdown object>"
            ],
            "text/markdown": "System of equations:"
          },
          "metadata": {}
        },
        {
          "output_type": "display_data",
          "data": {
            "text/plain": [
              "<IPython.core.display.Markdown object>"
            ],
            "text/markdown": "$$\\begin{aligned} 1 x_{1} + 2 x_{2} + 3 x_{3} = 10 \\\\ 0 x_{1} - 3 x_{2} - 6 x_{3} = -29 \\\\ 7 x_{1} + 8 x_{2} + 12 x_{3} = 18 \\end{aligned}$$"
          },
          "metadata": {}
        }
      ],
      "source": [
        "m.add_row(2, 1, -4)"
      ]
    },
    {
      "cell_type": "code",
      "execution_count": null,
      "metadata": {
        "id": "jVmjhF9uIr05",
        "outputId": "598dea01-96b0-48a3-9727-64b9364e20e3",
        "colab": {
          "base_uri": "https://localhost:8080/",
          "height": 152
        }
      },
      "outputs": [
        {
          "output_type": "display_data",
          "data": {
            "text/plain": [
              "<IPython.core.display.Markdown object>"
            ],
            "text/markdown": "**Operation:** r3 = r3 + -7*r1"
          },
          "metadata": {}
        },
        {
          "output_type": "display_data",
          "data": {
            "text/plain": [
              "<IPython.core.display.Markdown object>"
            ],
            "text/markdown": "System of equations:"
          },
          "metadata": {}
        },
        {
          "output_type": "display_data",
          "data": {
            "text/plain": [
              "<IPython.core.display.Markdown object>"
            ],
            "text/markdown": "$$\\begin{aligned} 1 x_{1} + 2 x_{2} + 3 x_{3} = 10 \\\\ 0 x_{1} - 3 x_{2} - 6 x_{3} = -29 \\\\ 0 x_{1} - 6 x_{2} - 9 x_{3} = -52 \\end{aligned}$$"
          },
          "metadata": {}
        }
      ],
      "source": [
        "m.add_row(3, 1, -7)"
      ]
    },
    {
      "cell_type": "code",
      "execution_count": null,
      "metadata": {
        "id": "BE8TmNTSIr05",
        "outputId": "002d9e0e-7adc-4445-ebeb-ee25519a60b3",
        "colab": {
          "base_uri": "https://localhost:8080/",
          "height": 152
        }
      },
      "outputs": [
        {
          "output_type": "display_data",
          "data": {
            "text/plain": [
              "<IPython.core.display.Markdown object>"
            ],
            "text/markdown": "**Operation:** r3 = r3 + -2*r2"
          },
          "metadata": {}
        },
        {
          "output_type": "display_data",
          "data": {
            "text/plain": [
              "<IPython.core.display.Markdown object>"
            ],
            "text/markdown": "System of equations:"
          },
          "metadata": {}
        },
        {
          "output_type": "display_data",
          "data": {
            "text/plain": [
              "<IPython.core.display.Markdown object>"
            ],
            "text/markdown": "$$\\begin{aligned} 1 x_{1} + 2 x_{2} + 3 x_{3} = 10 \\\\ 0 x_{1} - 3 x_{2} - 6 x_{3} = -29 \\\\ 0 x_{1} +0 x_{2} + 3 x_{3} = 6 \\end{aligned}$$"
          },
          "metadata": {}
        }
      ],
      "source": [
        "m.add_row(3, 2, -2)"
      ]
    },
    {
      "cell_type": "code",
      "execution_count": null,
      "metadata": {
        "id": "C0L-Nh8cIr06",
        "outputId": "87e22037-a4da-4638-fed4-8179448c4c95",
        "colab": {
          "base_uri": "https://localhost:8080/",
          "height": 216
        }
      },
      "outputs": [
        {
          "output_type": "error",
          "ename": "NameError",
          "evalue": "name 'Eq' is not defined",
          "traceback": [
            "\u001b[0;31m---------------------------------------------------------------------------\u001b[0m",
            "\u001b[0;31mNameError\u001b[0m                                 Traceback (most recent call last)",
            "\u001b[0;32m<ipython-input-3-23f90b7c58aa>\u001b[0m in \u001b[0;36m<cell line: 5>\u001b[0;34m()\u001b[0m\n\u001b[1;32m      3\u001b[0m \u001b[0mx1\u001b[0m\u001b[0;34m,\u001b[0m \u001b[0mx2\u001b[0m\u001b[0;34m,\u001b[0m \u001b[0mx3\u001b[0m \u001b[0;34m=\u001b[0m \u001b[0msymbols\u001b[0m\u001b[0;34m(\u001b[0m\u001b[0;34m'x1 x2 x3'\u001b[0m\u001b[0;34m)\u001b[0m\u001b[0;34m\u001b[0m\u001b[0;34m\u001b[0m\u001b[0m\n\u001b[1;32m      4\u001b[0m \u001b[0;31m# Define equations\u001b[0m\u001b[0;34m\u001b[0m\u001b[0;34m\u001b[0m\u001b[0m\n\u001b[0;32m----> 5\u001b[0;31m \u001b[0meq1\u001b[0m \u001b[0;34m=\u001b[0m \u001b[0mEq\u001b[0m\u001b[0;34m(\u001b[0m\u001b[0mx1\u001b[0m \u001b[0;34m+\u001b[0m \u001b[0;36m2\u001b[0m\u001b[0;34m*\u001b[0m\u001b[0mx2\u001b[0m \u001b[0;34m+\u001b[0m \u001b[0;36m3\u001b[0m\u001b[0;34m*\u001b[0m\u001b[0mx3\u001b[0m\u001b[0;34m,\u001b[0m \u001b[0;36m10\u001b[0m\u001b[0;34m)\u001b[0m\u001b[0;34m\u001b[0m\u001b[0;34m\u001b[0m\u001b[0m\n\u001b[0m\u001b[1;32m      6\u001b[0m \u001b[0meq2\u001b[0m \u001b[0;34m=\u001b[0m \u001b[0mEq\u001b[0m\u001b[0;34m(\u001b[0m\u001b[0;34m-\u001b[0m\u001b[0;36m3\u001b[0m\u001b[0;34m*\u001b[0m\u001b[0mx2\u001b[0m \u001b[0;34m-\u001b[0m \u001b[0;36m6\u001b[0m\u001b[0;34m*\u001b[0m\u001b[0mx3\u001b[0m\u001b[0;34m,\u001b[0m \u001b[0;34m-\u001b[0m\u001b[0;36m29\u001b[0m\u001b[0;34m)\u001b[0m\u001b[0;34m\u001b[0m\u001b[0;34m\u001b[0m\u001b[0m\n\u001b[1;32m      7\u001b[0m \u001b[0meq3\u001b[0m \u001b[0;34m=\u001b[0m \u001b[0mEq\u001b[0m\u001b[0;34m(\u001b[0m\u001b[0;36m3\u001b[0m\u001b[0;34m*\u001b[0m\u001b[0mx3\u001b[0m\u001b[0;34m,\u001b[0m \u001b[0;36m6\u001b[0m\u001b[0;34m)\u001b[0m\u001b[0;34m\u001b[0m\u001b[0;34m\u001b[0m\u001b[0m\n",
            "\u001b[0;31mNameError\u001b[0m: name 'Eq' is not defined"
          ]
        }
      ],
      "source": [
        "# We have 3 equations, so we end the operation\n",
        "# Define symbols\n",
        "x1, x2, x3 = symbols('x1 x2 x3')\n",
        "# Define equations\n",
        "eq1 = Eq(x1 + 2*x2 + 3*x3, 10)\n",
        "eq2 = Eq(-3*x2 - 6*x3, -29)\n",
        "eq3 = Eq(3*x3, 6)"
      ]
    },
    {
      "cell_type": "code",
      "execution_count": null,
      "metadata": {
        "id": "hV2L-5v7Ir06",
        "outputId": "1c69dfa9-41d4-4d98-9e5d-9c15e6cfb1e6",
        "colab": {
          "base_uri": "https://localhost:8080/",
          "height": 162
        }
      },
      "outputs": [
        {
          "output_type": "error",
          "ename": "NameError",
          "evalue": "name 'sp' is not defined",
          "traceback": [
            "\u001b[0;31m---------------------------------------------------------------------------\u001b[0m",
            "\u001b[0;31mNameError\u001b[0m                                 Traceback (most recent call last)",
            "\u001b[0;32m<ipython-input-4-0198f9ccde58>\u001b[0m in \u001b[0;36m<cell line: 1>\u001b[0;34m()\u001b[0m\n\u001b[0;32m----> 1\u001b[0;31m \u001b[0msol_x3\u001b[0m \u001b[0;34m=\u001b[0m \u001b[0msp\u001b[0m\u001b[0;34m.\u001b[0m\u001b[0msolve\u001b[0m\u001b[0;34m(\u001b[0m\u001b[0meq3\u001b[0m\u001b[0;34m,\u001b[0m \u001b[0mx3\u001b[0m\u001b[0;34m)\u001b[0m\u001b[0;34m[\u001b[0m\u001b[0;36m0\u001b[0m\u001b[0;34m]\u001b[0m\u001b[0;34m\u001b[0m\u001b[0;34m\u001b[0m\u001b[0m\n\u001b[0m\u001b[1;32m      2\u001b[0m \u001b[0msol_x3\u001b[0m\u001b[0;34m\u001b[0m\u001b[0;34m\u001b[0m\u001b[0m\n",
            "\u001b[0;31mNameError\u001b[0m: name 'sp' is not defined"
          ]
        }
      ],
      "source": [
        "sol_x3 = sp.solve(eq3, x3)[0]\n",
        "sol_x3"
      ]
    },
    {
      "cell_type": "code",
      "execution_count": null,
      "metadata": {
        "id": "1K7UBB8sIr06",
        "outputId": "b1d02796-0cd6-4d04-b396-b6671e5dec2c",
        "colab": {
          "base_uri": "https://localhost:8080/",
          "height": 51
        }
      },
      "outputs": [
        {
          "output_type": "execute_result",
          "data": {
            "text/plain": [
              "17/3"
            ],
            "text/latex": "$\\displaystyle \\frac{17}{3}$"
          },
          "metadata": {},
          "execution_count": 8
        }
      ],
      "source": [
        "# Substitute solution x3 into equation 2\n",
        "eq2 = eq2.subs(x3, sol_x3)\n",
        "# Solve equation 2\n",
        "sol_x2 = sp.solve(eq2, x2)[0]\n",
        "sol_x2"
      ]
    },
    {
      "cell_type": "code",
      "execution_count": null,
      "metadata": {
        "id": "WlSXruD1Ir06",
        "outputId": "b8de0b84-6abd-465b-de4c-b7737063120f",
        "colab": {
          "base_uri": "https://localhost:8080/",
          "height": 51
        }
      },
      "outputs": [
        {
          "output_type": "execute_result",
          "data": {
            "text/plain": [
              "-22/3"
            ],
            "text/latex": "$\\displaystyle - \\frac{22}{3}$"
          },
          "metadata": {},
          "execution_count": 9
        }
      ],
      "source": [
        "# Substitute solutions x2 and x3 into equation 1\n",
        "eq1 = eq1.subs({x2: sol_x2, x3: sol_x3})\n",
        "# Solve equation 1\n",
        "sol_x1 = sp.solve(eq1, x1)[0]\n",
        "sol_x1"
      ]
    },
    {
      "cell_type": "markdown",
      "metadata": {
        "id": "WMgMf-PPIr06"
      },
      "source": [
        "---\n",
        "\n",
        "## Exercises for Students\n",
        "\n",
        "$$\n",
        "\\left\\{\\begin{array}{c}{x+2 y-2 z=4} \\\\ {2 x+y+z=0} \\\\ {3 x+2 y+z=1}\\end{array}\\right.\\quad\n",
        "\\left\\{\\begin{array}{c}{x+y+z-t=2} \\\\ {2 x+y+z=3} \\\\ {-x+z-t=0} \\\\ {3 x+2 y-z+2 t=-1}\\end{array}\\right.\\quad\n",
        "\\left\\{\\begin{array}{c}{x+y-z-t=0} \\\\ {2 x+3 y-2 z+t=4} \\\\ {3 x+5 z=0} \\\\ {-x+y-3 z+2 t=3}\\end{array}\\right.\n",
        "$$"
      ]
    },
    {
      "cell_type": "markdown",
      "source": [
        "#1st question\n",
        "\n",
        "\n",
        "$$\n",
        "\\begin{cases}\n",
        "x + 2y - 2z = 4 \\\\\n",
        "2x + y + z = 0 \\\\\n",
        "3x + 2y + z = 1\n",
        "\\end{cases}\n",
        "$$\n",
        "\n",
        "### Step 1: Write the augmented matrix\n",
        "$$\n",
        "\\begin{bmatrix}\n",
        "1 & 2 & -2 & 4 \\\\\n",
        "2 & 1 &  1 & 0 \\\\\n",
        "3 & 2 &  1 & 1\n",
        "\\end{bmatrix}\n",
        "$$\n",
        "\n",
        "### Step 2: Perform row operations to obtain an upper triangular matrix\n",
        "\n",
        "1. Eliminate the first entry in the second and third rows:\n",
        "   - $R_2 \\rightarrow R_2 - 2R_1$\n",
        "   - $R_3 \\rightarrow R_3 - 3R_1$\n",
        "\n",
        "$$\n",
        "\\begin{bmatrix}\n",
        "1 & 2 & -2 &  4 \\\\\n",
        "0 & -3 &  5 & -8 \\\\\n",
        "0 & -4 &  7 & -11\n",
        "\\end{bmatrix}\n",
        "$$\n",
        "\n",
        "2. Eliminate the second entry in the third row:\n",
        "   - $R_3 \\rightarrow R_3 - \\frac{4}{3}R_2$\n",
        "\n",
        "$$\n",
        "\\begin{bmatrix}\n",
        "1 &  2 & -2 &  4 \\\\\n",
        "0 & -3 &  5 & -8 \\\\\n",
        "0 &  0 & \\frac{4}{3} & \\frac{-8}{3}\n",
        "\\end{bmatrix}\n",
        "$$\n",
        "\n",
        "### Step 3: Back-substitution\n",
        "\n",
        "1. From row 3:  \n",
        "   $$\n",
        "   \\frac{4}{3}z = \\frac{-8}{3} \\implies z = -2\n",
        "   $$\n",
        "\n",
        "2. From row 2:  \n",
        "   $$\n",
        "   -3y + 5z = -8 \\implies -3y + 5(-2) = -8 \\implies -3y - 10 = -8 \\implies y = 2\n",
        "   $$\n",
        "\n",
        "3. From row 1:  \n",
        "   $$\n",
        "   x + 2y - 2z = 4 \\implies x + 2(2) - 2(-2) = 4 \\implies x = -4\n",
        "   $$\n",
        "\n",
        "### Final Answer:\n",
        "$$\n",
        "x = -4, \\quad y = 2, \\quad z = -2\n",
        "$$\n"
      ],
      "metadata": {
        "id": "TJa8_XgLqJ99"
      }
    },
    {
      "cell_type": "markdown",
      "source": [
        "#2nd question\n",
        "$$\n",
        "\\begin{cases}\n",
        "x + y + z - t = 2 \\\\\n",
        "2x + y + z = 3 \\\\\n",
        "-x + z - t = 0 \\\\\n",
        "3x + 2y - z + 2t = -1\n",
        "\\end{cases}\n",
        "$$\n",
        "\n",
        "### Step 1: Write the augmented matrix\n",
        "$$\n",
        "\\begin{bmatrix}\n",
        "1 &  1 &  1 & -1 &  2 \\\\\n",
        "2 &  1 &  1 &  0 &  3 \\\\\n",
        "-1 &  0 &  1 & -1 &  0 \\\\\n",
        "3 &  2 & -1 &  2 & -1\n",
        "\\end{bmatrix}\n",
        "$$\n",
        "\n",
        "### Step 2: Perform row operations\n",
        "\n",
        "1. Eliminate the first entry in the second, third, and fourth rows:\n",
        "   - $R_2 \\rightarrow R_2 - 2R_1$\n",
        "   - $R_3 \\rightarrow R_3 + R_1$\n",
        "   - $R_4 \\rightarrow R_4 - 3R_1$\n",
        "\n",
        "$$\n",
        "\\begin{bmatrix}\n",
        "1 &  1 &  1 & -1 &  2 \\\\\n",
        "0 & -1 & -1 &  2 & -1 \\\\\n",
        "0 &  1 &  2 & -2 &  2 \\\\\n",
        "0 & -1 & -4 &  5 & -7\n",
        "\\end{bmatrix}\n",
        "$$\n",
        "\n",
        "2. Eliminate the second entry in the third and fourth rows:\n",
        "   - $R_3 \\rightarrow R_3 + R_2$\n",
        "   - $R_4 \\rightarrow R_4 - R_2$\n",
        "\n",
        "$$\n",
        "\\begin{bmatrix}\n",
        "1 &  1 &  1 & -1 &  2 \\\\\n",
        "0 & -1 & -1 &  2 & -1 \\\\\n",
        "0 &  0 &  1 &  0 &  1 \\\\\n",
        "0 &  0 & -3 &  7 & -6\n",
        "\\end{bmatrix}\n",
        "$$\n",
        "\n",
        "3. Eliminate the third entry in the fourth row:\n",
        "   - $R_4 \\rightarrow R_4 + 3R_3$\n",
        "\n",
        "$$\n",
        "\\begin{bmatrix}\n",
        "1 &  1 &  1 & -1 &  2 \\\\\n",
        "0 & -1 & -1 &  2 & -1 \\\\\n",
        "0 &  0 &  1 &  0 &  1 \\\\\n",
        "0 &  0 &  0 &  7 &  1\n",
        "\\end{bmatrix}\n",
        "$$\n",
        "\n",
        "### Step 3: Back-substitution\n",
        "\n",
        "1. From row 4:  \n",
        "   $$\n",
        "   7t = 1 \\implies t = \\frac{1}{7}\n",
        "   $$\n",
        "\n",
        "2. From row 3:  \n",
        "   $$\n",
        "   z = 1\n",
        "   $$\n",
        "\n",
        "3. From row 2:  \n",
        "   $$\n",
        "   -y - z + 2t = -1 \\implies -y - 1 + \\frac{2}{7} = -1 \\implies y = -\\frac{3}{7}\n",
        "   $$\n",
        "\n",
        "4. From row 1:  \n",
        "   $$\n",
        "   x + y + z - t = 2 \\implies x - \\frac{3}{7} + 1 - \\frac{1}{7} = 2 \\implies x = \\frac{13}{7}\n",
        "   $$\n",
        "\n",
        "### Final Answer:\n",
        "$$\n",
        "x = \\frac{13}{7}, \\quad y = -\\frac{3}{7}, \\quad z = 1, \\quad t = \\frac{1}{7}\n",
        "$$\n"
      ],
      "metadata": {
        "id": "nBqOy3Scrrn5"
      }
    },
    {
      "cell_type": "markdown",
      "source": [
        "#3rd question\n",
        "$$\n",
        "\\begin{cases}\n",
        "x + y - z - t = 0 \\\\\n",
        "2x + 3y - 2z + t = 4 \\\\\n",
        "3x + 5z = 0 \\\\\n",
        "-x + y - 3z + 2t = 3\n",
        "\\end{cases}\n",
        "$$\n",
        "\n",
        "### Step 1: Write the augmented matrix\n",
        "$$\n",
        "\\begin{bmatrix}\n",
        "1 &  1 & -1 & -1 &  0 \\\\\n",
        "2 &  3 & -2 &  1 &  4 \\\\\n",
        "3 &  0 &  5 &  0 &  0 \\\\\n",
        "-1 &  1 & -3 &  2 &  3\n",
        "\\end{bmatrix}\n",
        "$$\n",
        "\n",
        "### Step 2: Perform row operations to obtain an upper triangular matrix\n",
        "\n",
        "1. Eliminate the first entry in the second, third, and fourth rows:\n",
        "   - $R_2 \\rightarrow R_2 - 2R_1$\n",
        "   - $R_3 \\rightarrow R_3 - 3R_1$\n",
        "   - $R_4 \\rightarrow R_4 + R_1$\n",
        "\n",
        "$$\n",
        "\\begin{bmatrix}\n",
        "1 &  1 & -1 & -1 &  0 \\\\\n",
        "0 &  1 & -1 &  3 &  4 \\\\\n",
        "0 & -3 &  8 &  3 &  0 \\\\\n",
        "0 &  2 & -4 &  1 &  3\n",
        "\\end{bmatrix}\n",
        "$$\n",
        "\n",
        "2. Eliminate the second entry in the third and fourth rows:\n",
        "   - $R_3 \\rightarrow R_3 + 3R_2$\n",
        "   - $R_4 \\rightarrow R_4 - 2R_2$\n",
        "\n",
        "$$\n",
        "\\begin{bmatrix}\n",
        "1 &  1 & -1 & -1 &  0 \\\\\n",
        "0 &  1 & -1 &  3 &  4 \\\\\n",
        "0 &  0 &  5 & 12 & 12 \\\\\n",
        "0 &  0 & -2 & -5 & -5\n",
        "\\end{bmatrix}\n",
        "$$\n",
        "\n",
        "3. Eliminate the third entry in the fourth row:\n",
        "   - $R_4 \\rightarrow R_4 + \\frac{2}{5}R_3$\n",
        "\n",
        "$$\n",
        "\\begin{bmatrix}\n",
        "1 &  1 & -1 & -1 &  0 \\\\\n",
        "0 &  1 & -1 &  3 &  4 \\\\\n",
        "0 &  0 &  5 & 12 & 12 \\\\\n",
        "0 &  0 &  0 & -\\frac{1}{5} & -\\frac{1}{5}\n",
        "\\end{bmatrix}\n",
        "$$\n",
        "\n",
        "### Step 3: Back-substitution\n",
        "\n",
        "1. From row 4:  \n",
        "   $$\n",
        "   -\\frac{1}{5}t = -\\frac{1}{5} \\implies t = 1\n",
        "   $$\n",
        "\n",
        "2. From row 3:  \n",
        "   $$\n",
        "   5z + 12t = 12 \\implies 5z + 12(1) = 12 \\implies z = 0\n",
        "   $$\n",
        "\n",
        "3. From row 2:  \n",
        "   $$\n",
        "   y - z + 3t = 4 \\implies y - 0 + 3(1) = 4 \\implies y = 1\n",
        "   $$\n",
        "\n",
        "4. From row 1:  \n",
        "   $$\n",
        "   x + y - z - t = 0 \\implies x + 1 - 0 - 1 = 0 \\implies x = 0\n",
        "   $$\n",
        "\n",
        "### Final Answer:\n",
        "$$\n",
        "x = 0, \\quad y = 1, \\quad z = 0, \\quad t = 1\n",
        "$$\n"
      ],
      "metadata": {
        "id": "Du6NO12JrxZa"
      }
    }
  ],
  "metadata": {
    "kernelspec": {
      "display_name": ".venv",
      "language": "python",
      "name": "python3"
    },
    "language_info": {
      "codemirror_mode": {
        "name": "ipython",
        "version": 3
      },
      "file_extension": ".py",
      "mimetype": "text/x-python",
      "name": "python",
      "nbconvert_exporter": "python",
      "pygments_lexer": "ipython3",
      "version": "3.11.9"
    },
    "colab": {
      "provenance": []
    }
  },
  "nbformat": 4,
  "nbformat_minor": 0
}