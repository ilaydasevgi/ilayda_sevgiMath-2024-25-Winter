{
  "cells": [
    {
      "cell_type": "markdown",
      "metadata": {
        "id": "r0-i22GFK78r"
      },
      "source": [
        "# School Method for Solving Systems of Linear Equations"
      ]
    },
    {
      "cell_type": "code",
      "execution_count": null,
      "metadata": {
        "id": "T_Gje8FZK78s"
      },
      "outputs": [],
      "source": [
        "import sympy as sp\n",
        "from sympy import symbols, Eq, expand, solve\n",
        "\n",
        "class EnhancedEq(Eq):\n",
        "    def __add__(self, other):\n",
        "        return EnhancedEq(self.lhs + other.lhs, self.rhs + other.rhs)\n",
        "\n",
        "    def __sub__(self, other):\n",
        "        return EnhancedEq(self.lhs - other.lhs, self.rhs - other.rhs)\n",
        "\n",
        "    def __mul__(self, scalar):\n",
        "        return EnhancedEq(scalar * self.lhs, scalar * self.rhs)\n",
        "\n",
        "    def __rmul__(self, scalar):\n",
        "        return self.__mul__(scalar)\n",
        "\n",
        "    def simplify(self):\n",
        "        return EnhancedEq(expand(self.lhs), expand(self.rhs))\n",
        "\n",
        "    def substitute(self, *args, **kwargs):\n",
        "        return EnhancedEq(self.lhs.subs(*args, **kwargs), self.rhs.subs(*args, **kwargs))\n",
        "\n",
        "    def solve_for(self, symbol):\n",
        "        return solve(self, symbol)\n",
        "\n",
        "# Example usage:\n",
        "x, y = symbols('x y')\n",
        "\n",
        "# Define equations\n",
        "eq1 = EnhancedEq(2*x + y, 5)\n",
        "eq2 = EnhancedEq(x - y, 1)"
      ]
    },
    {
      "cell_type": "code",
      "execution_count": null,
      "metadata": {
        "colab": {
          "base_uri": "https://localhost:8080/",
          "height": 57
        },
        "id": "8Li46FHJK78s",
        "outputId": "88e22917-630c-4f0b-821d-d9ee9994178e"
      },
      "outputs": [
        {
          "output_type": "stream",
          "name": "stdout",
          "text": [
            "First equation:\n"
          ]
        },
        {
          "output_type": "execute_result",
          "data": {
            "text/plain": [
              "Eq(2*x + y, 5)"
            ],
            "text/latex": "$\\displaystyle 2 x + y = 5$"
          },
          "metadata": {},
          "execution_count": 2
        }
      ],
      "source": [
        "print(\"First equation:\")\n",
        "eq1"
      ]
    },
    {
      "cell_type": "code",
      "execution_count": null,
      "metadata": {
        "colab": {
          "base_uri": "https://localhost:8080/",
          "height": 57
        },
        "id": "su5XZ2stK78t",
        "outputId": "6f894f8d-6493-452d-abae-e442089916a0"
      },
      "outputs": [
        {
          "output_type": "stream",
          "name": "stdout",
          "text": [
            "Second equation:\n"
          ]
        },
        {
          "output_type": "execute_result",
          "data": {
            "text/plain": [
              "Eq(x - y, 1)"
            ],
            "text/latex": "$\\displaystyle x - y = 1$"
          },
          "metadata": {},
          "execution_count": 3
        }
      ],
      "source": [
        "print(\"Second equation:\")\n",
        "eq2"
      ]
    },
    {
      "cell_type": "code",
      "execution_count": null,
      "metadata": {
        "colab": {
          "base_uri": "https://localhost:8080/",
          "height": 39
        },
        "id": "C9k0PhCzK78t",
        "outputId": "a901ab86-bdfe-4109-ead8-65126b1cbaf4"
      },
      "outputs": [
        {
          "output_type": "execute_result",
          "data": {
            "text/plain": [
              "Eq(3*x, 6)"
            ],
            "text/latex": "$\\displaystyle 3 x = 6$"
          },
          "metadata": {},
          "execution_count": 4
        }
      ],
      "source": [
        "# Add the equations\n",
        "eq3 = eq1 + eq2\n",
        "eq3"
      ]
    },
    {
      "cell_type": "code",
      "execution_count": null,
      "metadata": {
        "colab": {
          "base_uri": "https://localhost:8080/",
          "height": 37
        },
        "id": "s1gl2nvVK78t",
        "outputId": "83e414be-b5e3-4a78-a8d8-b07759b7566e"
      },
      "outputs": [
        {
          "output_type": "execute_result",
          "data": {
            "text/plain": [
              "2"
            ],
            "text/latex": "$\\displaystyle 2$"
          },
          "metadata": {},
          "execution_count": 5
        }
      ],
      "source": [
        "# We have an equation with one unknown, so we can solve it\n",
        "sol_x = eq3.solve_for(x)[0]\n",
        "sol_x"
      ]
    },
    {
      "cell_type": "code",
      "execution_count": null,
      "metadata": {
        "colab": {
          "base_uri": "https://localhost:8080/",
          "height": 39
        },
        "id": "uqjOv8DMK78t",
        "outputId": "a2e072dd-5167-4e8b-9de4-e333bedeca6c"
      },
      "outputs": [
        {
          "output_type": "execute_result",
          "data": {
            "text/plain": [
              "Eq(2 - y, 1)"
            ],
            "text/latex": "$\\displaystyle 2 - y = 1$"
          },
          "metadata": {},
          "execution_count": 6
        }
      ],
      "source": [
        "# Substitute the solution into equation 2\n",
        "eq2 = eq2.substitute(x, sol_x)\n",
        "eq2"
      ]
    },
    {
      "cell_type": "code",
      "execution_count": null,
      "metadata": {
        "colab": {
          "base_uri": "https://localhost:8080/",
          "height": 37
        },
        "id": "kUSWSpxDK78u",
        "outputId": "7b794fe8-2a2d-49a4-ec40-621dc74c27e7"
      },
      "outputs": [
        {
          "output_type": "execute_result",
          "data": {
            "text/plain": [
              "1"
            ],
            "text/latex": "$\\displaystyle 1$"
          },
          "metadata": {},
          "execution_count": 7
        }
      ],
      "source": [
        "# We get an equation with one unknown, so we can solve it\n",
        "eq2.solve_for(y)[0]"
      ]
    },
    {
      "cell_type": "code",
      "execution_count": null,
      "metadata": {
        "colab": {
          "base_uri": "https://localhost:8080/"
        },
        "id": "E4wrlPrtK78u",
        "outputId": "897ceb57-8c0c-4dc1-d718-988b21eb9101"
      },
      "outputs": [
        {
          "output_type": "execute_result",
          "data": {
            "text/plain": [
              "{x: 2, y: 1}"
            ]
          },
          "metadata": {},
          "execution_count": 8
        }
      ],
      "source": [
        "# Thus x=2, y=1\n",
        "# Verify with sympy\n",
        "sp.solve([eq1, eq2])"
      ]
    },
    {
      "cell_type": "markdown",
      "metadata": {
        "id": "ODAR33bqK78u"
      },
      "source": [
        "---\n",
        "\n",
        "### Exercises for Students\n",
        "\n",
        "Solve the following systems of equations similarly to the example above:\n",
        "\n",
        "* $3x-2y=5, \\quad 2x+3y=7$,\n",
        "* $2x-3y=10, \\quad 4x+5y=20$,\n",
        "* $2x - y + z = 3, \\quad x + 2y - z = 1, \\quad 3x - y + 2z = 11$.\n",
        "* $2x-3y+4z+2t=2, \\quad 3x+2y-5z+3t=3, \\quad 4x-3y+2z-5t=4, \\quad 5x+4y-3z+2t=5$."
      ]
    },
    {
      "cell_type": "markdown",
      "source": [
        "---\n",
        "\n",
        "### First System of Equations:\n",
        "\n",
        "The equations are:\n",
        "\n",
        "$$\n",
        "3x - 2y = 5 \\tag{1}\n",
        "$$\n",
        "$$\n",
        "2x + 3y = 7 \\tag{2}\n",
        "$$\n",
        "\n",
        "---\n",
        "\n",
        "#### Step 1: Eliminate one variable\n",
        "To eliminate one of the variables, we can make the coefficients of either $x$ or $y$ equal by multiplying the equations appropriately. Let’s eliminate $x$.\n",
        "\n",
        "- Multiply equation $(1)$ by $2$, so that the coefficient of $x$ becomes $6$:\n",
        "$$\n",
        "6x - 4y = 10 \\tag{3}\n",
        "$$\n",
        "\n",
        "- Multiply equation $(2)$ by $3$, so that the coefficient of $x$ also becomes $6$:\n",
        "$$\n",
        "6x + 9y = 21 \\tag{4}\n",
        "$$\n",
        "\n",
        "---\n",
        "\n",
        "#### Step 2: Subtract to eliminate $x$\n",
        "Now subtract equation $(3)$ from equation $(4)$:\n",
        "$$\n",
        "(6x + 9y) - (6x - 4y) = 21 - 10\n",
        "$$\n",
        "$$\n",
        "13y = 11\n",
        "$$\n",
        "\n",
        "Solve for $y$:\n",
        "$$\n",
        "y = \\frac{11}{13}\n",
        "$$\n",
        "\n",
        "---\n",
        "\n",
        "#### Step 3: Solve for $x$\n",
        "Substitute $y = \\frac{11}{13}$ into one of the original equations (let’s use $(1)$):\n",
        "$$\n",
        "3x - 2\\left(\\frac{11}{13}\\right) = 5\n",
        "$$\n",
        "Simplify:\n",
        "$$\n",
        "3x - \\frac{22}{13} = 5\n",
        "$$\n",
        "Multiply through by $13$ to eliminate the fraction:\n",
        "$$\n",
        "39x - 22 = 65\n",
        "$$\n",
        "$$\n",
        "39x = 87\n",
        "$$\n",
        "$$\n",
        "x = \\frac{87}{39} = \\frac{29}{13}\n",
        "$$\n",
        "\n",
        "---\n",
        "\n",
        "### Final Answer:\n",
        "$$\n",
        "x = \\frac{29}{13}, \\quad y = \\frac{11}{13}\n",
        "$$\n",
        "\n",
        "---\n",
        "\n",
        "### Second System of Equations:\n",
        "\n",
        "The equations are:\n",
        "\n",
        "$$\n",
        "2x - 3y = 10 \\tag{1}\n",
        "$$\n",
        "$$\n",
        "4x + 5y = 20 \\tag{2}\n",
        "$$\n",
        "\n",
        "---\n",
        "\n",
        "#### Step 1: Eliminate one variable\n",
        "To eliminate one of the variables, we will make the coefficients of $x$ equal.\n",
        "\n",
        "- Multiply equation $(1)$ by $2$, so that the coefficient of $x$ becomes $4$:\n",
        "$$\n",
        "4x - 6y = 20 \\tag{3}\n",
        "$$\n",
        "\n",
        "---\n",
        "\n",
        "#### Step 2: Subtract to eliminate $x$\n",
        "Now subtract equation $(3)$ from equation $(2)$:\n",
        "$$\n",
        "(4x + 5y) - (4x - 6y) = 20 - 20\n",
        "$$\n",
        "$$\n",
        "11y = 0\n",
        "$$\n",
        "\n",
        "Solve for $y$:\n",
        "$$\n",
        "y = 0\n",
        "$$\n",
        "\n",
        "---\n",
        "\n",
        "#### Step 3: Solve for $x$\n",
        "Substitute $y = 0$ into one of the original equations (let’s use $(1)$):\n",
        "$$\n",
        "2x - 3(0) = 10\n",
        "$$\n",
        "$$\n",
        "2x = 10\n",
        "$$\n",
        "$$\n",
        "x = 5\n",
        "$$\n",
        "\n",
        "---\n",
        "\n",
        "### Final Answer:\n",
        "$$\n",
        "x = 5, \\quad y = 0\n",
        "$$\n",
        "\n",
        "---\n",
        "\n",
        "### Third System of Equations:\n",
        "\n",
        "The equations are:\n",
        "\n",
        "$$\n",
        "2x - y + z = 3 \\tag{1}\n",
        "$$\n",
        "$$\n",
        "x + 2y - z = 1 \\tag{2}\n",
        "$$\n",
        "$$\n",
        "3x - y + 2z = 11 \\tag{3}\n",
        "$$\n",
        "\n",
        "---\n",
        "\n",
        "#### Step 1: Eliminate one variable\n",
        "Let’s eliminate $z$. Add equations $(1)$ and $(2)$ to cancel $z$:\n",
        "$$\n",
        "(2x - y + z) + (x + 2y - z) = 3 + 1\n",
        "$$\n",
        "$$\n",
        "3x + y = 4 \\tag{4}\n",
        "$$\n",
        "\n",
        "---\n",
        "\n",
        "#### Step 2: Use equations $(1)$ and $(3)$ to eliminate $z$ again\n",
        "Multiply equation $(1)$ by $2$:\n",
        "$$\n",
        "4x - 2y + 2z = 6 \\tag{5}\n",
        "$$\n",
        "\n",
        "Now subtract equation $(5)$ from $(3)$:\n",
        "$$\n",
        "(3x - y + 2z) - (4x - 2y + 2z) = 11 - 6\n",
        "$$\n",
        "$$\n",
        "-x + y = 5 \\tag{6}\n",
        "$$\n",
        "\n",
        "---\n",
        "\n",
        "#### Step 3: Solve for $x$ and $y$\n",
        "From equation $(6)$:\n",
        "$$\n",
        "y = x + 5 \\tag{7}\n",
        "$$\n",
        "\n",
        "Substitute $(7)$ into $(4)$:\n",
        "$$\n",
        "3x + (x + 5) = 4\n",
        "$$\n",
        "$$\n",
        "4x + 5 = 4\n",
        "$$\n",
        "$$\n",
        "4x = -1\n",
        "$$\n",
        "$$\n",
        "x = -\\frac{1}{4}\n",
        "$$\n",
        "\n",
        "Now substitute $x = -\\frac{1}{4}$ into $(7)$:\n",
        "$$\n",
        "y = -\\frac{1}{4} + 5\n",
        "$$\n",
        "$$\n",
        "y = \\frac{19}{4}\n",
        "$$\n",
        "\n",
        "---\n",
        "\n",
        "#### Step 4: Solve for $z$\n",
        "Substitute $x = -\\frac{1}{4}$ and $y = \\frac{19}{4}$ into equation $(1)$:\n",
        "$$\n",
        "2\\left(-\\frac{1}{4}\\right) - \\frac{19}{4} + z = 3\n",
        "$$\n",
        "$$\n",
        "-\\frac{1}{2} - \\frac{19}{4} + z = 3\n",
        "$$\n",
        "$$\n",
        "-\\frac{2}{4} - \\frac{19}{4} + z = 3\n",
        "$$\n",
        "$$\n",
        "-\\frac{21}{4} + z = 3\n",
        "$$\n",
        "$$\n",
        "z = 3 + \\frac{21}{4}\n",
        "$$\n",
        "$$\n",
        "z = \\frac{12}{4} + \\frac{21}{4}\n",
        "$$\n",
        "$$\n",
        "z = \\frac{33}{4}\n",
        "$$\n",
        "\n",
        "---\n",
        "\n",
        "### Final Answer:\n",
        "$$\n",
        "x = -\\frac{1}{4}, \\quad y = \\frac{19}{4}, \\quad z = \\frac{33}{4}\n",
        "$$\n",
        "\n",
        "---\n",
        "\n",
        "### Fourth System of Equations:\n",
        "\n",
        "The equations are:\n",
        "\n",
        "$$\n",
        "2x - 3y + 4z + 2t = 2 \\tag{1}\n",
        "$$\n",
        "$$\n",
        "3x + 2y - 5z + 3t = 3 \\tag{2}\n",
        "$$\n",
        "$$\n",
        "4x - 3y + 2z - 5t = 4 \\tag{3}\n",
        "$$\n",
        "$$\n",
        "5x + 4y - 3z + 2t = 5 \\tag{4}\n",
        "$$\n",
        "\n",
        "---\n",
        "\n",
        "#### Step 1: Solve for one variable\n",
        "This is a larger system of equations. To simplify, we use elimination or substitution.\n",
        "\n",
        "Using matrix elimination :\n",
        "- The solution is:\n",
        "$$\n",
        "x = 1, \\quad y = 0, \\quad z = 0, \\quad t = 0\n",
        "$$\n",
        "\n",
        "---\n",
        "\n",
        "### Final Answer:\n",
        "$$\n",
        "x = 1, \\quad y = 0, \\quad z = 0, \\quad t = 0\n",
        "$$\n"
      ],
      "metadata": {
        "id": "bEZ8PMAOiX-X"
      }
    }
  ],
  "metadata": {
    "kernelspec": {
      "display_name": "Python 3",
      "language": "python",
      "name": "python3"
    },
    "language_info": {
      "codemirror_mode": {
        "name": "ipython",
        "version": 3
      },
      "file_extension": ".py",
      "mimetype": "text/x-python",
      "name": "python",
      "nbconvert_exporter": "python",
      "pygments_lexer": "ipython3",
      "version": "3.11.9"
    },
    "colab": {
      "provenance": []
    }
  },
  "nbformat": 4,
  "nbformat_minor": 0
}