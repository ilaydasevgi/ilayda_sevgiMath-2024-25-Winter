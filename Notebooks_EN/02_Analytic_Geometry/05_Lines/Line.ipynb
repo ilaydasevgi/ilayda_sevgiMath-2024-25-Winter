{
  "cells": [
    {
      "cell_type": "markdown",
      "source": [
        "# Types of Line Equations in the Plane\n",
        "\n",
        "| Type                  | Equation                              | Details                |\n",
        "|-----------------------|---------------------------------------|------------------------|\n",
        "| **Slope-Intercept**   | $$ y = mx + b $$                     | - $$ m $$: slope       |\n",
        "|                       |                                       | - $$ b $$: y-intercept |\n",
        "| **Point-Slope**       | $$ y - y_1 = m(x - x_1) $$           | - $$(x_1, y_1)$$: point on the line |\n",
        "|                       |                                       | - $$ m $$: slope       |\n",
        "| **Standard**          | $$ Ax + By = C $$                    | - $$ A, B, C $$: constants |\n",
        "|                       |                                       | - $$ A, B \\neq 0 $$    |\n",
        "| **Two-Point**         | $$ y - y_1 = \\frac{y_2 - y_1}{x_2 - x_1}(x - x_1) $$ | - $$(x_1, y_1), (x_2, y_2)$$: two points |\n",
        "| **Vertical Line**     | $$ x = k $$                          | - $$ k $$: constant    |\n",
        "| **Horizontal Line**   | $$ y = c $$                          | - $$ c $$: constant    |\n"
      ],
      "metadata": {
        "id": "K2zA-OzVDw3H"
      }
    },
    {
      "cell_type": "markdown",
      "source": [
        "# General Equation of a Line\n",
        "\n",
        "| Type                        | Equation                           | Details                       |\n",
        "|-----------------------------|------------------------------------|-------------------------------|\n",
        "| **General Form**            | $$ Ax + By + C = 0 $$             | - $$ A, B, C $$: constants    |\n",
        "|                             |                                    | - $$ A, B \\neq 0 $$           |\n",
        "| **Slope**                   | $$ m = -\\frac{A}{B} $$            | - Derived from the equation   |\n",
        "| **Y-Intercept**             | $$ b = -\\frac{C}{B} $$            | - Point where line crosses $$ y $$-axis |\n",
        "| **Special Cases**           | **Vertical Line**: $$ x = -\\frac{C}{A} $$ | Only when $$ B = 0 $$         |\n",
        "|                             | **Horizontal Line**: $$ y = -\\frac{C}{B} $$ | Only when $$ A = 0 $$         |"
      ],
      "metadata": {
        "id": "QmCoHmeeE95M"
      }
    },
    {
      "cell_type": "markdown",
      "source": [],
      "metadata": {
        "id": "fuwNiDKwFHy-"
      }
    },
    {
      "cell_type": "markdown",
      "source": [
        "# Canonical Equation of a Line\n",
        "\n",
        "| Type                        | Equation                                 | Details                         |\n",
        "|-----------------------------|------------------------------------------|---------------------------------|\n",
        "| **Canonical Form**          | $$ \\frac{x - x_1}{a} = \\frac{y - y_1}{b} $$ | - $$(x_1, y_1)$$: point on the line |\n",
        "|                             |                                          | - $$ a, b $$: direction ratios of the line |\n",
        "| **Simplified Cases**         | - Vertical Line: $$ x = x_1 $$          | - When $$ a = 0 $$              |\n",
        "|                             | - Horizontal Line: $$ y = y_1 $$         | - When $$ b = 0 $$              |\n",
        "| **Direction Ratios**        | $$ a, b \\propto \\text{slope of the line} $$ | Represent the line's orientation |"
      ],
      "metadata": {
        "id": "cheW5NfkGApJ"
      }
    },
    {
      "cell_type": "markdown",
      "source": [
        "# Line Equation in Intercept Form on the Coordinate Axes\n",
        "\n",
        "| Type                        | Equation                                 | Details                         |\n",
        "|-----------------------------|------------------------------------------|---------------------------------|\n",
        "| **Intercept Form**          | $$ \\frac{x}{a} + \\frac{y}{b} = 1 $$     | - $$ a $$: x-intercept          |\n",
        "|                             |                                          | - $$ b $$: y-intercept          |\n",
        "| **Special Cases**           | - Vertical Line: $$ x = a $$            | - When $$ b \\to \\infty $$ (no y-intercept) |\n",
        "|                             | - Horizontal Line: $$ y = b $$          | - When $$ a \\to \\infty $$ (no x-intercept) |\n",
        "|                             | - Passing through the origin: $$ a = 0 $$ or $$ b = 0 $$ | The line crosses the origin.   |"
      ],
      "metadata": {
        "id": "hwaNpE5VGN3w"
      }
    },
    {
      "cell_type": "markdown",
      "source": [
        "# Line Equation in Slope Form\n",
        "\n",
        "| Type                  | Equation                             | Details                |\n",
        "|-----------------------|--------------------------------------|------------------------|\n",
        "| **Slope Form**        | $$ y - y_1 = m(x - x_1) $$          | - $$ m $$: slope       |\n",
        "|                       |                                      | - $$(x_1, y_1)$$: point on the line |\n",
        "| **Special Cases**     | - Vertical Line: $$ x = x_1 $$      | - When $$ m \\to \\infty $$ |\n",
        "|                       | - Horizontal Line: $$ y = y_1 $$    | - When $$ m = 0 $$     |\n"
      ],
      "metadata": {
        "id": "k1u7T25RGPGf"
      }
    },
    {
      "cell_type": "markdown",
      "source": [
        "# Line Equation Passing Through a Given Point in a Given Direction\n",
        "\n",
        "| Type                                  | Equation                                           | Details                           |\n",
        "|---------------------------------------|----------------------------------------------------|-----------------------------------|\n",
        "| **Line in Direction Form**           | $$ \\frac{x - x_1}{a} = \\frac{y - y_1}{b} $$       | - $$(x_1, y_1)$$: point on the line |\n",
        "|                                       |                                                    | - $$ a, b $$: direction ratios     |\n",
        "| **Special Cases**                    | - Vertical Line: $$ x = x_1 $$                    | - When $$ b = 0 $$ (no change in $$ y $$) |\n",
        "|                                       | - Horizontal Line: $$ y = y_1 $$                  | - When $$ a = 0 $$ (no change in $$ x $$) |"
      ],
      "metadata": {
        "id": "yHrsU1q9G3pE"
      }
    },
    {
      "cell_type": "markdown",
      "source": [
        "# Line Equation Passing Through Two Given Points\n",
        "\n",
        "| Type                           | Equation                                                       | Details                           |\n",
        "|--------------------------------|----------------------------------------------------------------|-----------------------------------|\n",
        "| **Two-Point Form**             | $$ y - y_1 = \\frac{y_2 - y_1}{x_2 - x_1}(x - x_1) $$         | - $$(x_1, y_1), (x_2, y_2)$$: two points on the line |\n",
        "| **Slope**                      | $$ m = \\frac{y_2 - y_1}{x_2 - x_1} $$                        | - $$ m $$: slope                  |\n",
        "| **Standard Form**              | $$ (y_2 - y_1)(x - x_1) = (x_2 - x_1)(y - y_1) $$            | - Derived from two-point form     |"
      ],
      "metadata": {
        "id": "MQSAGlhaHM6Y"
      }
    },
    {
      "cell_type": "markdown",
      "source": [
        "# Relative Positions of Lines in the Plane\n",
        "\n",
        "| Type                         | Condition                                      | Details                              |\n",
        "|------------------------------|------------------------------------------------|--------------------------------------|\n",
        "| **Parallel Lines**           | $$ m_1 = m_2 $$                               | - Same slope, different intercepts  |\n",
        "| **Perpendicular Lines**      | $$ m_1 \\cdot m_2 = -1 $$                      | - Slopes are negative reciprocals    |\n",
        "| **Intersecting Lines**       | $$ m_1 \\neq m_2 $$                            | - Different slopes, they intersect  |\n",
        "| **Coincident Lines**         | $$ m_1 = m_2 \\quad \\text{and} \\quad b_1 = b_2 $$ | - Same slope and intercepts         |"
      ],
      "metadata": {
        "id": "i5cLJvMQHSzo"
      }
    },
    {
      "cell_type": "markdown",
      "source": [
        "# Intersection of Two Lines\n",
        "\n",
        "| Type                         | Condition                                        | Details                              |\n",
        "|------------------------------|--------------------------------------------------|--------------------------------------|\n",
        "| **Intersection Point**       | $$ m_1 \\neq m_2 $$                              | - Two lines with different slopes intersect at a single point |\n",
        "| **No Intersection**          | $$ m_1 = m_2 \\quad \\text{and} \\quad b_1 \\neq b_2 $$ | - Parallel lines, no intersection   |\n",
        "| **Coincident Lines**         | $$ m_1 = m_2 \\quad \\text{and} \\quad b_1 = b_2 $$  | - Same line, infinite intersections |"
      ],
      "metadata": {
        "id": "WtG5lBOPHZAB"
      }
    },
    {
      "cell_type": "markdown",
      "source": [
        "# Angle Between Two Lines\n",
        "\n",
        "| Type                         | Formula                                          | Details                              |\n",
        "|------------------------------|--------------------------------------------------|--------------------------------------|\n",
        "| **Angle**                    | $$ \\theta = \\tan^{-1} \\left( \\left| \\frac{m_1 - m_2}{1 + m_1 m_2} \\right| \\right) $$ | - $$ m_1 $$, $$ m_2 $$: slopes of the lines |\n",
        "| **Perpendicular Lines**      | $$ m_1 \\cdot m_2 = -1 $$                        | - The angle between them is 90°     |\n",
        "| **Parallel Lines**           | $$ m_1 = m_2 $$                                 | - The angle between them is 0°      |"
      ],
      "metadata": {
        "id": "7yu7lmSeHeAz"
      }
    },
    {
      "cell_type": "markdown",
      "source": [
        "# Conditions for Parallelism and Perpendicularity of Two Lines\n",
        "\n",
        "| Type                         | Condition                                       | Details                              |\n",
        "|------------------------------|-------------------------------------------------|--------------------------------------|\n",
        "| **Parallel Lines**           | $$ m_1 = m_2 $$                                | - Lines have the same slope         |\n",
        "| **Perpendicular Lines**      | $$ m_1 \\cdot m_2 = -1 $$                       | - Slopes are negative reciprocals   |\n",
        "| **Same Line (Coincident)**   | $$ m_1 = m_2 \\quad \\text{and} \\quad b_1 = b_2 $$ | - Same slope and intercepts         |"
      ],
      "metadata": {
        "id": "KUJVTegoHrNu"
      }
    },
    {
      "cell_type": "markdown",
      "source": [
        "## Tasks related to equations of lines on a plane\n",
        "\n",
        "**Visualize each task.** - Python, GeoGebra, Wolfram Alpha, ...\n",
        "\n",
        "* The line passes through points $A(1, 2)$ and $B(3, 4)$. Find the equation of the line.\n",
        "* The line passes through point $A(1, 2)$ and is parallel to the line $y = 2x + 3$. Find the equation of the line.\n",
        "* The line passes through point $A(1, 2)$ and is perpendicular to the line $y = 2x + 3$. Find the equation of the line.\n",
        "* We have two lines $y = 2x + 3$ and $y = 3x + 2$. Find the intersection point of these lines and calculate the angle between them.\n",
        "* Write the equation of the line passing through point $A(1, 2)$ and parallel to the vector $\\vec{v} = [2, 3]$.\n",
        "* We have the line $y = 2x + 3$. Find an example of a line perpendicular and parallel to it.\n",
        "* We have the line $y = 2x + 3$ and point $A(1, 2)$. Find the distance from point $A$ to the line.\n",
        "* The line intersects the coordinate axes at points $A(2, 0)$ and $B(0, 3)$. Find the equation of the line.\n",
        "* Calculate the angle between the line $y = x + 3$ and the $Ox$ axis.\n",
        "* Provide a vector perpendicular to the line $x + y + 1 = 0$."
      ],
      "metadata": {
        "id": "auUK1s14HsbM"
      }
    },
    {
      "cell_type": "markdown",
      "source": [
        "# Tasks Related to Equations of Lines on a Plane\n",
        "\n",
        "---\n",
        "\n",
        "### 1. The line passes through points \\( A(1, 2) \\) and \\( B(3, 4) \\). Find the equation of the line.\n",
        "\n",
        "The equation of a line passing through two points can be written as:\n",
        "\n",
        "$$ y - y_1 = m(x - x_1) $$\n",
        "\n",
        "where \\( m \\) is the slope:\n",
        "\n",
        "$$ m = \\frac{y_2 - y_1}{x_2 - x_1} $$\n",
        "\n",
        "#### Steps:\n",
        "1. Calculate the slope \\( m \\):\n",
        "   $$ m = \\frac{4 - 2}{3 - 1} = \\frac{2}{2} = 1 $$\n",
        "\n",
        "2. Use point \\( A(1, 2) \\) and the slope \\( m = 1 \\) in the line equation:\n",
        "   $$ y - 2 = 1(x - 1) $$\n",
        "\n",
        "3. Simplify the equation:\n",
        "   $$ y - 2 = x - 1 \\implies y = x + 1 $$\n",
        "\n",
        "**Answer:** The equation of the line is \\( y = x + 1 \\).\n",
        "\n",
        "---\n",
        "\n",
        "### 2. The line passes through point \\( A(1, 2) \\) and is parallel to the line \\( y = 2x + 3 \\). Find the equation of the line.\n",
        "\n",
        "A line parallel to \\( y = 2x + 3 \\) has the same slope \\( m = 2 \\).\n",
        "\n",
        "#### Steps:\n",
        "1. Use the point-slope form with \\( m = 2 \\) and point \\( A(1, 2) \\):\n",
        "   $$ y - 2 = 2(x - 1) $$\n",
        "\n",
        "2. Simplify the equation:\n",
        "   $$ y - 2 = 2x - 2 \\implies y = 2x $$\n",
        "\n",
        "**Answer:** The equation of the line is \\( y = 2x \\).\n",
        "\n",
        "---\n",
        "\n",
        "### 3. The line passes through point \\( A(1, 2) \\) and is perpendicular to the line \\( y = 2x + 3 \\). Find the equation of the line.\n",
        "\n",
        "The slope of a line perpendicular to \\( y = 2x + 3 \\) is the negative reciprocal of \\( m = 2 \\). Hence, the slope is \\$ m = -\\frac{1}{2} \\$.\n",
        "\n",
        "#### Steps:\n",
        "1. Use the point-slope form with $ m = -\\frac{1}{2} $ and point \\( A(1, 2) \\):\n",
        "   $$ y - 2 = -\\frac{1}{2}(x - 1) $$\n",
        "\n",
        "2. Simplify the equation:\n",
        "   $$ y - 2 = -\\frac{1}{2}x + \\frac{1}{2} \\implies y = -\\frac{1}{2}x + \\frac{5}{2} $$\n",
        "\n",
        "**Answer:** The equation of the line is \\$ y = -\\frac{1}{2}x + \\frac{5}{2} \\$.\n",
        "\n",
        "---\n",
        "\n",
        "### 4. Find the intersection point of lines \\( y = 2x + 3 \\) and \\( y = 3x + 2 \\), and calculate the angle between them.\n",
        "\n",
        "#### Part A: Intersection Point\n",
        "At the intersection, \\( y \\) values for both equations are the same. Solve \\( 2x + 3 = 3x + 2 \\).\n",
        "\n",
        "1. Rearrange the equation:\n",
        "   $$ 2x + 3 = 3x + 2 \\implies x = 1 $$\n",
        "\n",
        "2. Substitute \\( x = 1 \\) into either line equation (e.g., \\( y = 2x + 3 \\)):\n",
        "   $$ y = 2(1) + 3 = 5 $$\n",
        "\n",
        "**Intersection Point:** \\( (1, 5) \\)\n",
        "\n",
        "#### Part B: Angle Between Lines\n",
        "The formula for the angle between two lines with slopes \\( m_1 \\) and \\( m_2 \\) is:\n",
        "\n",
        "$$ \\theta = \\tan^{-1}\\left| \\frac{m_2 - m_1}{1 + m_1m_2} \\right| $$\n",
        "\n",
        "1. Slopes of the lines:\n",
        "   - \\( m_1 = 2 \\), \\( m_2 = 3 \\)\n",
        "\n",
        "2. Calculate the angle:\n",
        "   $$ \\theta = \\tan^{-1}\\left| \\frac{3 - 2}{1 + (2)(3)} \\right| = \\tan^{-1}\\left| \\frac{1}{7} \\right| $$\n",
        "\n",
        "3. Simplify:\n",
        "   $$ \\theta \\approx 8.13^\\circ $$\n",
        "\n",
        "**Answer:** The intersection point is \\( (1, 5) \\), and the angle between the lines is approximately \\$ 8.13^\\circ \\$.\n",
        "\n",
        "---\n",
        "\n",
        "### 5. Write the equation of the line passing through \\( A(1, 2) \\) and parallel to vector \\$ \\vec{v} = [2, 3] \\$.\n",
        "\n",
        "The direction vector \\$ \\vec{v} = [2, 3] \\$ gives the slope:\n",
        "\n",
        "$$ m = \\frac{3}{2} $$\n",
        "\n",
        "#### Steps:\n",
        "1. Use the point-slope form:\n",
        "   $$ y - 2 = \\frac{3}{2}(x - 1) $$\n",
        "\n",
        "2. Simplify the equation:\n",
        "   $$ y - 2 = \\frac{3}{2}x - \\frac{3}{2} \\implies y = \\frac{3}{2}x + \\frac{1}{2} $$\n",
        "\n",
        "**Answer:** The equation of the line is \\$ y = \\frac{3}{2}x + \\frac{1}{2} \\$.\n",
        "\n",
        "---\n",
        "\n",
        "### 6. Find an example of a line perpendicular and parallel to \\( y = 2x + 3 \\).\n",
        "\n",
        "#### Part A: Parallel Line\n",
        "A parallel line has the same slope \\( m = 2 \\).\n",
        "\n",
        "1. Using the point-slope form with an arbitrary point \\( (0, 5) \\):\n",
        "   $$ y - 5 = 2(x - 0) $$\n",
        "\n",
        "2. Simplify:\n",
        "   $$ y - 5 = 2x \\implies y = 2x + 5 $$\n",
        "\n",
        "**Answer:** \\( y = 2x + 5 \\)\n",
        "\n",
        "---\n",
        "\n",
        "#### Part B: Perpendicular Line\n",
        "A perpendicular line has slope \\$ m = -\\frac{1}{2} \\$.\n",
        "\n",
        "1. Using the point-slope form with an arbitrary point \\( (0, 5) \\):\n",
        "   $$ y - 5 = -\\frac{1}{2}(x - 0) $$\n",
        "\n",
        "2. Simplify:\n",
        "   $$ y - 5 = -\\frac{1}{2}x \\implies y = -\\frac{1}{2}x + 5 $$\n",
        "\n",
        "**Answer:** \\$ y = -\\frac{1}{2}x + 5 \\$\n",
        "\n",
        "---\n",
        "\n",
        "### 7. Find the distance from point \\( A(1, 2) \\) to the line \\( y = 2x + 3 \\).\n",
        "\n",
        "The distance \\( d \\) from a point \\$ (x_1, y_1$ \\) to a line \\( ax + by + c = 0 \\) is:\n",
        "\n",
        "$$ d = \\frac{|ax_1 + by_1 + c|}{\\sqrt{a^2 + b^2}} $$\n",
        "\n",
        "1. Rewrite \\( y = 2x + 3 \\) in standard form:\n",
        "   $$ 2x - y + 3 = 0 $$\n",
        "\n",
        "2. Substitute \\( A(1, 2) \\):\n",
        "   $$ d = \\frac{|2(1) - (2) + 3|}{\\sqrt{2^2 + (-1)^2}} $$\n",
        "\n",
        "3. Simplify:\n",
        "   $$ d = \\frac{|2 - 2 + 3|}{\\sqrt{4 + 1}} = \\frac{3}{\\sqrt{5}} $$\n",
        "\n",
        "4. Final result:\n",
        "   $$ d = \\frac{3\\sqrt{5}}{5} $$\n",
        "\n",
        "**Answer:** The distance is \\$ \\frac{3\\sqrt{5}}{5} \\$.\n",
        "\n",
        "---\n",
        "\n",
        "### 8. Find the equation of the line intersecting the axes at \\( A(2, 0) \\) and \\( B(0, 3) \\).\n",
        "\n",
        "#### Steps:\n",
        "1. Calculate the slope \\( m \\):\n",
        "   $$ m = \\frac{3 - 0}{0 - 2} = -\\frac{3}{2} $$\n",
        "\n",
        "2. Use point \\( A(2, 0) \\) in the point-slope form:\n",
        "   $$ y - 0 = -\\frac{3}{2}(x - 2) $$\n",
        "\n",
        "3. Simplify:\n",
        "   $$ y = -\\frac{3}{2}x + 3 $$\n",
        "\n",
        "**Answer:** The equation is \\$ y = -\\frac{3}{2}x + 3 \\$.\n",
        "\n",
        "---\n",
        "\n",
        "### 9. Calculate the angle between the line \\( y = x + 3 \\) and the \\( Ox \\)-axis.\n",
        "\n",
        "The angle $\\theta \\$ is given by:\n",
        "$$ \\theta = \\tan^{-1}(m) $$\n",
        "\n",
        "1. Slope \\( m = 1 \\):\n",
        "   $$ \\theta = \\tan^{-1}(1) = 45^\\circ $$\n",
        "\n",
        "**Answer:** The angle is \\$ 45^\\circ \\$.\n",
        "\n",
        "---\n",
        "\n",
        "### 10. Provide a vector perpendicular to the line \\( x + y + 1 = 0 \\).\n",
        "\n",
        "The normal vector for \\( x + y + 1 = 0 \\) is:\n",
        "$$ \\vec{n} = [1, 1] $$\n",
        "\n",
        "A perpendicular vector can be:\n",
        "$$ \\vec{v} = [1, -1] $$\n",
        "\n",
        "**Answer:** \\$\\vec{v} = [1, -1] \\$.\n"
      ],
      "metadata": {
        "id": "44yGXDXz5QlR"
      }
    },
    {
      "cell_type": "markdown",
      "source": [
        "###Geogebra Visualizations\n",
        "1: https://www.geogebra.org/calculator/vfudnfjn\n",
        "\n",
        "2: https://www.geogebra.org/calculator/pendwxm6\n",
        "\n",
        "3: https://www.geogebra.org/calculator/ajxnfpac\n",
        "\n",
        "4: https://www.geogebra.org/calculator/u2cq3pju\n",
        "\n",
        "5: https://www.geogebra.org/calculator/u3xdgwya\n",
        "\n",
        "6: https://www.geogebra.org/calculator/wqwctdde\n",
        "\n",
        "7: https://www.geogebra.org/calculator/yw4hu9ec\n",
        "\n",
        "8: https://www.geogebra.org/calculator/bmh8cuee\n",
        "\n",
        "9: https://www.geogebra.org/calculator/p8xg5myh\n",
        "\n",
        "10: https://www.geogebra.org/calculator/ayzat9sm"
      ],
      "metadata": {
        "id": "caqpI2zO6_eY"
      }
    }
  ],
  "metadata": {
    "kernelspec": {
      "display_name": ".venv",
      "language": "python",
      "name": "python3"
    },
    "language_info": {
      "codemirror_mode": {
        "name": "ipython",
        "version": 3
      },
      "file_extension": ".py",
      "mimetype": "text/x-python",
      "name": "python",
      "nbconvert_exporter": "python",
      "pygments_lexer": "ipython3",
      "version": "3.11.9"
    },
    "colab": {
      "provenance": []
    }
  },
  "nbformat": 4,
  "nbformat_minor": 0
}