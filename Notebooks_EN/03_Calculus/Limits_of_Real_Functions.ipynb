{
  "nbformat": 4,
  "nbformat_minor": 0,
  "metadata": {
    "colab": {
      "provenance": []
    },
    "kernelspec": {
      "name": "python3",
      "display_name": "Python 3"
    },
    "language_info": {
      "name": "python"
    }
  },
  "cells": [
    {
      "cell_type": "markdown",
      "source": [
        "# Useful Formulas for Limits and Asymptotes\n",
        "\n",
        "## 1. Limits of Rational Functions\n",
        "- For $\\displaystyle \\lim_{x \\to \\infty} \\frac{P(x)}{Q(x)}$ where $P(x)$ and $Q(x)$ are polynomials:\n",
        "  - If the degree of $P(x)$ < degree of $Q(x)$, then $\\displaystyle \\lim_{x \\to \\infty} \\frac{P(x)}{Q(x)} = 0$.\n",
        "  - If the degree of $P(x)$ = degree of $Q(x)$, then the limit equals the ratio of leading coefficients.\n",
        "  - If the degree of $P(x)$ > degree of $Q(x)$, then $\\displaystyle \\lim_{x \\to \\infty} \\frac{P(x)}{Q(x)} = \\infty$ or $-\\infty$.\n",
        "\n",
        "## 2. Trigonometric Limits\n",
        "- Standard limits:\n",
        "  - $\\displaystyle \\lim_{x \\to 0} \\frac{\\sin(x)}{x} = 1$  \n",
        "  - $\\displaystyle \\lim_{x \\to 0} \\frac{\\cos(x) - 1}{x} = 0$.\n",
        "\n",
        "- A linear multiplier inside $\\sin$:\n",
        "  - $\\displaystyle \\lim_{x \\to 0} \\frac{\\sin(kx)}{kx} = 1 \\ \\text{where k is a constant}$.\n",
        "\n",
        "## 3. Horizontal Asymptotes\n",
        "- For a rational function $\\displaystyle f(x) = \\frac{P(x)}{Q(x)}$:\n",
        "  - Horizontal asymptotes depend on the degree of $P(x)$ and $Q(x)$:\n",
        "    - Degree of $P(x)$ < degree of $Q(x)$: Horizontal asymptote at $y = 0$.\n",
        "    - Degree of $P(x)$ = degree of $Q(x)$: Horizontal asymptote at $y = \\frac{a}{b}$ where $a$ and $b$ are leading coefficients.\n",
        "    - Degree of $P(x)$ > degree of $Q(x)$: No horizontal asymptote.\n",
        "\n",
        "## 4. Vertical Asymptotes\n",
        "- Vertical asymptotes occur at $x = a$ where the denominator equals zero but the numerator does not:  \n",
        "  - $\\displaystyle \\lim_{x \\to a} f(x) = \\infty$ or $-\\infty$.\n",
        "\n",
        "## 5. Special Limits\n",
        "- For small $x$ (near $0$), approximations:\n",
        "  - $\\sin(x) \\approx x$  \n",
        "  - $\\cos(x) \\approx 1 - \\frac{x^2}{2}$  \n"
      ],
      "metadata": {
        "id": "E47-SGWNlc_P"
      }
    },
    {
      "cell_type": "markdown",
      "source": [
        "#Exercises\n",
        "Limits of Real Functions\n",
        "\n",
        "1. Compute:\n",
        "   - $\\displaystyle\\lim_{x \\to \\infty} \\frac{x^3 + 2x^2}{x^4 - 3x^3}$\n",
        "\n",
        "2. Find:\n",
        "   \n",
        "   - $\\displaystyle \\lim_{x \\to 0} \\frac{\\sin(3x)}{2x+1}$.\n",
        "\n",
        "4. Find the asymptotes of the function:\n",
        "  \n",
        "   - $f(x) = \\frac{x^2 - 1}{x^2 + 1}$\n",
        "   - $g(x) = \\frac{\\sin(x)}{x^2+1}$\n"
      ],
      "metadata": {
        "id": "nCH7XsWflqhT"
      }
    },
    {
      "cell_type": "markdown",
      "source": [
        "#1st question\n",
        "\n",
        "$$\\lim_{x \\to \\infty} \\frac{x^3 + 2x^2}{x^4 - 3x^3}$$\n",
        "\n",
        "---\n",
        "\n",
        "### **Step 1: Write the Expression**\n",
        "We are given:\n",
        "$$\n",
        "\\lim_{x \\to \\infty} \\frac{x^3 + 2x^2}{x^4 - 3x^3}.\n",
        "$$\n",
        "\n",
        "---\n",
        "\n",
        "### **Step 2: Factor Out the Highest Power of $x$**\n",
        "To simplify the expression, divide both the numerator and denominator by the highest power of $x$ in the denominator, which is $x^4$.\n",
        "\n",
        "$$\n",
        "\\frac{x^3 + 2x^2}{x^4 - 3x^3} = \\frac{\\frac{x^3}{x^4} + \\frac{2x^2}{x^4}}{\\frac{x^4}{x^4} - \\frac{3x^3}{x^4}}.\n",
        "$$\n",
        "\n",
        "Simplify each term:\n",
        "- **Numerator**:\n",
        "  $$\n",
        "  \\frac{x^3}{x^4} = \\frac{1}{x}, \\quad \\frac{2x^2}{x^4} = \\frac{2}{x^2}.\n",
        "  $$\n",
        "  So the numerator becomes:\n",
        "  $$\n",
        "  \\frac{1}{x} + \\frac{2}{x^2}.\n",
        "  $$\n",
        "\n",
        "- **Denominator**:\n",
        "  $$\n",
        "  \\frac{x^4}{x^4} = 1, \\quad \\frac{3x^3}{x^4} = \\frac{3}{x}.\n",
        "  $$\n",
        "  So the denominator becomes:\n",
        "  $$\n",
        "  1 - \\frac{3}{x}.\n",
        "  $$\n",
        "\n",
        "Thus, the expression simplifies to:\n",
        "$$\n",
        "\\frac{\\frac{1}{x} + \\frac{2}{x^2}}{1 - \\frac{3}{x}}.\n",
        "$$\n",
        "\n",
        "---\n",
        "\n",
        "### **Step 3: Evaluate the Limit as $x \\to \\infty$**\n",
        "As $x \\to \\infty$:\n",
        "- $\\frac{1}{x} \\to 0$,\n",
        "- $\\frac{2}{x^2} \\to 0$,\n",
        "- $\\frac{3}{x} \\to 0$.\n",
        "\n",
        "Substitute these limits into the simplified expression:\n",
        "$$\n",
        "\\frac{\\frac{1}{x} + \\frac{2}{x^2}}{1 - \\frac{3}{x}} \\to \\frac{0 + 0}{1 - 0}.\n",
        "$$\n",
        "\n",
        "So the limit is:\n",
        "$$\n",
        "\\lim_{x \\to \\infty} \\frac{x^3 + 2x^2}{x^4 - 3x^3} = 0.\n",
        "$$\n",
        "\n",
        "---\n",
        "\n",
        "### **Final Answer**\n",
        "$$\n",
        "\\boxed{0}\n",
        "$$"
      ],
      "metadata": {
        "id": "c5LS5zya4Yil"
      }
    },
    {
      "cell_type": "markdown",
      "source": [
        "1st question Geogebra visualization : https://www.geogebra.org/calculator/jmwkrvux"
      ],
      "metadata": {
        "id": "juku6a1Im1eJ"
      }
    },
    {
      "cell_type": "markdown",
      "source": [
        "#2nd Question\n",
        "\n",
        "To compute:  \n",
        "$$\n",
        "\\lim_{x \\to 0} \\frac{\\sin(3x)}{2x + 1}\n",
        "$$\n",
        "\n",
        "---\n",
        "\n",
        "### Step 1: Recall the standard limit\n",
        "We know that:  \n",
        "$$\n",
        "\\lim_{x \\to 0} \\frac{\\sin(kx)}{kx} = 1 \\quad \\text{(where \\(k\\) is a constant)}.\n",
        "$$\n",
        "\n",
        "Here, since the argument of sine is $3x$, we take $k = 3$. Therefore:  \n",
        "$$\n",
        "\\lim_{x \\to 0} \\frac{\\sin(3x)}{3x} = 1.\n",
        "$$\n",
        "\n",
        "---\n",
        "\n",
        "### Step 2: Rewrite the given expression\n",
        "To match the standard form, factor out $3$:  \n",
        "$$\n",
        "\\frac{\\sin(3x)}{2x + 1} = \\frac{\\sin(3x)}{3x} \\cdot \\frac{3x}{2x + 1}.\n",
        "$$\n",
        "\n",
        "---\n",
        "\n",
        "### Step 3: Take the limit of each part\n",
        "1. From the standard limit:  \n",
        "   $$\n",
        "   \\lim_{x \\to 0} \\frac{\\sin(3x)}{3x} = 1.\n",
        "   $$\n",
        "\n",
        "2. For the second part $ \\frac{3x}{2x + 1} $, as $x \\to 0$:  \n",
        "   - The numerator $3x \\to 0$.  \n",
        "   - The denominator $2x + 1 \\to 1$.  \n",
        "\n",
        "   Thus:  \n",
        "   $$\n",
        "   \\lim_{x \\to 0} \\frac{3x}{2x + 1} = 0.\n",
        "   $$\n",
        "\n",
        "---\n",
        "\n"
      ],
      "metadata": {
        "id": "J3x2wudVpUPD"
      }
    },
    {
      "cell_type": "markdown",
      "source": [
        "2nd question Geogebra visualization : https://www.geogebra.org/calculator/px8hmewb"
      ],
      "metadata": {
        "id": "nYpn9SZpplSi"
      }
    },
    {
      "cell_type": "markdown",
      "source": [
        "### **Solution to Question 3**\n",
        "\n",
        "We need to find the asymptotes of the following functions:\n",
        "\n",
        "#### **$$(a) f(x) = \\frac{x^2 - 1}{x^2 + 1}$$:**\n",
        "\n",
        "1. **Vertical Asymptotes**:\n",
        "   - Vertical asymptotes occur where the denominator equals zero.\n",
        "   - The denominator is $x^2 + 1 = 0$, which has no real solutions.\n",
        "   - **Conclusion**: There are no vertical asymptotes.\n",
        "\n",
        "2. **Horizontal Asymptotes**:\n",
        "   - To find horizontal asymptotes, compute the limit as $x \\to \\infty$:\n",
        "\n",
        "     $$\n",
        "     \\lim_{x \\to \\infty} \\frac{x^2 - 1}{x^2 + 1}.\n",
        "     $$\n",
        "   - Divide numerator and denominator by $x^2$:\n",
        "\n",
        "     $$\n",
        "     \\frac{x^2 - 1}{x^2 + 1} = \\frac{1 - \\frac{1}{x^2}}{1 + \\frac{1}{x^2}}.\n",
        "     $$\n",
        "   - As $x \\to \\infty$, $\\frac{1}{x^2} \\to 0$, so:\n",
        "\n",
        "     $$\n",
        "     \\lim_{x \\to \\infty} \\frac{x^2 - 1}{x^2 + 1} = \\frac{1 - 0}{1 + 0} = 1.\n",
        "     $$\n",
        "   - Similarly, as $x \\to -\\infty$, the limit is also $(1)$.\n",
        "   - **Conclusion**: Horizontal asymptote is $y = 1$.\n",
        "\n",
        "---\n",
        "\n",
        "#### **(b) $g(x) = \\frac{\\sin(x)}{x^2 + 1}$:**\n",
        "\n",
        "1. **Vertical Asymptotes**:\n",
        "   - The denominator $x^2 + 1$ never equals zero.\n",
        "   - **Conclusion**: There are no vertical asymptotes.\n",
        "\n",
        "2. **Horizontal Asymptotes**:\n",
        "   - Compute the limit as $x \\to \\pm\\infty$:\n",
        "     $$\n",
        "     \\lim_{x \\to \\infty} \\frac{\\sin(x)}{x^2 + 1}.\n",
        "     $$\n",
        "   - The numerator $\\sin(x)$ oscillates between $-1$ and $1$, while the denominator $x^2 + 1 \\to \\infty$.\n",
        "   - Therefore:\n",
        "     $$\n",
        "     \\frac{\\sin(x)}{x^2 + 1} \\to 0 \\quad \\text{as } x \\to \\pm\\infty.\n",
        "     $$\n",
        "   - **Conclusion**: Horizontal asymptote is \\(y = 0\\).\n",
        "\n",
        "---\n",
        "\n",
        "### **Final Results**\n",
        "- For $f(x)$:\n",
        "  - Vertical Asymptotes: None.\n",
        "  - Horizontal Asymptotes: $y = 1$.\n",
        "- For $g(x)$:\n",
        "  - Vertical Asymptotes: None.\n",
        "  - Horizontal Asymptotes: $y = 0$."
      ],
      "metadata": {
        "id": "x0BOBL586fbp"
      }
    },
    {
      "cell_type": "markdown",
      "source": [
        "3rd question geogebra visualization : https://www.geogebra.org/calculator/bwpbkf83"
      ],
      "metadata": {
        "id": "xG1wobJ8r2Hj"
      }
    }
  ]
}