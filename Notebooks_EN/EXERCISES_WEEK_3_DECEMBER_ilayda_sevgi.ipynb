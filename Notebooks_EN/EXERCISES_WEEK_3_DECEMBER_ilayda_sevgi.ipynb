{
  "nbformat": 4,
  "nbformat_minor": 0,
  "metadata": {
    "colab": {
      "provenance": []
    },
    "kernelspec": {
      "name": "python3",
      "display_name": "Python 3"
    },
    "language_info": {
      "name": "python"
    }
  },
  "cells": [
    {
      "cell_type": "markdown",
      "source": [
        "20. Limits of Real Functions"
      ],
      "metadata": {
        "id": "ooigS0MZtjdP"
      }
    },
    {
      "cell_type": "markdown",
      "source": [
        "Compute:\n",
        "\n",
        "lim\n",
        "x\n",
        "→\n",
        "∞\n",
        "x\n",
        "3\n",
        "+\n",
        "2\n",
        "x\n",
        "2\n",
        "x\n",
        "4\n",
        "−\n",
        "3\n",
        "x\n",
        "3\n"
      ],
      "metadata": {
        "id": "sYBiDzLKtC-4"
      }
    },
    {
      "cell_type": "code",
      "execution_count": 1,
      "metadata": {
        "colab": {
          "base_uri": "https://localhost:8080/"
        },
        "id": "IpVA9KlJsyfc",
        "outputId": "6203d14d-300c-42bb-9f5c-cb1e4262eb77"
      },
      "outputs": [
        {
          "output_type": "stream",
          "name": "stdout",
          "text": [
            "0\n"
          ]
        }
      ],
      "source": [
        "import sympy as sp\n",
        "\n",
        "# Değişkeni tanımla\n",
        "x = sp.symbols('x')\n",
        "\n",
        "# Fonksiyonu tanımla\n",
        "expr = (x**3 + 2*x**2) / (x**4 - 3*x**3)\n",
        "\n",
        "# x sonsuza giderken limiti hesapla\n",
        "limit_result = sp.limit(expr, x, sp.oo)\n",
        "print(limit_result)\n"
      ]
    },
    {
      "cell_type": "markdown",
      "source": [
        "Find:\n",
        "\n",
        "lim\n",
        "x\n",
        "→\n",
        "0\n",
        "sin\n",
        "⁡\n",
        "(\n",
        "3\n",
        "x\n",
        ")\n",
        "2\n",
        "x\n",
        "+\n",
        "1\n",
        ".\n"
      ],
      "metadata": {
        "id": "846FYdkWtUG5"
      }
    },
    {
      "cell_type": "code",
      "source": [
        "# Gerekli kütüphaneyi ekle\n",
        "import sympy as sp\n",
        "\n",
        "# Değişkeni tanımla\n",
        "x = sp.symbols('x')\n",
        "\n",
        "# Fonksiyonu tanımla\n",
        "expr = sp.sin(3 * x) / (2 * x + 1)\n",
        "\n",
        "# x 0'a yaklaşırken limiti hesapla\n",
        "limit_result_zero = sp.limit(expr, x, 0)\n",
        "print(limit_result_zero)\n"
      ],
      "metadata": {
        "colab": {
          "base_uri": "https://localhost:8080/"
        },
        "id": "DzkUoR8otWCN",
        "outputId": "3413e29a-840f-464c-faeb-6793b227e554"
      },
      "execution_count": 2,
      "outputs": [
        {
          "output_type": "stream",
          "name": "stdout",
          "text": [
            "0\n"
          ]
        }
      ]
    },
    {
      "cell_type": "markdown",
      "source": [
        "Find the asymptotes of the function:\n",
        "\n",
        "f\n",
        "(\n",
        "x\n",
        ")\n",
        "=\n",
        "x\n",
        "2\n",
        "−\n",
        "1\n",
        "x\n",
        "2\n",
        "+\n",
        "1\n",
        "g\n",
        "(\n",
        "x\n",
        ")\n",
        "=\n",
        "sin\n",
        "⁡\n",
        "(\n",
        "x\n",
        ")\n",
        "x\n",
        "2\n",
        "+\n",
        "1\n"
      ],
      "metadata": {
        "id": "sIwfrjOdtgy2"
      }
    },
    {
      "cell_type": "code",
      "source": [
        "# Gerekli kütüphaneyi ekle\n",
        "import sympy as sp\n",
        "\n",
        "# Değişkeni tanımla\n",
        "x = sp.symbols('x')\n",
        "\n",
        "# Fonksiyonları tanımla\n",
        "f_expr = (x**2 - 1) / (x**2 + 1)\n",
        "g_expr = sp.sin(x) / (x**2 + 1)\n",
        "\n",
        "# x sonsuza giderken limiti hesapla\n",
        "f_limit_pos_inf = sp.limit(f_expr, x, sp.oo)\n",
        "f_limit_neg_inf = sp.limit(f_expr, x, -sp.oo)\n",
        "\n",
        "g_limit_pos_inf = sp.limit(g_expr, x, sp.oo)\n",
        "g_limit_neg_inf = sp.limit(g_expr, x, -sp.oo)\n",
        "\n",
        "# Sonuçları yazdır\n",
        "print(f_limit_pos_inf, f_limit_neg_inf, g_limit_pos_inf, g_limit_neg_inf)\n"
      ],
      "metadata": {
        "colab": {
          "base_uri": "https://localhost:8080/"
        },
        "id": "mzkw6CnOtibU",
        "outputId": "bac6a378-e832-4f13-898e-25a1c143b3f1"
      },
      "execution_count": 3,
      "outputs": [
        {
          "output_type": "stream",
          "name": "stdout",
          "text": [
            "1 1 0 0\n"
          ]
        }
      ]
    },
    {
      "cell_type": "markdown",
      "source": [
        "# **21. Derivatives**"
      ],
      "metadata": {
        "id": "JGbNn42otyPX"
      }
    },
    {
      "cell_type": "markdown",
      "source": [
        "**Compute derivatives of functions:**"
      ],
      "metadata": {
        "id": "ZiQBJ1f9t0yW"
      }
    },
    {
      "cell_type": "markdown",
      "source": [
        "y\n",
        "(\n",
        "x\n",
        ")\n",
        "=\n",
        "−\n",
        "3\n",
        "x\n",
        "+\n",
        "3"
      ],
      "metadata": {
        "id": "nhjcoqRrt3tZ"
      }
    },
    {
      "cell_type": "code",
      "source": [
        "import sympy as sp\n",
        "\n",
        "# Define the variable and the function y(x) = -3x + 3\n",
        "x = sp.symbols('x')\n",
        "y = -3 * x + 3\n",
        "\n",
        "# Compute the derivative of the function y(x)\n",
        "derivative_y = sp.diff(y, x)\n",
        "\n",
        "# Print the derivative\n",
        "print(derivative_y)\n"
      ],
      "metadata": {
        "colab": {
          "base_uri": "https://localhost:8080/"
        },
        "id": "PcITZ6JWuE_6",
        "outputId": "ba8f5237-25d9-418e-e3f1-7bbc4762efc3"
      },
      "execution_count": 4,
      "outputs": [
        {
          "output_type": "stream",
          "name": "stdout",
          "text": [
            "-3\n"
          ]
        }
      ]
    },
    {
      "cell_type": "markdown",
      "source": [
        "y\n",
        "(\n",
        "x\n",
        ")\n",
        "=\n",
        "π\n",
        "x\n",
        "+\n",
        "sin\n",
        "⁡\n",
        "(\n",
        "1\n",
        ")"
      ],
      "metadata": {
        "id": "AQKpUEgQud-s"
      }
    },
    {
      "cell_type": "code",
      "source": [
        "import sympy as sp\n",
        "\n",
        "# Define the variable and the function y(x) = πx + sin(1)\n",
        "x = sp.symbols('x')\n",
        "y = sp.pi * x + sp.sin(1)\n",
        "\n",
        "# Compute the derivative of the function y(x)\n",
        "derivative_y = sp.diff(y, x)\n",
        "\n",
        "# Print the derivative\n",
        "print(derivative_y)\n"
      ],
      "metadata": {
        "colab": {
          "base_uri": "https://localhost:8080/"
        },
        "id": "DTdS7h-ZufTe",
        "outputId": "d8d34091-a808-4876-aded-e4feb7e4e546"
      },
      "execution_count": 5,
      "outputs": [
        {
          "output_type": "stream",
          "name": "stdout",
          "text": [
            "pi\n"
          ]
        }
      ]
    },
    {
      "cell_type": "markdown",
      "source": [
        "\n",
        "(\n",
        "x\n",
        ")\n",
        "=\n",
        "4\n",
        "+\n",
        "sin\n",
        "⁡\n",
        "(\n",
        "2\n",
        ")"
      ],
      "metadata": {
        "id": "6a2zpwr9ukeP"
      }
    },
    {
      "cell_type": "code",
      "source": [
        "import sympy as sp\n",
        "\n",
        "# Define the variable and the function y(x) = 4 + sin(2)\n",
        "x = sp.symbols('x')\n",
        "y = 4 + sp.sin(2)\n",
        "\n",
        "# Compute the derivative of the function y(x)\n",
        "derivative_y = sp.diff(y, x)\n",
        "\n",
        "# Print the derivative\n",
        "print(derivative_y)\n"
      ],
      "metadata": {
        "colab": {
          "base_uri": "https://localhost:8080/"
        },
        "id": "idPH43AVulcy",
        "outputId": "e4586080-e7d6-4074-cc94-be4fcd998eb0"
      },
      "execution_count": 6,
      "outputs": [
        {
          "output_type": "stream",
          "name": "stdout",
          "text": [
            "0\n"
          ]
        }
      ]
    },
    {
      "cell_type": "markdown",
      "source": [
        "y\n",
        "(\n",
        "x\n",
        ")\n",
        "=\n",
        "2\n",
        "x\n",
        "3\n",
        "−\n",
        "3\n",
        "x\n",
        "2\n",
        "+\n",
        "8\n",
        "x\n",
        "−\n",
        "9"
      ],
      "metadata": {
        "id": "RZfVuZ86uuxk"
      }
    },
    {
      "cell_type": "code",
      "source": [
        "import sympy as sp\n",
        "\n",
        "# Define the variable and the function y(x) = 2x^3 - 3x^2 + 8x - 9\n",
        "x = sp.symbols('x')\n",
        "y = 2*x**3 - 3*x**2 + 8*x - 9\n",
        "\n",
        "# Compute the derivative of the function y(x)\n",
        "derivative_y = sp.diff(y, x)\n",
        "\n",
        "# Print the derivative\n",
        "print(derivative_y)\n"
      ],
      "metadata": {
        "colab": {
          "base_uri": "https://localhost:8080/"
        },
        "id": "R1CAmx0nuvnc",
        "outputId": "43c71b07-df66-4fd6-d990-a8d616868f59"
      },
      "execution_count": 7,
      "outputs": [
        {
          "output_type": "stream",
          "name": "stdout",
          "text": [
            "6*x**2 - 6*x + 8\n"
          ]
        }
      ]
    },
    {
      "cell_type": "markdown",
      "source": [
        "\n",
        "(\n",
        "x\n",
        ")\n",
        "=\n",
        "6\n",
        "x\n",
        "1\n",
        "/\n",
        "3"
      ],
      "metadata": {
        "id": "v90xJtQbu2Uz"
      }
    },
    {
      "cell_type": "code",
      "source": [
        "import sympy as sp\n",
        "\n",
        "# Define the variable and the function y(x) = 6x^(1/3)\n",
        "x = sp.symbols('x')\n",
        "y = 6 * x**(1/3)\n",
        "\n",
        "# Compute the derivative of the function y(x)\n",
        "derivative_y = sp.diff(y, x)\n",
        "\n",
        "# Print the derivative\n",
        "print(derivative_y)\n"
      ],
      "metadata": {
        "colab": {
          "base_uri": "https://localhost:8080/"
        },
        "id": "37PBCXS5u3Y0",
        "outputId": "a224cfbe-204c-460e-efa6-c60eb917a391"
      },
      "execution_count": 8,
      "outputs": [
        {
          "output_type": "stream",
          "name": "stdout",
          "text": [
            "2.0/x**0.666666666666667\n"
          ]
        }
      ]
    },
    {
      "cell_type": "markdown",
      "source": [
        "y(x)=\n",
        "x\n",
        "​\n",
        "  "
      ],
      "metadata": {
        "id": "Nf-G5SRsvpub"
      }
    },
    {
      "cell_type": "code",
      "source": [
        "import sympy as sp\n",
        "\n",
        "# Değişkeni ve fonksiyonu tanımla: y(x) = sqrt(x)\n",
        "x = sp.symbols('x')\n",
        "y = sp.sqrt(x)\n",
        "\n",
        "# Fonksiyonun türevini hesapla\n",
        "derivative_y = sp.diff(y, x)\n",
        "\n",
        "# Türevi yazdır\n",
        "print(derivative_y)\n"
      ],
      "metadata": {
        "colab": {
          "base_uri": "https://localhost:8080/"
        },
        "id": "P8pvrZHyvqPO",
        "outputId": "0f38d1d1-9d55-444b-b3bd-ace3e1a4e7fd"
      },
      "execution_count": 9,
      "outputs": [
        {
          "output_type": "stream",
          "name": "stdout",
          "text": [
            "1/(2*sqrt(x))\n"
          ]
        }
      ]
    },
    {
      "cell_type": "markdown",
      "source": [
        "y\n",
        "(\n",
        "x\n",
        ")\n",
        "=\n",
        "cos\n",
        "⁡\n",
        "(\n",
        "x\n",
        ")\n",
        "+\n",
        "sin\n",
        "⁡\n",
        "(\n",
        "x\n",
        ")"
      ],
      "metadata": {
        "id": "2x3o9qPmvvru"
      }
    },
    {
      "cell_type": "code",
      "source": [
        "import sympy as sp\n",
        "\n",
        "# Define the variable and the function y(x) = cos(x) + sin(x)\n",
        "x = sp.symbols('x')\n",
        "y = sp.cos(x) + sp.sin(x)\n",
        "\n",
        "# Compute the derivative of the function y(x)\n",
        "derivative_y = sp.diff(y, x)\n",
        "\n",
        "# Print the derivative\n",
        "print(derivative_y)\n"
      ],
      "metadata": {
        "colab": {
          "base_uri": "https://localhost:8080/"
        },
        "id": "CEl98L8Fv5rn",
        "outputId": "d54bf870-326b-4e7b-bd03-1a0a362cc201"
      },
      "execution_count": 10,
      "outputs": [
        {
          "output_type": "stream",
          "name": "stdout",
          "text": [
            "-sin(x) + cos(x)\n"
          ]
        }
      ]
    },
    {
      "cell_type": "markdown",
      "source": [
        "y\n",
        "(\n",
        "x\n",
        ")\n",
        "=\n",
        "2\n",
        "sin\n",
        "⁡\n",
        "(\n",
        "x\n",
        ")\n",
        "cos\n",
        "⁡\n",
        "(\n",
        "x\n",
        ")"
      ],
      "metadata": {
        "id": "jJ9tnfskwGc4"
      }
    },
    {
      "cell_type": "code",
      "source": [
        "import sympy as sp\n",
        "\n",
        "# Define the variable and the function y(x) = 2*sin(x)*cos(x)\n",
        "x = sp.symbols('x')\n",
        "y = 2 * sp.sin(x) * sp.cos(x)\n",
        "\n",
        "# Compute the derivative of the function y(x)\n",
        "derivative_y = sp.diff(y, x)\n",
        "\n",
        "# Print the derivative\n",
        "print(derivative_y)\n"
      ],
      "metadata": {
        "colab": {
          "base_uri": "https://localhost:8080/"
        },
        "id": "OFgJxPv5wJg0",
        "outputId": "60a2c7ce-91e8-40cf-d066-801c54dd10c7"
      },
      "execution_count": 11,
      "outputs": [
        {
          "output_type": "stream",
          "name": "stdout",
          "text": [
            "-2*sin(x)**2 + 2*cos(x)**2\n"
          ]
        }
      ]
    },
    {
      "cell_type": "markdown",
      "source": [
        "y\n",
        "(\n",
        "x\n",
        ")\n",
        "=\n",
        "x\n",
        "sin\n",
        "⁡\n",
        "(\n",
        "x\n",
        ")"
      ],
      "metadata": {
        "id": "BmbP-tFQwQQh"
      }
    },
    {
      "cell_type": "code",
      "source": [
        "import sympy as sp\n",
        "\n",
        "# Define the variable and the function y(x) = x * sin(x)\n",
        "x = sp.symbols('x')\n",
        "y = x * sp.sin(x)\n",
        "\n",
        "# Compute the derivative of the function y(x)\n",
        "derivative_y = sp.diff(y, x)\n",
        "\n",
        "# Print the derivative\n",
        "print(derivative_y)\n"
      ],
      "metadata": {
        "colab": {
          "base_uri": "https://localhost:8080/"
        },
        "id": "cruQB9NlwRJu",
        "outputId": "ea950531-bc02-48bf-f65b-92436e5bb8e6"
      },
      "execution_count": 12,
      "outputs": [
        {
          "output_type": "stream",
          "name": "stdout",
          "text": [
            "x*cos(x) + sin(x)\n"
          ]
        }
      ]
    },
    {
      "cell_type": "markdown",
      "source": [
        "y\n",
        "(\n",
        "x\n",
        ")\n",
        "=\n",
        "(\n",
        "x\n",
        "+\n",
        "1\n",
        ")\n",
        "(\n",
        "x\n",
        "+\n",
        "1\n",
        ")"
      ],
      "metadata": {
        "id": "n0tvtXUcwX9b"
      }
    },
    {
      "cell_type": "code",
      "source": [
        "import sympy as sp\n",
        "\n",
        "# Define the variable and the function y(x) = (x + 1)*(x + 1)\n",
        "x = sp.symbols('x')\n",
        "y = (x + 1)**2\n",
        "\n",
        "# Compute the derivative of the function y(x)\n",
        "derivative_y = sp.diff(y, x)\n",
        "\n",
        "# Print the derivative\n",
        "print(derivative_y)\n"
      ],
      "metadata": {
        "colab": {
          "base_uri": "https://localhost:8080/"
        },
        "id": "zj-MTHeIwYxu",
        "outputId": "7362502a-0cc0-4f8d-a4ee-d3fdcc75201b"
      },
      "execution_count": 13,
      "outputs": [
        {
          "output_type": "stream",
          "name": "stdout",
          "text": [
            "2*x + 2\n"
          ]
        }
      ]
    },
    {
      "cell_type": "markdown",
      "source": [
        "y(x)=\n",
        "x+1\n",
        "x\n",
        "​\n",
        ""
      ],
      "metadata": {
        "id": "zTSPW3P3wlzr"
      }
    },
    {
      "cell_type": "code",
      "source": [
        "import sympy as sp\n",
        "\n",
        "# Define the variable and the function y(x) = x / (x + 1)\n",
        "x = sp.symbols('x')\n",
        "y = x / (x + 1)\n",
        "\n",
        "# Compute the derivative of the function y(x)\n",
        "derivative_y = sp.diff(y, x)\n",
        "\n",
        "# Print the derivative\n",
        "print(derivative_y)\n"
      ],
      "metadata": {
        "colab": {
          "base_uri": "https://localhost:8080/"
        },
        "id": "ZCray_0TwzZY",
        "outputId": "ec6a4f0c-fa82-4476-e38a-b71c12779eb5"
      },
      "execution_count": 14,
      "outputs": [
        {
          "output_type": "stream",
          "name": "stdout",
          "text": [
            "-x/(x + 1)**2 + 1/(x + 1)\n"
          ]
        }
      ]
    },
    {
      "cell_type": "markdown",
      "source": [
        "y\n",
        "(\n",
        "x\n",
        ")\n",
        "=\n",
        "(\n",
        "x\n",
        "+\n",
        "1\n",
        ")\n",
        "exp\n",
        "⁡\n",
        "(\n",
        "x\n",
        ")"
      ],
      "metadata": {
        "id": "r-agtRTew2d-"
      }
    },
    {
      "cell_type": "code",
      "source": [
        "import sympy as sp\n",
        "\n",
        "# Define the variable and the function y(x) = (x + 1) * exp(x)\n",
        "x = sp.symbols('x')\n",
        "y = (x + 1) * sp.exp(x)\n",
        "\n",
        "# Compute the derivative of the function y(x)\n",
        "derivative_y = sp.diff(y, x)\n",
        "\n",
        "# Print the derivative\n",
        "print(derivative_y)\n"
      ],
      "metadata": {
        "colab": {
          "base_uri": "https://localhost:8080/"
        },
        "id": "8pKVNB4hw5Bj",
        "outputId": "1d4aa204-8b6b-4f3a-ce61-292ac7bd98cd"
      },
      "execution_count": 15,
      "outputs": [
        {
          "output_type": "stream",
          "name": "stdout",
          "text": [
            "(x + 1)*exp(x) + exp(x)\n"
          ]
        }
      ]
    },
    {
      "cell_type": "markdown",
      "source": [
        "y\n",
        "(\n",
        "x\n",
        ")\n",
        "=\n",
        "sin\n",
        "⁡\n",
        "(\n",
        "x\n",
        "2\n",
        ")"
      ],
      "metadata": {
        "id": "Xn1jtyWoxAav"
      }
    },
    {
      "cell_type": "code",
      "source": [
        "import sympy as sp\n",
        "\n",
        "# Define the variable and the function y(x) = sin(x^2)\n",
        "x = sp.symbols('x')\n",
        "y = sp.sin(x**2)\n",
        "\n",
        "# Compute the derivative of the function y(x)\n",
        "derivative_y = sp.diff(y, x)\n",
        "\n",
        "# Print the derivative\n",
        "print(derivative_y)\n"
      ],
      "metadata": {
        "colab": {
          "base_uri": "https://localhost:8080/"
        },
        "id": "y76zI0nWxBKR",
        "outputId": "358ea295-495f-4654-82e9-65718d0b487c"
      },
      "execution_count": 16,
      "outputs": [
        {
          "output_type": "stream",
          "name": "stdout",
          "text": [
            "2*x*cos(x**2)\n"
          ]
        }
      ]
    },
    {
      "cell_type": "markdown",
      "source": [
        "y\n",
        "(\n",
        "x\n",
        ")\n",
        "=\n",
        "exp\n",
        "⁡\n",
        "(\n",
        "−\n",
        "2\n",
        "x\n",
        ")"
      ],
      "metadata": {
        "id": "JjFx2P-BxSQX"
      }
    },
    {
      "cell_type": "code",
      "source": [
        "import sympy as sp\n",
        "\n",
        "# Define the variable and the function y(x) = exp(-2x)\n",
        "x = sp.symbols('x')\n",
        "y = sp.exp(-2 * x)\n",
        "\n",
        "# Compute the derivative of the function y(x)\n",
        "derivative_y = sp.diff(y, x)\n",
        "\n",
        "# Print the derivative\n",
        "print(derivative_y)\n"
      ],
      "metadata": {
        "colab": {
          "base_uri": "https://localhost:8080/"
        },
        "id": "l8Q4TUYpxViJ",
        "outputId": "db0210ee-9815-4667-98a9-e02423cd9ad9"
      },
      "execution_count": 17,
      "outputs": [
        {
          "output_type": "stream",
          "name": "stdout",
          "text": [
            "-2*exp(-2*x)\n"
          ]
        }
      ]
    },
    {
      "cell_type": "markdown",
      "source": [
        "y\n",
        "(\n",
        "x\n",
        ")\n",
        "=\n",
        "1\n",
        "sin\n",
        "⁡\n",
        "(\n",
        "x\n",
        "+\n",
        "1\n",
        ")\n"
      ],
      "metadata": {
        "id": "Wq_o2jxmxdk2"
      }
    },
    {
      "cell_type": "code",
      "source": [
        "import sympy as sp\n",
        "\n",
        "# Define the variable and the function y(x) = 1 / sin(x + 1)\n",
        "x = sp.symbols('x')\n",
        "y = 1 / sp.sin(x + 1)\n",
        "\n",
        "# Compute the derivative of the function y(x)\n",
        "derivative_y = sp.diff(y, x)\n",
        "\n",
        "# Print the derivative\n",
        "print(derivative_y)\n"
      ],
      "metadata": {
        "colab": {
          "base_uri": "https://localhost:8080/"
        },
        "id": "gNFrwO5CxeZV",
        "outputId": "125b5c05-18a8-418b-81c2-e3f5ab86e626"
      },
      "execution_count": 18,
      "outputs": [
        {
          "output_type": "stream",
          "name": "stdout",
          "text": [
            "-cos(x + 1)/sin(x + 1)**2\n"
          ]
        }
      ]
    },
    {
      "cell_type": "markdown",
      "source": [
        "y(x)=\n",
        "2x+1\n",
        "​\n",
        ""
      ],
      "metadata": {
        "id": "6qn-o0C_xrbh"
      }
    },
    {
      "cell_type": "code",
      "source": [
        "import sympy as sp\n",
        "\n",
        "# Define the variable and the function y(x) = sqrt(2x + 1)\n",
        "x = sp.symbols('x')\n",
        "y = sp.sqrt(2 * x + 1)\n",
        "\n",
        "# Compute the derivative of the function y(x)\n",
        "derivative_y = sp.diff(y, x)\n",
        "\n",
        "# Print the derivative\n",
        "print(derivative_y)\n"
      ],
      "metadata": {
        "colab": {
          "base_uri": "https://localhost:8080/"
        },
        "id": "M06hQn9vx64q",
        "outputId": "4a9bedba-c9f6-4524-c1eb-73b6e87c3519"
      },
      "execution_count": 19,
      "outputs": [
        {
          "output_type": "stream",
          "name": "stdout",
          "text": [
            "1/sqrt(2*x + 1)\n"
          ]
        }
      ]
    },
    {
      "cell_type": "markdown",
      "source": [
        "# **Prove\n",
        "d\n",
        "d\n",
        "x\n",
        "(\n",
        "ln\n",
        "⁡\n",
        "(\n",
        "sin\n",
        "⁡\n",
        "(\n",
        "x\n",
        ")\n",
        ")\n",
        ")\n",
        "=\n",
        "cot\n",
        "⁡\n",
        "(\n",
        "x\n",
        ")\n",
        "dx\n",
        "d\n",
        "​\n",
        " (ln(sin(x)))=cot(x)**"
      ],
      "metadata": {
        "id": "umAj7ow9yaNo"
      }
    },
    {
      "cell_type": "code",
      "source": [
        "import sympy as sp\n",
        "\n",
        "# Define the variable and the function y(x) = ln(sin(x))\n",
        "x = sp.symbols('x')\n",
        "y = sp.ln(sp.sin(x))\n",
        "\n",
        "# Compute the derivative of the function y(x)\n",
        "derivative_y = sp.diff(y, x)\n",
        "\n",
        "# Print the derivative\n",
        "print(derivative_y)\n"
      ],
      "metadata": {
        "colab": {
          "base_uri": "https://localhost:8080/"
        },
        "id": "qi9Gb0o_ysog",
        "outputId": "5cd9849f-6ba5-496c-d75b-f1981acdb461"
      },
      "execution_count": 20,
      "outputs": [
        {
          "output_type": "stream",
          "name": "stdout",
          "text": [
            "cos(x)/sin(x)\n"
          ]
        }
      ]
    },
    {
      "cell_type": "markdown",
      "source": [
        "**For\n",
        "f\n",
        "(\n",
        "x\n",
        ")\n",
        "=\n",
        "cos\n",
        "⁡\n",
        "(\n",
        "x\n",
        ")\n",
        "f(x)=cos(x), verify that\n",
        "f\n",
        "′\n",
        "′\n",
        "(\n",
        "x\n",
        ")\n",
        "=\n",
        "−\n",
        "f\n",
        "(\n",
        "x\n",
        ")\n",
        "f\n",
        "′′\n",
        " (x)=−f(x)**"
      ],
      "metadata": {
        "id": "gbzGNo67yvMJ"
      }
    },
    {
      "cell_type": "code",
      "source": [
        "# Define the function f(x) = cos(x)\n",
        "f = sp.cos(x)\n",
        "\n",
        "# Compute the first and second derivatives of f(x)\n",
        "f_prime = sp.diff(f, x)\n",
        "f_double_prime = sp.diff(f_prime, x)\n",
        "\n",
        "# Print the first and second derivatives\n",
        "print(\"f'(x):\", f_prime)\n",
        "print(\"f''(x):\", f_double_prime)\n"
      ],
      "metadata": {
        "colab": {
          "base_uri": "https://localhost:8080/"
        },
        "id": "efXNxL19y5qb",
        "outputId": "a1bd4f83-a2eb-4089-f163-7ac212c02a63"
      },
      "execution_count": 21,
      "outputs": [
        {
          "output_type": "stream",
          "name": "stdout",
          "text": [
            "f'(x): -sin(x)\n",
            "f''(x): -cos(x)\n"
          ]
        }
      ]
    },
    {
      "cell_type": "markdown",
      "source": [
        "**Use L'Hôpital's Rule to find the limits:**"
      ],
      "metadata": {
        "id": "9JWbwRcnzDnf"
      }
    },
    {
      "cell_type": "markdown",
      "source": [
        "Limiting behavior of\n",
        "lim\n",
        "⁡\n",
        "x\n",
        "→\n",
        "0\n",
        "sin\n",
        "⁡\n",
        "(\n",
        "x\n",
        ")\n",
        "x\n",
        "lim\n",
        "x→0\n",
        "​\n",
        "  \n",
        "x\n",
        "sin(x)\n",
        "​\n",
        ""
      ],
      "metadata": {
        "id": "8tm7SpuTzG1x"
      }
    },
    {
      "cell_type": "code",
      "source": [
        "# Define the function for the limit sin(x) / x\n",
        "x = sp.symbols('x')\n",
        "expr = sp.sin(x) / x\n",
        "\n",
        "# Compute the limit as x approaches 0\n",
        "limit_sin_x_over_x = sp.limit(expr, x, 0)\n",
        "\n",
        "# Print the result\n",
        "print(\"lim x->0 sin(x)/x:\", limit_sin_x_over_x)\n"
      ],
      "metadata": {
        "colab": {
          "base_uri": "https://localhost:8080/"
        },
        "id": "wum2JmGlzJi9",
        "outputId": "df80f279-079d-4d70-d658-b85a2960621b"
      },
      "execution_count": 22,
      "outputs": [
        {
          "output_type": "stream",
          "name": "stdout",
          "text": [
            "lim x->0 sin(x)/x: 1\n"
          ]
        }
      ]
    },
    {
      "cell_type": "markdown",
      "source": [
        "Limiting behavior of\n",
        "lim\n",
        "⁡\n",
        "x\n",
        "→\n",
        "∞\n",
        "ln\n",
        "⁡\n",
        "(\n",
        "x\n",
        ")\n",
        "x\n",
        "lim\n",
        "x→∞\n",
        "​\n",
        "  \n",
        "x\n",
        "ln(x)\n",
        "​\n",
        ""
      ],
      "metadata": {
        "id": "-5R5_X6-zOEM"
      }
    },
    {
      "cell_type": "code",
      "source": [
        "# Define the function for the limit ln(x) / x\n",
        "expr_ln_x_over_x = sp.ln(x) / x\n",
        "\n",
        "# Compute the limit as x approaches infinity\n",
        "limit_ln_x_over_x = sp.limit(expr_ln_x_over_x, x, sp.oo)\n",
        "\n",
        "# Print the result\n",
        "print(\"lim x->infinity ln(x)/x:\", limit_ln_x_over_x)\n"
      ],
      "metadata": {
        "colab": {
          "base_uri": "https://localhost:8080/"
        },
        "id": "aNWkfZZVzO6_",
        "outputId": "2fc4b7b7-417a-41df-d6e3-0cab532fbbc7"
      },
      "execution_count": 23,
      "outputs": [
        {
          "output_type": "stream",
          "name": "stdout",
          "text": [
            "lim x->infinity ln(x)/x: 0\n"
          ]
        }
      ]
    },
    {
      "cell_type": "markdown",
      "source": [
        "Limiting behavior of\n",
        "lim\n",
        "⁡\n",
        "x\n",
        "→\n",
        "∞\n",
        "exp\n",
        "⁡\n",
        "(\n",
        "x\n",
        ")\n",
        "x\n",
        "lim\n",
        "x→∞\n",
        "​\n",
        "  \n",
        "x\n",
        "exp(x)\n",
        "​\n",
        ""
      ],
      "metadata": {
        "id": "57SLX_MezRi2"
      }
    },
    {
      "cell_type": "code",
      "source": [
        "# Define the function for the limit exp(x) / x\n",
        "expr_exp_x_over_x = sp.exp(x) / x\n",
        "\n",
        "# Compute the limit as x approaches infinity\n",
        "limit_exp_x_over_x = sp.limit(expr_exp_x_over_x, x, sp.oo)\n",
        "\n",
        "# Print the result\n",
        "print(\"lim x->infinity exp(x)/x:\", limit_exp_x_over_x)\n"
      ],
      "metadata": {
        "colab": {
          "base_uri": "https://localhost:8080/"
        },
        "id": "6HWPiqoZzUh5",
        "outputId": "a47e70a3-e31e-4107-eea9-3c6ec1cab278"
      },
      "execution_count": 24,
      "outputs": [
        {
          "output_type": "stream",
          "name": "stdout",
          "text": [
            "lim x->infinity exp(x)/x: oo\n"
          ]
        }
      ]
    },
    {
      "cell_type": "markdown",
      "source": [
        "**Find the velocity and acceleration of a particle:**"
      ],
      "metadata": {
        "id": "PmjRB6yvzetc"
      }
    },
    {
      "cell_type": "markdown",
      "source": [
        "The position of the particle is:\n",
        "\n",
        "x\n",
        "(\n",
        "t\n",
        ")\n",
        "=\n",
        "3\n",
        "t\n",
        "2\n",
        "−\n",
        "6\n",
        "t\n",
        "+\n",
        "1\n",
        "x(t)=3t\n",
        "2\n",
        " −6t+1\n",
        " Find the velocity\n",
        "V\n",
        "(\n",
        "t\n",
        ")\n",
        "=\n",
        "x\n",
        "′\n",
        "(\n",
        "t\n",
        ")\n",
        "V(t)=x\n",
        "′\n",
        " (t):"
      ],
      "metadata": {
        "id": "4EahyondzgYT"
      }
    },
    {
      "cell_type": "code",
      "source": [
        "# Define the time variable and position function x(t)\n",
        "t = sp.symbols('t')\n",
        "x_t = 3*t**2 - 6*t + 1\n",
        "\n",
        "# Compute the velocity as the first derivative of x(t)\n",
        "V_t = sp.diff(x_t, t)\n",
        "\n",
        "# Print the velocity\n",
        "print(\"Velocity V(t):\", V_t)\n"
      ],
      "metadata": {
        "colab": {
          "base_uri": "https://localhost:8080/"
        },
        "id": "3SPaov-bzmD2",
        "outputId": "569af2e9-7943-4e1e-a126-7165f27dbc50"
      },
      "execution_count": 25,
      "outputs": [
        {
          "output_type": "stream",
          "name": "stdout",
          "text": [
            "Velocity V(t): 6*t - 6\n"
          ]
        }
      ]
    },
    {
      "cell_type": "markdown",
      "source": [
        "Find the acceleration\n",
        "a\n",
        "(\n",
        "t\n",
        ")\n",
        "=\n",
        "V\n",
        "′\n",
        "(\n",
        "t\n",
        ")\n",
        "=\n",
        "x\n",
        "′\n",
        "′\n",
        "(\n",
        "t\n",
        ")\n",
        "a(t)=V\n",
        "′\n",
        " (t)=x\n",
        "′′\n",
        " (t):"
      ],
      "metadata": {
        "id": "45H9zJn5zqtw"
      }
    },
    {
      "cell_type": "code",
      "source": [
        "# Compute the acceleration as the derivative of the velocity V(t)\n",
        "a_t = sp.diff(V_t, t)\n",
        "\n",
        "# Print the acceleration\n",
        "print(\"Acceleration a(t):\", a_t)\n"
      ],
      "metadata": {
        "colab": {
          "base_uri": "https://localhost:8080/"
        },
        "id": "XXako02czrdk",
        "outputId": "597addc1-ded5-4c42-83ff-0a1d67c6ad87"
      },
      "execution_count": 26,
      "outputs": [
        {
          "output_type": "stream",
          "name": "stdout",
          "text": [
            "Acceleration a(t): 6\n"
          ]
        }
      ]
    },
    {
      "cell_type": "markdown",
      "source": [
        "Find the velocity and acceleration at\n",
        "t\n",
        "=\n",
        "2\n",
        "t=2:"
      ],
      "metadata": {
        "id": "OLyG5Xt8zwAK"
      }
    },
    {
      "cell_type": "code",
      "source": [
        "# Substitute t = 2 into the velocity and acceleration functions\n",
        "velocity_at_t_2 = V_t.subs(t, 2)\n",
        "acceleration_at_t_2 = a_t.subs(t, 2)\n",
        "\n",
        "# Print the results\n",
        "print(\"Velocity at t=2:\", velocity_at_t_2)\n",
        "print(\"Acceleration at t=2:\", acceleration_at_t_2)\n"
      ],
      "metadata": {
        "colab": {
          "base_uri": "https://localhost:8080/"
        },
        "id": "T-k8WRr_zwtr",
        "outputId": "fa128289-0c0e-4ef7-fdf3-f95154610a88"
      },
      "execution_count": 27,
      "outputs": [
        {
          "output_type": "stream",
          "name": "stdout",
          "text": [
            "Velocity at t=2: 6\n",
            "Acceleration at t=2: 6\n"
          ]
        }
      ]
    }
  ]
}