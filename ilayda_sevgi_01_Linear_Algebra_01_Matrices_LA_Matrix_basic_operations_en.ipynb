{
  "nbformat": 4,
  "nbformat_minor": 0,
  "metadata": {
    "colab": {
      "provenance": []
    },
    "kernelspec": {
      "name": "python3",
      "display_name": "Python 3"
    },
    "language_info": {
      "name": "python"
    }
  },
  "cells": [
    {
      "cell_type": "code",
      "execution_count": null,
      "metadata": {
        "colab": {
          "base_uri": "https://localhost:8080/"
        },
        "id": "dqvH4Yscn_Nt",
        "outputId": "be085595-b80d-4342-8a25-5e0d78c11bca"
      },
      "outputs": [
        {
          "output_type": "stream",
          "name": "stdout",
          "text": [
            "1. Sum of A and B:\n",
            " [[ 6  8]\n",
            " [10 12]]\n",
            "\n",
            "2. Product of matrix A and scalar 1/4:\n",
            " [[1.  0.5]\n",
            " [3.  1. ]]\n",
            "\n",
            "3. Product A * B:\n",
            " [[24 11]\n",
            " [32 18]]\n",
            "\n",
            "Product B * A:\n",
            " [[14 12]\n",
            " [26 28]]\n"
          ]
        }
      ],
      "source": [
        "import numpy as np\n",
        "\n",
        "# 1. Calculate the sum of matrices A and B\n",
        "A1 = np.array([[1, 2], [3, 4]])\n",
        "B1 = np.array([[5, 6], [7, 8]])\n",
        "\n",
        "sum_AB = A1 + B1\n",
        "print(\"1. Sum of A and B:\\n\", sum_AB)\n",
        "\n",
        "# 2. Calculate the product of matrix A and scalar k = 1/4\n",
        "A2 = np.array([[4, 2], [12, 4]])\n",
        "k = 1/4\n",
        "\n",
        "scalar_product = A2 * k\n",
        "print(\"\\n2. Product of matrix A and scalar 1/4:\\n\", scalar_product)\n",
        "\n",
        "# 3. Calculate the products A * B and B * A\n",
        "A3 = np.array([[3, 2], [2, 4]])\n",
        "B3 = np.array([[4, 1], [6, 4]])\n",
        "\n",
        "product_AB = np.dot(A3, B3)\n",
        "product_BA = np.dot(B3, A3)\n",
        "\n",
        "print(\"\\n3. Product A * B:\\n\", product_AB)\n",
        "print(\"\\nProduct B * A:\\n\", product_BA)"
      ]
    }
  ]
}