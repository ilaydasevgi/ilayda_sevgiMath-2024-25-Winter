{
  "nbformat": 4,
  "nbformat_minor": 0,
  "metadata": {
    "colab": {
      "provenance": []
    },
    "kernelspec": {
      "name": "python3",
      "display_name": "Python 3"
    },
    "language_info": {
      "name": "python"
    }
  },
  "cells": [
    {
      "cell_type": "code",
      "execution_count": 1,
      "metadata": {
        "colab": {
          "base_uri": "https://localhost:8080/"
        },
        "id": "hRtBDa1Dvveq",
        "outputId": "7cbbc2bf-9f2a-4c6d-d1e3-09f1f9a89b99"
      },
      "outputs": [
        {
          "output_type": "stream",
          "name": "stdout",
          "text": [
            "Determinant of A: -5.000000000000001\n",
            "Determinant of B: -10.000000000000002\n",
            "Determinant of C: -65.00000000000004\n",
            "Determinant of D: 40.000000000000085\n"
          ]
        }
      ],
      "source": [
        "import numpy as np\n",
        "\n",
        "# Define matrices A, B, C, D\n",
        "A = np.array([[2, 3, 1], [1, 4, 0], [3, 2, 1]])\n",
        "B = np.array([[2, 3, 1], [1, 4, 0], [3, 2, 0]])\n",
        "C = np.array([[2, 3, 1, 4], [1, 1, 0, 6], [3, 2, 1, 5], [2, 1, 4, 0]])\n",
        "D = np.array([[2, 3, 1, 4, 5], [1, 4, 0, 7, 0], [3, 0, 1, 0, 0], [2, 1, 4, 3, 5], [1, 2, 3, 4, 5]])\n",
        "\n",
        "# Calculate determinants\n",
        "det_A = np.linalg.det(A)\n",
        "det_B = np.linalg.det(B)\n",
        "det_C = np.linalg.det(C)\n",
        "det_D = np.linalg.det(D)\n",
        "\n",
        "print(f\"Determinant of A: {det_A}\")\n",
        "print(f\"Determinant of B: {det_B}\")\n",
        "print(f\"Determinant of C: {det_C}\")\n",
        "print(f\"Determinant of D: {det_D}\")"
      ]
    }
  ]
}