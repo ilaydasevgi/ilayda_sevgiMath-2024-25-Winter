{
  "nbformat": 4,
  "nbformat_minor": 0,
  "metadata": {
    "colab": {
      "provenance": []
    },
    "kernelspec": {
      "name": "python3",
      "display_name": "Python 3"
    },
    "language_info": {
      "name": "python"
    }
  },
  "cells": [
    {
      "cell_type": "code",
      "execution_count": 1,
      "metadata": {
        "colab": {
          "base_uri": "https://localhost:8080/"
        },
        "id": "XvRxhUG0wxYu",
        "outputId": "466e1037-e45d-4428-8b78-743d2745ebf1"
      },
      "outputs": [
        {
          "output_type": "stream",
          "name": "stdout",
          "text": [
            "Determinant of A (2x2): 5.000000000000001\n",
            "Determinant of B (2x2): -2.000000000000005\n",
            "Determinant of C (2x2): -6.0\n",
            "Determinant of D (3x3): -29.99999999999999\n",
            "Determinant of E (3x3): -2.0000000000000013\n",
            "Determinant of F (3x3): 60.000000000000036\n"
          ]
        }
      ],
      "source": [
        "import numpy as np\n",
        "\n",
        "# Define the 2x2 matrices A, B, C\n",
        "A_2x2 = np.array([[2, 3], [1, 4]])\n",
        "B_2x2 = np.array([[5, 6], [7, 8]])\n",
        "C_2x2 = np.array([[-1, 2], [3, 0]])\n",
        "\n",
        "# Define the 3x3 matrices D, E, F\n",
        "D_3x3 = np.array([[1, 0, 2], [-1, 3, 1], [2, 4, -2]])\n",
        "E_3x3 = np.array([[3, 0, 1], [5, 1, 2], [5, 3, 2]])\n",
        "F_3x3 = np.array([[2, -3, 1], [1, 4, -2], [1, 5, 3]])\n",
        "\n",
        "# Calculate the determinants\n",
        "det_A = np.linalg.det(A_2x2)\n",
        "det_B = np.linalg.det(B_2x2)\n",
        "det_C = np.linalg.det(C_2x2)\n",
        "\n",
        "det_D = np.linalg.det(D_3x3)\n",
        "det_E = np.linalg.det(E_3x3)\n",
        "det_F = np.linalg.det(F_3x3)\n",
        "\n",
        "# Print the results\n",
        "print(f\"Determinant of A (2x2): {det_A}\")\n",
        "print(f\"Determinant of B (2x2): {det_B}\")\n",
        "print(f\"Determinant of C (2x2): {det_C}\")\n",
        "\n",
        "print(f\"Determinant of D (3x3): {det_D}\")\n",
        "print(f\"Determinant of E (3x3): {det_E}\")\n",
        "print(f\"Determinant of F (3x3): {det_F}\")"
      ]
    }
  ]
}