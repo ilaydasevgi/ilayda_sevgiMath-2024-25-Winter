{
  "nbformat": 4,
  "nbformat_minor": 0,
  "metadata": {
    "colab": {
      "provenance": [],
      "authorship_tag": "ABX9TyMkrY6LCZxXf7r+o/pa5bhA",
      "include_colab_link": true
    },
    "kernelspec": {
      "name": "python3",
      "display_name": "Python 3"
    },
    "language_info": {
      "name": "python"
    }
  },
  "cells": [
    {
      "cell_type": "markdown",
      "metadata": {
        "id": "view-in-github",
        "colab_type": "text"
      },
      "source": [
        "<a href=\"https://colab.research.google.com/github/ilaydasevgi/ilayda_sevgiMath-2024-25-Winter/blob/main/ilayda_sevgi_LA_Vectors_introduction.ipynb\" target=\"_parent\"><img src=\"https://colab.research.google.com/assets/colab-badge.svg\" alt=\"Open In Colab\"/></a>"
      ]
    },
    {
      "cell_type": "markdown",
      "source": [
        " By what number should vector a = [3, 4) be multiplied so that its length is equal to 1?"
      ],
      "metadata": {
        "id": "Il17--Yh4FE8"
      }
    },
    {
      "cell_type": "code",
      "source": [
        "import numpy as np\n",
        "\n",
        "# Vektörü tanımla\n",
        "a = np.array([3, 4])\n",
        "\n",
        "# Vektörün uzunluğunu hesapla\n",
        "length_a = np.linalg.norm(a)\n",
        "\n",
        "# Vektörü normalize et (uzunluğunu 1 yapacak şekilde ölçeklendir)\n",
        "normalized_a = a / length_a\n",
        "\n",
        "# Sonuçları yazdır\n",
        "print(f\"Vektörün orijinal hali: {a}\")\n",
        "print(f\"Vektörün uzunluğu: {length_a}\")\n",
        "print(f\"Normalize edilmiş vektör: {normalized_a}\")\n"
      ],
      "metadata": {
        "colab": {
          "base_uri": "https://localhost:8080/"
        },
        "id": "gXunujwR4I4t",
        "outputId": "6d0af2ef-e193-428a-dc91-7e98c5bffcdd"
      },
      "execution_count": 1,
      "outputs": [
        {
          "output_type": "stream",
          "name": "stdout",
          "text": [
            "Vektörün orijinal hali: [3 4]\n",
            "Vektörün uzunluğu: 5.0\n",
            "Normalize edilmiş vektör: [0.6 0.8]\n"
          ]
        }
      ]
    },
    {
      "cell_type": "markdown",
      "source": [
        "Calculate the length of vector b = [1, 1] and find the unit vector of this vector."
      ],
      "metadata": {
        "id": "ZyjWOvp34gNT"
      }
    },
    {
      "cell_type": "code",
      "source": [
        "import numpy as np\n",
        "\n",
        "# Vektörü tanımla\n",
        "b = np.array([1, 1])\n",
        "\n",
        "# Vektörün uzunluğunu hesapla\n",
        "length_b = np.linalg.norm(b)\n",
        "\n",
        "# Vektörü normalize et (birim vektörünü bul)\n",
        "unit_b = b / length_b\n",
        "\n",
        "# Sonuçları yazdır\n",
        "print(f\"Vektörün orijinal hali: {b}\")\n",
        "print(f\"Vektörün uzunluğu: {length_b}\")\n",
        "print(f\"Vektörün birim vektörü: {unit_b}\")\n"
      ],
      "metadata": {
        "colab": {
          "base_uri": "https://localhost:8080/"
        },
        "id": "XsOnOK3v4kyo",
        "outputId": "dd6f8cf3-7b54-481e-f226-35c4d8601618"
      },
      "execution_count": 2,
      "outputs": [
        {
          "output_type": "stream",
          "name": "stdout",
          "text": [
            "Vektörün orijinal hali: [1 1]\n",
            "Vektörün uzunluğu: 1.4142135623730951\n",
            "Vektörün birim vektörü: [0.70710678 0.70710678]\n"
          ]
        }
      ]
    },
    {
      "cell_type": "markdown",
      "source": [
        "Plot the vector and the unit vector from the previous exercise."
      ],
      "metadata": {
        "id": "RET536en4yg5"
      }
    },
    {
      "cell_type": "code",
      "source": [
        "import numpy as np\n",
        "import matplotlib.pyplot as plt\n",
        "\n",
        "# Vektörü tanımla\n",
        "b = np.array([1, 1])\n",
        "\n",
        "# Vektörün uzunluğunu hesapla\n",
        "length_b = np.linalg.norm(b)\n",
        "\n",
        "# Vektörü normalize et (birim vektörünü bul)\n",
        "unit_b = b / length_b\n",
        "\n",
        "# Grafik için başlangıç noktalarını belirle\n",
        "origin = np.array([0, 0])  # Orjin\n",
        "\n",
        "# Vektörleri çiz\n",
        "plt.quiver(*origin, *b, angles='xy', scale_units='xy', scale=1, color='r', label='Vektör b = [1, 1]')\n",
        "plt.quiver(*origin, *unit_b, angles='xy', scale_units='xy', scale=1, color='b', label='Birim vektör')\n",
        "\n",
        "# Grafik ayarları\n",
        "plt.xlim(-1, 2)\n",
        "plt.ylim(-1, 2)\n",
        "plt.axhline(0, color='black',linewidth=1)\n",
        "plt.axvline(0, color='black',linewidth=1)\n",
        "plt.grid(True)\n",
        "plt.gca().set_aspect('equal', adjustable='box')\n",
        "\n",
        "# Etiketler ve başlık\n",
        "plt.legend()\n",
        "plt.title('Vektör ve Birim Vektör')\n",
        "\n",
        "# Göster\n",
        "plt.show()\n"
      ],
      "metadata": {
        "colab": {
          "base_uri": "https://localhost:8080/",
          "height": 452
        },
        "id": "ercMPBMP4y-Y",
        "outputId": "fbb06455-c48a-421f-afae-c185b9048dd8"
      },
      "execution_count": 3,
      "outputs": [
        {
          "output_type": "display_data",
          "data": {
            "text/plain": [
              "<Figure size 640x480 with 1 Axes>"
            ],
            "image/png": "[encoded data removed]"
          },
          "metadata": {}
        }
      ]
    },
    {
      "cell_type": "markdown",
      "source": [
        "Calculate the length of vector c = [1, 2, 3] and find the unit vector of this vector."
      ],
      "metadata": {
        "id": "dVbe96075MFv"
      }
    },
    {
      "cell_type": "code",
      "source": [
        "import numpy as np\n",
        "\n",
        "# Vektörü tanımla\n",
        "c = np.array([1, 2, 3])\n",
        "\n",
        "# Vektörün uzunluğunu (magnitude) hesapla\n",
        "length_c = np.linalg.norm(c)\n",
        "\n",
        "# Vektörü normalize et (birim vektörünü bul)\n",
        "unit_c = c / length_c\n",
        "\n",
        "# Sonuçları yazdır\n",
        "print(f\"Vektör c: {c}\")\n",
        "print(f\"Vektör c'nin uzunluğu: {length_c}\")\n",
        "print(f\"Vektör c'nin birim vektörü: {unit_c}\")\n"
      ],
      "metadata": {
        "colab": {
          "base_uri": "https://localhost:8080/"
        },
        "id": "GKe384Km5NAm",
        "outputId": "cda7413f-1f32-443a-abf7-99fc3237bee3"
      },
      "execution_count": 4,
      "outputs": [
        {
          "output_type": "stream",
          "name": "stdout",
          "text": [
            "Vektör c: [1 2 3]\n",
            "Vektör c'nin uzunluğu: 3.7416573867739413\n",
            "Vektör c'nin birim vektörü: [0.26726124 0.53452248 0.80178373]\n"
          ]
        }
      ]
    },
    {
      "cell_type": "markdown",
      "source": [
        "*  Find the Cartesian coordinates of vector v = [2, 3, 4] in the basis\n",
        "{b 1 = [1,0, 1], b2 = [0, 1, 0], b3 = [1, 0, —1]}."
      ],
      "metadata": {
        "id": "U_o-fjR95a20"
      }
    },
    {
      "cell_type": "code",
      "source": [
        "import numpy as np\n",
        "\n",
        "# Verilen vektör ve taban vektörleri\n",
        "v = np.array([2, 3, 4])\n",
        "b1 = np.array([1, 0, 1])\n",
        "b2 = np.array([0, 1, 0])\n",
        "b3 = np.array([1, 0, -1])\n",
        "\n",
        "# Vektörlerin lineer kombinasyonu denklemi\n",
        "# [x1, x2, x3] = [v1, v2, v3]\n",
        "# v = x1*b1 + x2*b2 + x3*b3\n",
        "\n",
        "# Matris denklemi Ax = v\n",
        "# A = [[1, 0, 1], [0, 1, 0], [1, 0, -1]]\n",
        "A = np.array([b1, b2, b3]).T  # Bunu transpoze ediyoruz çünkü Ax = v denklemi istiyoruz\n",
        "\n",
        "# Sistemi çöz\n",
        "x = np.linalg.solve(A, v)\n",
        "\n",
        "# Sonuçları yazdır\n",
        "print(f\"Vektör v'nin yeni tabandaki koordinatları: {x}\")\n"
      ],
      "metadata": {
        "colab": {
          "base_uri": "https://localhost:8080/"
        },
        "id": "Vdgryhsr5bV6",
        "outputId": "f9e99ef6-c510-4d3c-dc45-8a62ee51cdbd"
      },
      "execution_count": 5,
      "outputs": [
        {
          "output_type": "stream",
          "name": "stdout",
          "text": [
            "Vektör v'nin yeni tabandaki koordinatları: [ 3.  3. -1.]\n"
          ]
        }
      ]
    }
  ]
}