{
  "nbformat": 4,
  "nbformat_minor": 0,
  "metadata": {
    "colab": {
      "provenance": []
    },
    "kernelspec": {
      "name": "python3",
      "display_name": "Python 3"
    },
    "language_info": {
      "name": "python"
    }
  },
  "cells": [
    {
      "cell_type": "markdown",
      "source": [
        " Perform the addition of vector 2, 1] to vector [-1, 1]. Plot both vectors and their sum on a graph."
      ],
      "metadata": {
        "id": "dPCy-HPJ6uud"
      }
    },
    {
      "cell_type": "code",
      "source": [
        "import numpy as np\n",
        "import matplotlib.pyplot as plt\n",
        "\n",
        "# Vektörleri tanımla\n",
        "v1 = np.array([2, 1])\n",
        "v2 = np.array([-1, 1])\n",
        "\n",
        "# Vektörlerin toplamını hesapla\n",
        "v_sum = v1 + v2\n",
        "\n",
        "# Grafik için başlangıç noktalarını belirle\n",
        "origin = np.array([0, 0])  # Orjin\n",
        "\n",
        "# Vektörleri çiz\n",
        "plt.quiver(*origin, *v1, angles='xy', scale_units='xy', scale=1, color='r', label='Vektör [2, 1]')\n",
        "plt.quiver(*origin, *v2, angles='xy', scale_units='xy', scale=1, color='g', label='Vektör [-1, 1]')\n",
        "plt.quiver(*origin, *v_sum, angles='xy', scale_units='xy', scale=1, color='b', label='Toplam Vektör')\n",
        "\n",
        "# Grafik ayarları\n",
        "plt.xlim(-2, 3)\n",
        "plt.ylim(-1, 3)\n",
        "plt.axhline(0, color='black', linewidth=1)\n",
        "plt.axvline(0, color='black', linewidth=1)\n",
        "plt.grid(True)\n",
        "plt.gca().set_aspect('equal', adjustable='box')\n",
        "\n",
        "# Etiketler ve başlık\n",
        "plt.legend()\n",
        "plt.title('Vektörler ve Toplamları')\n",
        "\n",
        "# Göster\n",
        "plt.show()\n"
      ],
      "metadata": {
        "colab": {
          "base_uri": "https://localhost:8080/",
          "height": 452
        },
        "id": "8hTyUfCf6xTo",
        "outputId": "35a6c973-1acd-4965-8bb8-89e899e42f0d"
      },
      "execution_count": 1,
      "outputs": [
        {
          "output_type": "display_data",
          "data": {
            "text/plain": [
              "<Figure size 640x480 with 1 Axes>"
            ],
            "image/png": "[encoded data removed]"
          },
          "metadata": {}
        }
      ]
    },
    {
      "cell_type": "markdown",
      "source": [
        "Calculate the area of the triangle spanned by vectors 2, 1] and [-1, 1]."
      ],
      "metadata": {
        "id": "KR9upmpZ64QD"
      }
    },
    {
      "cell_type": "code",
      "source": [
        "import numpy as np\n",
        "\n",
        "# Vektörleri tanımla\n",
        "v1 = np.array([2, 1])\n",
        "v2 = np.array([-1, 1])\n",
        "\n",
        "# Çapraz çarpımı hesapla (2D vektörler için determinant)\n",
        "cross_product = np.abs(np.cross(v1, v2))\n",
        "\n",
        "# Üçgenin alanını hesapla\n",
        "area = 0.5 * cross_product\n",
        "\n",
        "# Sonucu yazdır\n",
        "print(f\"Vektörler ile oluşturulan üçgenin alanı: {area}\")\n"
      ],
      "metadata": {
        "colab": {
          "base_uri": "https://localhost:8080/"
        },
        "id": "3u8f8jLd64l5",
        "outputId": "3d3721d3-2b18-4b22-902a-f323811517ae"
      },
      "execution_count": 2,
      "outputs": [
        {
          "output_type": "stream",
          "name": "stdout",
          "text": [
            "Vektörler ile oluşturulan üçgenin alanı: 1.5\n"
          ]
        }
      ]
    },
    {
      "cell_type": "markdown",
      "source": [
        "Calculate the volume of the parallelepiped spanned by vectors 2, 1], (-1, 1], and [1, 2)."
      ],
      "metadata": {
        "id": "pjhG_0p57IyT"
      }
    },
    {
      "cell_type": "code",
      "source": [
        "import numpy as np\n",
        "\n",
        "# Vektörleri tanımla\n",
        "v1 = np.array([2, 1, 0])  # Zeksiz 3. boyut ekliyoruz (0)\n",
        "v2 = np.array([-1, 1, 0])  # Zeksiz 3. boyut ekliyoruz (0)\n",
        "v3 = np.array([1, 2, 0])   # Zeksiz 3. boyut ekliyoruz (0)\n",
        "\n",
        "# Çapraz çarpım v2 x v3\n",
        "cross_product = np.cross(v2, v3)\n",
        "\n",
        "# Skaler çarpım v1 . (v2 x v3)\n",
        "volume = abs(np.dot(v1, cross_product))\n",
        "\n",
        "# Sonucu yazdır\n",
        "print(f\"Paralelipiped'in hacmi: {volume}\")\n"
      ],
      "metadata": {
        "colab": {
          "base_uri": "https://localhost:8080/"
        },
        "id": "0oquIAuk7JGg",
        "outputId": "1f9ac7fd-98a6-4b20-a34f-172ec9a7fd6d"
      },
      "execution_count": 3,
      "outputs": [
        {
          "output_type": "stream",
          "name": "stdout",
          "text": [
            "Paralelipiped'in hacmi: 0\n"
          ]
        }
      ]
    },
    {
      "cell_type": "markdown",
      "source": [
        "Check if vectors 2, 1] and -1, 1 are perpendicular."
      ],
      "metadata": {
        "id": "IO3q268l7arv"
      }
    },
    {
      "cell_type": "code",
      "source": [
        "import numpy as np\n",
        "\n",
        "# Vektörleri tanımla\n",
        "v1 = np.array([2, 1])\n",
        "v2 = np.array([-1, 1])\n",
        "\n",
        "# Skaler çarpımı hesapla\n",
        "dot_product = np.dot(v1, v2)\n",
        "\n",
        "# Vektörlerin dik olup olmadığını kontrol et\n",
        "if dot_product == 0:\n",
        "    print(\"Vektörler dik (perpendicular).\")\n",
        "else:\n",
        "    print(\"Vektörler dik değil.\")\n"
      ],
      "metadata": {
        "colab": {
          "base_uri": "https://localhost:8080/"
        },
        "id": "xRqqfdki7b6b",
        "outputId": "6ba5498d-8b60-4460-943f-c256d6bbb1b1"
      },
      "execution_count": 4,
      "outputs": [
        {
          "output_type": "stream",
          "name": "stdout",
          "text": [
            "Vektörler dik değil.\n"
          ]
        }
      ]
    },
    {
      "cell_type": "markdown",
      "source": [
        "Calculate the angle in degrees between vectors 4, 2, 1] and [1, 3, 2)."
      ],
      "metadata": {
        "id": "k-fd2x1b7l0h"
      }
    },
    {
      "cell_type": "code",
      "source": [
        "import numpy as np\n",
        "\n",
        "# Vektörleri tanımla\n",
        "v1 = np.array([4, 2, 1])\n",
        "v2 = np.array([1, 3, 2])\n",
        "\n",
        "# Skaler çarpımı hesapla\n",
        "dot_product = np.dot(v1, v2)\n",
        "\n",
        "# Vektörlerin uzunluklarını (magnitude) hesapla\n",
        "magnitude_v1 = np.linalg.norm(v1)\n",
        "magnitude_v2 = np.linalg.norm(v2)\n",
        "\n",
        "# İki vektör arasındaki açıyı hesapla (radyan cinsinden)\n",
        "cos_theta = dot_product / (magnitude_v1 * magnitude_v2)\n",
        "theta_radians = np.arccos(cos_theta)\n",
        "\n",
        "# Açıyı derece cinsine çevir\n",
        "theta_degrees = np.degrees(theta_radians)\n",
        "\n",
        "# Sonucu yazdır\n",
        "print(f\"İki vektör arasındaki açı: {theta_degrees} derece\")\n"
      ],
      "metadata": {
        "colab": {
          "base_uri": "https://localhost:8080/"
        },
        "id": "Mk-Mby2l7mGD",
        "outputId": "8e599cb7-9d34-47d6-853a-9c95c847b182"
      },
      "execution_count": 5,
      "outputs": [
        {
          "output_type": "stream",
          "name": "stdout",
          "text": [
            "İki vektör arasındaki açı: 45.58469140280702 derece\n"
          ]
        }
      ]
    },
    {
      "cell_type": "markdown",
      "source": [
        "* For three-dimensional vectors: a = ax, ay, ax, b = [0x, by, bz, c= Cx, Cy, Ca, prove that the following identity is satisfied:\n",
        "a x (b x c) = (a • c)b - (a • b)c."
      ],
      "metadata": {
        "id": "MbG2FVha71W_"
      }
    },
    {
      "cell_type": "code",
      "source": [
        "import numpy as np\n",
        "\n",
        "# Vektörleri tanımla\n",
        "a = np.array([1, 2, 3])  # Örnek a vektörü\n",
        "b = np.array([4, 5, 6])  # Örnek b vektörü\n",
        "c = np.array([7, 8, 9])  # Örnek c vektörü\n",
        "\n",
        "# Sol taraf: a x (b x c)\n",
        "b_cross_c = np.cross(b, c)  # b x c\n",
        "a_cross_b_cross_c = np.cross(a, b_cross_c)  # a x (b x c)\n",
        "\n",
        "# Sağ taraf: (a • c)b - (a • b)c\n",
        "a_dot_c = np.dot(a, c)\n",
        "a_dot_b = np.dot(a, b)\n",
        "right_side = a_dot_c * b - a_dot_b * c\n",
        "\n",
        "# Sonuçları yazdır\n",
        "print(\"Sol taraf (a x (b x c)): \", a_cross_b_cross_c)\n",
        "print(\"Sağ taraf ((a • c)b - (a • b)c): \", right_side)\n",
        "\n",
        "# Eşit olup olmadığını kontrol et\n",
        "if np.allclose(a_cross_b_cross_c, right_side):\n",
        "    print(\"Eşitlik doğrulandı!\")\n",
        "else:\n",
        "    print(\"Eşitlik doğrulanamadı.\")\n"
      ],
      "metadata": {
        "colab": {
          "base_uri": "https://localhost:8080/"
        },
        "id": "kXxlnOiF72w8",
        "outputId": "75e0aca0-20e2-44fd-c801-b593581b7110"
      },
      "execution_count": 6,
      "outputs": [
        {
          "output_type": "stream",
          "name": "stdout",
          "text": [
            "Sol taraf (a x (b x c)):  [-24  -6  12]\n",
            "Sağ taraf ((a • c)b - (a • b)c):  [-24  -6  12]\n",
            "Eşitlik doğrulandı!\n"
          ]
        }
      ]
    }
  ]
}