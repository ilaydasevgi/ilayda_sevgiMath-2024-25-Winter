{
  "nbformat": 4,
  "nbformat_minor": 0,
  "metadata": {
    "colab": {
      "provenance": []
    },
    "kernelspec": {
      "name": "python3",
      "display_name": "Python 3"
    },
    "language_info": {
      "name": "python"
    }
  },
  "cells": [
    {
      "cell_type": "markdown",
      "source": [
        "The line passes through points\n",
        "A\n",
        "(\n",
        "1\n",
        ",\n",
        "2\n",
        ")\n",
        " and\n",
        "B\n",
        "(\n",
        "3\n",
        ",\n",
        "4\n",
        ")\n",
        ". Find the equation of the line."
      ],
      "metadata": {
        "id": "Ff85sxqpMqXx"
      }
    },
    {
      "cell_type": "code",
      "source": [
        "# Noktalar A ve B\n",
        "A = (1, 2)\n",
        "B = (3, 4)\n",
        "\n",
        "# Eğimi hesaplama\n",
        "x1, y1 = A\n",
        "x2, y2 = B\n",
        "m = (y2 - y1) / (x2 - x1)  # Slope formula: m = (y2 - y1) / (x2 - x1)\n",
        "\n",
        "# Doğru denklemi y = mx + c için c'yi bulma\n",
        "c = y1 - m * x1  # y = mx + c => c = y - mx\n",
        "\n",
        "# Doğru denklemini yazdırma\n",
        "print(f\"Doğrunun denklemi: y = {m:.2f}x + {c:.2f}\")\n"
      ],
      "metadata": {
        "colab": {
          "base_uri": "https://localhost:8080/"
        },
        "id": "Dh5s6A7NMta_",
        "outputId": "3eabf09e-5ba9-47b0-98ac-f5b1faec1a3b"
      },
      "execution_count": 1,
      "outputs": [
        {
          "output_type": "stream",
          "name": "stdout",
          "text": [
            "Doğrunun denklemi: y = 1.00x + 1.00\n"
          ]
        }
      ]
    },
    {
      "cell_type": "markdown",
      "source": [
        "The line passes through point\n",
        "A\n",
        "(\n",
        "1\n",
        ",\n",
        "2\n",
        ")\n",
        " and is parallel to the line\n",
        "y\n",
        "=\n",
        "2\n",
        "x\n",
        "+\n",
        "3\n",
        ". Find the equation of the line."
      ],
      "metadata": {
        "id": "jEpjYTrvMqgy"
      }
    },
    {
      "cell_type": "code",
      "source": [
        "# Paralel doğru eğimi\n",
        "m = 2  # Verilen doğrunun eğimi (paralel olduğu için eğim aynı)\n",
        "\n",
        "# Doğrunun geçtiği nokta\n",
        "x1, y1 = 1, 2\n",
        "\n",
        "# Doğru denklemi y = mx + c formunda c'yi hesaplama\n",
        "c = y1 - m * x1  # c = y - mx\n",
        "\n",
        "# Sonuç\n",
        "print(f\"Doğrunun denklemi: y = {m}x + {c}\")\n"
      ],
      "metadata": {
        "colab": {
          "base_uri": "https://localhost:8080/"
        },
        "id": "U98P-eFdMtyL",
        "outputId": "613cd68d-8001-46a5-f07d-f8c48e91a304"
      },
      "execution_count": 2,
      "outputs": [
        {
          "output_type": "stream",
          "name": "stdout",
          "text": [
            "Doğrunun denklemi: y = 2x + 0\n"
          ]
        }
      ]
    },
    {
      "cell_type": "markdown",
      "source": [
        "The line passes through point\n",
        "A\n",
        "(\n",
        "1\n",
        ",\n",
        "2\n",
        ")\n",
        " and is perpendicular to the line\n",
        "y\n",
        "=\n",
        "2\n",
        "x\n",
        "+\n",
        "3\n",
        ". Find the equation of the line."
      ],
      "metadata": {
        "id": "Xepa7fbrMqol"
      }
    },
    {
      "cell_type": "code",
      "source": [
        "# Verilen doğru ve noktalar\n",
        "x1, y1 = 1, 2  # Geçtiği nokta A(1, 2)\n",
        "m1 = 3         # Verilen doğrunun eğimi\n",
        "\n",
        "# Dik doğrunun eğimi\n",
        "m2 = -1 / m1   # Dik eğim: m2 = -1/m1\n",
        "\n",
        "# Doğru denklemi y = m2*x + c için c'yi bulma\n",
        "c = y1 - m2 * x1  # c = y - m2*x\n",
        "\n",
        "# Sonuç\n",
        "print(f\"Doğrunun denklemi: y = {m2:.2f}x + {c:.2f}\")\n"
      ],
      "metadata": {
        "colab": {
          "base_uri": "https://localhost:8080/"
        },
        "id": "Kc7nTpwlMuWr",
        "outputId": "add7c64d-0a8a-4177-82c0-7ea07ab96cf3"
      },
      "execution_count": 3,
      "outputs": [
        {
          "output_type": "stream",
          "name": "stdout",
          "text": [
            "Doğrunun denklemi: y = -0.33x + 2.33\n"
          ]
        }
      ]
    },
    {
      "cell_type": "markdown",
      "source": [
        "We have two lines\n",
        "y\n",
        "=\n",
        "2\n",
        "x\n",
        "+\n",
        "3\n",
        " and\n",
        "y\n",
        "=\n",
        "3\n",
        "x\n",
        "+\n",
        "2\n",
        ". Find the intersection point of these lines and calculate the angle between them."
      ],
      "metadata": {
        "id": "lNLkqe-IMqvL"
      }
    },
    {
      "cell_type": "code",
      "source": [
        "import math\n",
        "\n",
        "# 1. Doğrunun eğimi\n",
        "m1 = 2\n",
        "# 2. Doğrunun eğimi\n",
        "m2 = 3\n",
        "\n",
        "# Kesişim noktasını bulmak\n",
        "# y = 2x + 3 ve y = 3x + 2 doğrularını birbirine eşitliyoruz.\n",
        "# 2x + 3 = 3x + 2\n",
        "# 2x - 3x = 2 - 3\n",
        "# -x = -1\n",
        "# x = 1\n",
        "\n",
        "x = 1\n",
        "y = 2 * x + 3  # y = 2x + 3 denklemini kullanarak y'yi buluyoruz.\n",
        "\n",
        "# Kesişim noktası\n",
        "intersection_point = (x, y)\n",
        "print(\"Kesişim noktası:\", intersection_point)\n",
        "\n",
        "# İki doğru arasındaki açıyı hesaplamak\n",
        "# θ = arctan(|(m1 - m2) / (1 + m1 * m2)|)\n",
        "tan_theta = abs((m1 - m2) / (1 + m1 * m2))\n",
        "theta_rad = math.atan(tan_theta)  # Radyan cinsinden açı\n",
        "theta_deg = math.degrees(theta_rad)  # Derece cinsine dönüştürme\n",
        "\n",
        "# Açı\n",
        "print(f\"Doğrular arasındaki açı: {theta_deg:.2f} derece\")\n"
      ],
      "metadata": {
        "colab": {
          "base_uri": "https://localhost:8080/"
        },
        "id": "M22VKnDjMu4_",
        "outputId": "69f456ed-1c3e-4590-d1d3-36f4c8dda4dc"
      },
      "execution_count": 4,
      "outputs": [
        {
          "output_type": "stream",
          "name": "stdout",
          "text": [
            "Kesişim noktası: (1, 5)\n",
            "Doğrular arasındaki açı: 8.13 derece\n"
          ]
        }
      ]
    },
    {
      "cell_type": "markdown",
      "source": [
        "Write the equation of the line passing through point\n",
        "A\n",
        "(\n",
        "1\n",
        ",\n",
        "2\n",
        ")\n",
        " and parallel to the vector\n",
        "v\n",
        "→\n",
        "=\n",
        "[\n",
        "2\n",
        ",\n",
        "3\n",
        "]\n",
        "."
      ],
      "metadata": {
        "id": "jWaFsr_CMsO2"
      }
    },
    {
      "cell_type": "code",
      "source": [
        "# Verilenler\n",
        "A = (1, 2)  # Nokta A (x1, y1)\n",
        "v = [2, 3]  # Vektör v = [v_x, v_y]\n",
        "\n",
        "# Vektörün eğimi (m)\n",
        "m = v[1] / v[0]  # m = v_y / v_x\n",
        "\n",
        "# Doğru denklemi y - y1 = m(x - x1)\n",
        "# Burada x1 = 1, y1 = 2\n",
        "x1, y1 = A\n",
        "\n",
        "# Denklemi çözmek\n",
        "# y - y1 = m(x - x1) => y = m * (x - x1) + y1\n",
        "# y = m * x - m * x1 + y1\n",
        "\n",
        "# y'nin denklemi:\n",
        "def line_equation(x):\n",
        "    return m * (x - x1) + y1\n",
        "\n",
        "# Sonucu yazdıralım\n",
        "print(f\"Doğrunun denklemi: y = {m} * (x - {x1}) + {y1}\")\n"
      ],
      "metadata": {
        "colab": {
          "base_uri": "https://localhost:8080/"
        },
        "id": "5dv_2K-tMvlP",
        "outputId": "2f2f784e-fd3a-4963-9395-164b0e6b1dd9"
      },
      "execution_count": 5,
      "outputs": [
        {
          "output_type": "stream",
          "name": "stdout",
          "text": [
            "Doğrunun denklemi: y = 1.5 * (x - 1) + 2\n"
          ]
        }
      ]
    },
    {
      "cell_type": "markdown",
      "source": [
        "We have the line\n",
        "y\n",
        "=\n",
        "2\n",
        "x\n",
        "+\n",
        "3\n",
        ". Find an example of a line perpendicular and parallel to it."
      ],
      "metadata": {
        "id": "rCzPnJtXMsbR"
      }
    },
    {
      "cell_type": "code",
      "source": [
        "# Verilen doğru için eğim\n",
        "m = 2\n",
        "\n",
        "# Paralel doğru: eğim aynı olacak\n",
        "m_parallel = m\n",
        "\n",
        "# Dik doğru: eğim -1/m olacak\n",
        "m_perpendicular = -1 / m\n",
        "\n",
        "# Paralel doğrunun denklemi y = m_parallel * x + b\n",
        "# Örnek olarak, paralel doğru A(1, 4) noktasından geçsin\n",
        "x1, y1 = 1, 4  # Paralel doğrunun geçtiği nokta\n",
        "b_parallel = y1 - m_parallel * x1  # y-kesimi hesaplanır\n",
        "\n",
        "# Dik doğrunun denklemi y = m_perpendicular * x + b\n",
        "# Örnek olarak, dik doğru A(1, 4) noktasından geçsin\n",
        "b_perpendicular = y1 - m_perpendicular * x1  # y-kesimi hesaplanır\n",
        "\n",
        "# Sonuçları yazdıralım\n",
        "print(f\"Paralel doğrunun denklemi: y = {m_parallel} * x + {b_parallel}\")\n",
        "print(f\"Dik doğrunun denklemi: y = {m_perpendicular} * x + {b_perpendicular}\")\n"
      ],
      "metadata": {
        "colab": {
          "base_uri": "https://localhost:8080/"
        },
        "id": "oFeuj02NMwGt",
        "outputId": "4d4e7d01-10fb-425a-ef08-152ae979cdd6"
      },
      "execution_count": 6,
      "outputs": [
        {
          "output_type": "stream",
          "name": "stdout",
          "text": [
            "Paralel doğrunun denklemi: y = 2 * x + 2\n",
            "Dik doğrunun denklemi: y = -0.5 * x + 4.5\n"
          ]
        }
      ]
    },
    {
      "cell_type": "markdown",
      "source": [
        "We have the line\n",
        "y\n",
        "=\n",
        "2\n",
        "x\n",
        "+\n",
        "3\n",
        " and point\n",
        "A\n",
        "(\n",
        "1\n",
        ",\n",
        "2\n",
        ")\n",
        ". Find the distance from point\n",
        "A\n",
        " to the line."
      ],
      "metadata": {
        "id": "zDNTakDdMskl"
      }
    },
    {
      "cell_type": "code",
      "source": [
        "import math\n",
        "\n",
        "# Doğrunun denklemi: 2x - y + 3 = 0\n",
        "A = 2\n",
        "B = -1\n",
        "C = 3\n",
        "\n",
        "# Verilen nokta A(1, 2)\n",
        "x1, y1 = 1, 2\n",
        "\n",
        "# Mesafe formülünü kullanarak mesafeyi hesaplıyoruz\n",
        "distance = abs(A * x1 + B * y1 + C) / math.sqrt(A**2 + B**2)\n",
        "\n",
        "# Sonucu yazdırıyoruz\n",
        "print(f\"Noktadan doğruya olan mesafe: {distance:.2f}\")\n"
      ],
      "metadata": {
        "colab": {
          "base_uri": "https://localhost:8080/"
        },
        "id": "_cElpwUMMwgC",
        "outputId": "e9128130-de32-4a3f-a09a-c55ea385a968"
      },
      "execution_count": 7,
      "outputs": [
        {
          "output_type": "stream",
          "name": "stdout",
          "text": [
            "Noktadan doğruya olan mesafe: 1.34\n"
          ]
        }
      ]
    },
    {
      "cell_type": "markdown",
      "source": [
        "The line intersects the coordinate axes at points\n",
        "A\n",
        "(\n",
        "2\n",
        ",\n",
        "0\n",
        ")\n",
        " and\n",
        "B\n",
        "(\n",
        "0\n",
        ",\n",
        "3\n",
        ")\n",
        ". Find the equation of the line."
      ],
      "metadata": {
        "id": "dV4VNx2xMssF"
      }
    },
    {
      "cell_type": "code",
      "source": [
        "# Verilen noktalar\n",
        "x1, y1 = 2, 0  # A(2, 0)\n",
        "x2, y2 = 0, 3  # B(0, 3)\n",
        "\n",
        "# Eğim hesaplanır\n",
        "m = (y2 - y1) / (x2 - x1)\n",
        "\n",
        "# Doğru denklemi y - y1 = m(x - x1) formülüne göre:\n",
        "# y = m * (x - x1) + y1\n",
        "def line_equation(x):\n",
        "    return m * (x - x1) + y1\n",
        "\n",
        "# Sonuçları yazdıralım\n",
        "print(f\"Doğrunun denklemi: y = {m} * (x - {x1}) + {y1}\")\n"
      ],
      "metadata": {
        "colab": {
          "base_uri": "https://localhost:8080/"
        },
        "id": "RE6_2jS1Mw0q",
        "outputId": "04ced816-ecc3-4dc2-fc67-33ecff6614c6"
      },
      "execution_count": 8,
      "outputs": [
        {
          "output_type": "stream",
          "name": "stdout",
          "text": [
            "Doğrunun denklemi: y = -1.5 * (x - 2) + 0\n"
          ]
        }
      ]
    },
    {
      "cell_type": "markdown",
      "source": [
        "Calculate the angle between the line\n",
        "y\n",
        "=\n",
        "x\n",
        "+\n",
        "3\n",
        " and the\n",
        "O\n",
        "x\n",
        " axis.\n",
        "\n"
      ],
      "metadata": {
        "id": "kCqVHYvIMszi"
      }
    },
    {
      "cell_type": "code",
      "source": [
        "import math\n",
        "\n",
        "# Doğrunun eğimi\n",
        "m = 1  # y = x + 3'teki eğim\n",
        "\n",
        "# Açıyı hesaplamak için tan^-1(m)\n",
        "theta_rad = math.atan(abs(m))  # Radyan cinsinden açı\n",
        "theta_deg = math.degrees(theta_rad)  # Derece cinsine dönüştürme\n",
        "\n",
        "# Sonucu yazdıralım\n",
        "print(f\"Doğrunun OX ekseni ile yaptığı açı: {theta_deg:.2f} derece\")\n"
      ],
      "metadata": {
        "colab": {
          "base_uri": "https://localhost:8080/"
        },
        "id": "YoIq9Ld5MxKS",
        "outputId": "ebee51a8-72c2-4924-b81e-8e7ce5348dcf"
      },
      "execution_count": 9,
      "outputs": [
        {
          "output_type": "stream",
          "name": "stdout",
          "text": [
            "Doğrunun OX ekseni ile yaptığı açı: 45.00 derece\n"
          ]
        }
      ]
    },
    {
      "cell_type": "markdown",
      "source": [
        "Provide a vector perpendicular to the line\n",
        "x\n",
        "+\n",
        "y\n",
        "+\n",
        "1\n",
        "=\n",
        "0\n",
        "."
      ],
      "metadata": {
        "id": "6JvvWfFNMs6l"
      }
    },
    {
      "cell_type": "code",
      "source": [
        "# Verilen doğrunun eğimi m = -1 olduğundan, ona dik olan vektör [-m, 1] olacaktır\n",
        "m = -1\n",
        "\n",
        "# Dik vektörü hesaplıyoruz\n",
        "perpendicular_vector = [1, 1]\n",
        "\n",
        "# Sonucu yazdırıyoruz\n",
        "print(f\"Doğruya dik vektör: {perpendicular_vector}\")\n"
      ],
      "metadata": {
        "colab": {
          "base_uri": "https://localhost:8080/"
        },
        "id": "YyilRByrMxhv",
        "outputId": "8d6bf37a-7387-4b74-e45c-b7564d06c007"
      },
      "execution_count": 10,
      "outputs": [
        {
          "output_type": "stream",
          "name": "stdout",
          "text": [
            "Doğruya dik vektör: [1, 1]\n"
          ]
        }
      ]
    }
  ]
}