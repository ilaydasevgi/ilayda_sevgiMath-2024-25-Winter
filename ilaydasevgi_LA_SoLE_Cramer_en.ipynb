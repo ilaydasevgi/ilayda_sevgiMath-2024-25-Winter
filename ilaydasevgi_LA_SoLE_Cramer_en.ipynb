{
  "nbformat": 4,
  "nbformat_minor": 0,
  "metadata": {
    "colab": {
      "provenance": [],
      "authorship_tag": "ABX9TyPR9ck5OqLpHxJl+DZs4U0A",
      "include_colab_link": true
    },
    "kernelspec": {
      "name": "python3",
      "display_name": "Python 3"
    },
    "language_info": {
      "name": "python"
    }
  },
  "cells": [
    {
      "cell_type": "markdown",
      "metadata": {
        "id": "view-in-github",
        "colab_type": "text"
      },
      "source": [
        "<a href=\"https://colab.research.google.com/github/ilaydasevgi/ilayda_sevgiMath-2024-25-Winter/blob/main/ilaydasevgi_LA_SoLE_Cramer_en.ipynb\" target=\"_parent\"><img src=\"https://colab.research.google.com/assets/colab-badge.svg\" alt=\"Open In Colab\"/></a>"
      ]
    },
    {
      "cell_type": "code",
      "source": [
        "from sympy import symbols, Eq, solve\n",
        "\n",
        "# Değişkenleri tanımla\n",
        "x1, x2, x, y, z, t = symbols('x1 x2 x y z t')\n",
        "\n",
        "# 1. Sistemi çöz (x1 ve x2 için)\n",
        "# 2x1 - 3x2 = 7\n",
        "# 3x1 + 5x2 = -2\n",
        "eq1_1 = Eq(2*x1 - 3*x2, 7)\n",
        "eq1_2 = Eq(3*x1 + 5*x2, -2)\n",
        "solution_1 = solve((eq1_1, eq1_2), (x1, x2))\n",
        "print(\"1. Sorunun çözümü:\", solution_1)"
      ],
      "metadata": {
        "colab": {
          "base_uri": "https://localhost:8080/"
        },
        "id": "svsEAGvLOw6Z",
        "outputId": "b4842de3-9d35-4f90-dd2f-e19081d0c937"
      },
      "execution_count": null,
      "outputs": [
        {
          "output_type": "stream",
          "name": "stdout",
          "text": [
            "1. Sorunun çözümü: {x1: 29/19, x2: -25/19}\n"
          ]
        }
      ]
    },
    {
      "cell_type": "code",
      "source": [
        "# 2. Sistemi çöz (x, y ve z için)\n",
        "# 2x + y - z = 1\n",
        "# x - y + 2z = 4\n",
        "# 3x - 2z = -1\n",
        "eq2_1 = Eq(2*x + y - z, 1)\n",
        "eq2_2 = Eq(x - y + 2*z, 4)\n",
        "eq2_3 = Eq(3*x - 2*z, -1)\n",
        "solution_2 = solve((eq2_1, eq2_2, eq2_3), (x, y, z))\n",
        "print(\"2. Sorunun çözümü:\", solution_2)"
      ],
      "metadata": {
        "colab": {
          "base_uri": "https://localhost:8080/"
        },
        "id": "IkvGVYjbO__-",
        "outputId": "cfd71db2-c4ad-41d0-835d-d0b8bd9572d7"
      },
      "execution_count": null,
      "outputs": [
        {
          "output_type": "stream",
          "name": "stdout",
          "text": [
            "2. Sorunun çözümü: {x: 1, y: 1, z: 2}\n"
          ]
        }
      ]
    },
    {
      "cell_type": "code",
      "source": [
        "# 3. Sistemi çöz (x, y, z ve t için)\n",
        "# x + y + z - t = 2\n",
        "# x - z + 2t = 6\n",
        "# 2x - 3y + t = 4\n",
        "# 3x + y + 3z - 4t = -2\n",
        "eq3_1 = Eq(x + y + z - t, 2)\n",
        "eq3_2 = Eq(x - z + 2*t, 6)\n",
        "eq3_3 = Eq(2*x - 3*y + t, 4)\n",
        "eq3_4 = Eq(3*x + y + 3*z - 4*t, -2)\n",
        "solution_3 = solve((eq3_1, eq3_2, eq3_3, eq3_4), (x, y, z, t))\n",
        "print(\"3. Sorunun çözümü:\", solution_3)"
      ],
      "metadata": {
        "colab": {
          "base_uri": "https://localhost:8080/"
        },
        "id": "F9Fy_j4XPQ1D",
        "outputId": "4909fe85-b2f8-4731-a1b8-f9ef6ea640fb"
      },
      "execution_count": null,
      "outputs": [
        {
          "output_type": "stream",
          "name": "stdout",
          "text": [
            "3. Sorunun çözümü: {t: 6, x: 1/2, y: 1, z: 13/2}\n"
          ]
        }
      ]
    },
    {
      "cell_type": "code",
      "source": [
        "# 4. Neden Cramer's kuralı ile çözülemez?\n",
        "# Sistem:\n",
        "# x1 + 2x2 + 3x3 = 3\n",
        "# 4x1 + 5x2 + 6x3 = 2\n",
        "# 7x1 + 8x2 + 9x3 = 1\n",
        "# Bu sistemin determinantını hesaplayarak Cramer's kuralına uygun olup olmadığını kontrol edeceğiz.\n",
        "from sympy import Matrix\n",
        "\n",
        "# Katsayı matrisi\n",
        "matrix_4 = Matrix([\n",
        "    [1, 2, 3],\n",
        "    [4, 5, 6],\n",
        "    [7, 8, 9]\n",
        "])\n",
        "\n",
        "# Determinantı hesapla\n",
        "det_4 = matrix_4.det()\n",
        "print(\"4. Sorunun determinantı:\", det_4)\n",
        "\n",
        "# Determinant sıfırsa, sistem Cramer's kuralı ile çözülemez\n",
        "if det_4 == 0:\n",
        "    print(\"4. Soru: Bu sistem Cramer's kuralı ile çözülemez çünkü determinant sıfırdır.\")\n",
        "else:\n",
        "    print(\"4. Soru: Bu sistem Cramer's kuralı ile çözülebilir çünkü determinant sıfır değildir.\")"
      ],
      "metadata": {
        "colab": {
          "base_uri": "https://localhost:8080/"
        },
        "id": "kwcIXlzhPefo",
        "outputId": "8c516c7b-894b-4209-e629-406681794c87"
      },
      "execution_count": null,
      "outputs": [
        {
          "output_type": "stream",
          "name": "stdout",
          "text": [
            "4. Sorunun determinantı: 0\n",
            "4. Soru: Bu sistem Cramer's kuralı ile çözülemez çünkü determinant sıfırdır.\n"
          ]
        }
      ]
    }
  ]
}